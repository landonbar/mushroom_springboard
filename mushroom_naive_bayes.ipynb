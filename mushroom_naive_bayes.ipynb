{
 "cells": [
  {
   "cell_type": "code",
   "execution_count": 2,
   "metadata": {
    "collapsed": false
   },
   "outputs": [
    {
     "data": {
      "text/html": [
       "<style>body {\n",
       "    margin: 0;\n",
       "    font-family: Helvetica;\n",
       "}\n",
       "table.dataframe {\n",
       "    border-collapse: collapse;\n",
       "    border: none;\n",
       "}\n",
       "table.dataframe tr {\n",
       "    border: none;\n",
       "}\n",
       "table.dataframe td, table.dataframe th {\n",
       "    margin: 0;\n",
       "    border: 1px solid white;\n",
       "    padding-left: 0.25em;\n",
       "    padding-right: 0.25em;\n",
       "}\n",
       "table.dataframe th:not(:empty) {\n",
       "    background-color: #fec;\n",
       "    text-align: left;\n",
       "    font-weight: normal;\n",
       "}\n",
       "table.dataframe tr:nth-child(2) th:empty {\n",
       "    border-left: none;\n",
       "    border-right: 1px dashed #888;\n",
       "}\n",
       "table.dataframe td {\n",
       "    border: 2px solid #ccf;\n",
       "    background-color: #f4f4ff;\n",
       "}\n",
       "h3 {\n",
       "    color: white;\n",
       "    background-color: black;\n",
       "    padding: 0.5em;\n",
       "}\n",
       "</style>"
      ],
      "text/plain": [
       "<IPython.core.display.HTML object>"
      ]
     },
     "execution_count": 2,
     "metadata": {},
     "output_type": "execute_result"
    }
   ],
   "source": [
    "from IPython.core.display import HTML\n",
    "css = open('style-table.css').read() + open('style-notebook.css').read()\n",
    "HTML('<style>{}</style>'.format(css))"
   ]
  },
  {
   "cell_type": "code",
   "execution_count": 83,
   "metadata": {
    "collapsed": false
   },
   "outputs": [
    {
     "data": {
      "text/plain": [
       "8124"
      ]
     },
     "execution_count": 83,
     "metadata": {},
     "output_type": "execute_result"
    }
   ],
   "source": [
    "import pandas as pd\n",
    "import random\n",
    "import math\n",
    "random.seed(31415)\n",
    "mdata = pd.DataFrame.from_csv('mdata/expanded.csv',index_col=False).drop_duplicates()\n",
    "mdata=mdata.sample(frac=1,random_state=31415)\n",
    "len(mdata.values)"
   ]
  },
  {
   "cell_type": "code",
   "execution_count": 114,
   "metadata": {
    "collapsed": false
   },
   "outputs": [
    {
     "data": {
      "text/plain": [
       "0.517971442639094"
      ]
     },
     "execution_count": 114,
     "metadata": {},
     "output_type": "execute_result"
    }
   ],
   "source": [
    "#check edible to poisonous target class split\n",
    "len(mdata[mdata['class']=='EDIBLE'])/len(mdata)"
   ]
  },
  {
   "cell_type": "code",
   "execution_count": 84,
   "metadata": {
    "collapsed": false
   },
   "outputs": [
    {
     "data": {
      "text/plain": [
       "5644"
      ]
     },
     "execution_count": 84,
     "metadata": {},
     "output_type": "execute_result"
    }
   ],
   "source": [
    "#create dataset of complete rows\n",
    "complete=mdata[mdata.stalk_root!='?'].drop_duplicates()\n",
    "len(complete.values)"
   ]
  },
  {
   "cell_type": "code",
   "execution_count": 85,
   "metadata": {
    "collapsed": false
   },
   "outputs": [
    {
     "data": {
      "text/html": [
       "<div>\n",
       "<table border=\"1\" class=\"dataframe\">\n",
       "  <thead>\n",
       "    <tr style=\"text-align: right;\">\n",
       "      <th></th>\n",
       "      <th>class</th>\n",
       "      <th>cap_shape</th>\n",
       "      <th>cap_surface</th>\n",
       "      <th>cap_color</th>\n",
       "      <th>bruises</th>\n",
       "      <th>odor</th>\n",
       "      <th>gill_attachment</th>\n",
       "      <th>gill_spacing</th>\n",
       "      <th>gill_size</th>\n",
       "      <th>gill_color</th>\n",
       "      <th>...</th>\n",
       "      <th>stalk_surface_below_ring</th>\n",
       "      <th>stalk_color_above_ring</th>\n",
       "      <th>stalk_color_below_ring</th>\n",
       "      <th>veil_type</th>\n",
       "      <th>veil_color</th>\n",
       "      <th>ring_number</th>\n",
       "      <th>ring_type</th>\n",
       "      <th>spore_print_color</th>\n",
       "      <th>population</th>\n",
       "      <th>habitat</th>\n",
       "    </tr>\n",
       "  </thead>\n",
       "  <tbody>\n",
       "    <tr>\n",
       "      <th>5895</th>\n",
       "      <td>EDIBLE</td>\n",
       "      <td>CONVEX</td>\n",
       "      <td>SMOOTH</td>\n",
       "      <td>RED</td>\n",
       "      <td>BRUISES</td>\n",
       "      <td>NONE</td>\n",
       "      <td>FREE</td>\n",
       "      <td>CLOSE</td>\n",
       "      <td>BROAD</td>\n",
       "      <td>RED</td>\n",
       "      <td>...</td>\n",
       "      <td>SMOOTH</td>\n",
       "      <td>RED</td>\n",
       "      <td>RED</td>\n",
       "      <td>PARTIAL</td>\n",
       "      <td>WHITE</td>\n",
       "      <td>TWO</td>\n",
       "      <td>EVANESCENT</td>\n",
       "      <td>WHITE</td>\n",
       "      <td>CLUSTERED</td>\n",
       "      <td>WASTE</td>\n",
       "    </tr>\n",
       "  </tbody>\n",
       "</table>\n",
       "<p>1 rows × 23 columns</p>\n",
       "</div>"
      ],
      "text/plain": [
       "       class cap_shape cap_surface cap_color  bruises  odor gill_attachment  \\\n",
       "5895  EDIBLE    CONVEX      SMOOTH       RED  BRUISES  NONE            FREE   \n",
       "\n",
       "     gill_spacing gill_size gill_color   ...   stalk_surface_below_ring  \\\n",
       "5895        CLOSE     BROAD        RED   ...                     SMOOTH   \n",
       "\n",
       "     stalk_color_above_ring stalk_color_below_ring veil_type veil_color  \\\n",
       "5895                    RED                    RED   PARTIAL      WHITE   \n",
       "\n",
       "     ring_number   ring_type spore_print_color population habitat  \n",
       "5895         TWO  EVANESCENT             WHITE  CLUSTERED   WASTE  \n",
       "\n",
       "[1 rows x 23 columns]"
      ]
     },
     "execution_count": 85,
     "metadata": {},
     "output_type": "execute_result"
    }
   ],
   "source": [
    "mdata.head(1)"
   ]
  },
  {
   "cell_type": "code",
   "execution_count": 86,
   "metadata": {
    "collapsed": false
   },
   "outputs": [
    {
     "data": {
      "text/html": [
       "<div>\n",
       "<table border=\"1\" class=\"dataframe\">\n",
       "  <thead>\n",
       "    <tr style=\"text-align: right;\">\n",
       "      <th></th>\n",
       "      <th>class</th>\n",
       "      <th>cap_shape</th>\n",
       "      <th>cap_surface</th>\n",
       "      <th>cap_color</th>\n",
       "      <th>bruises</th>\n",
       "      <th>odor</th>\n",
       "      <th>gill_attachment</th>\n",
       "      <th>gill_spacing</th>\n",
       "      <th>gill_size</th>\n",
       "      <th>gill_color</th>\n",
       "      <th>...</th>\n",
       "      <th>stalk_surface_below_ring</th>\n",
       "      <th>stalk_color_above_ring</th>\n",
       "      <th>stalk_color_below_ring</th>\n",
       "      <th>veil_type</th>\n",
       "      <th>veil_color</th>\n",
       "      <th>ring_number</th>\n",
       "      <th>ring_type</th>\n",
       "      <th>spore_print_color</th>\n",
       "      <th>population</th>\n",
       "      <th>habitat</th>\n",
       "    </tr>\n",
       "  </thead>\n",
       "  <tbody>\n",
       "    <tr>\n",
       "      <th>5895</th>\n",
       "      <td>EDIBLE</td>\n",
       "      <td>CONVEX</td>\n",
       "      <td>SMOOTH</td>\n",
       "      <td>RED</td>\n",
       "      <td>BRUISES</td>\n",
       "      <td>NONE</td>\n",
       "      <td>FREE</td>\n",
       "      <td>CLOSE</td>\n",
       "      <td>BROAD</td>\n",
       "      <td>RED</td>\n",
       "      <td>...</td>\n",
       "      <td>SMOOTH</td>\n",
       "      <td>RED</td>\n",
       "      <td>RED</td>\n",
       "      <td>PARTIAL</td>\n",
       "      <td>WHITE</td>\n",
       "      <td>TWO</td>\n",
       "      <td>EVANESCENT</td>\n",
       "      <td>WHITE</td>\n",
       "      <td>CLUSTERED</td>\n",
       "      <td>WASTE</td>\n",
       "    </tr>\n",
       "  </tbody>\n",
       "</table>\n",
       "<p>1 rows × 22 columns</p>\n",
       "</div>"
      ],
      "text/plain": [
       "       class cap_shape cap_surface cap_color  bruises  odor gill_attachment  \\\n",
       "5895  EDIBLE    CONVEX      SMOOTH       RED  BRUISES  NONE            FREE   \n",
       "\n",
       "     gill_spacing gill_size gill_color   ...   stalk_surface_below_ring  \\\n",
       "5895        CLOSE     BROAD        RED   ...                     SMOOTH   \n",
       "\n",
       "     stalk_color_above_ring stalk_color_below_ring veil_type veil_color  \\\n",
       "5895                    RED                    RED   PARTIAL      WHITE   \n",
       "\n",
       "     ring_number   ring_type spore_print_color population habitat  \n",
       "5895         TWO  EVANESCENT             WHITE  CLUSTERED   WASTE  \n",
       "\n",
       "[1 rows x 22 columns]"
      ]
     },
     "execution_count": 86,
     "metadata": {},
     "output_type": "execute_result"
    }
   ],
   "source": [
    "#create dataset with column of missing values removed\n",
    "roots = mdata.stalk_root\n",
    "ignore_roots=mdata.drop('stalk_root',1)\n",
    "ignore_roots.head(1)"
   ]
  },
  {
   "cell_type": "code",
   "execution_count": 87,
   "metadata": {
    "collapsed": false
   },
   "outputs": [],
   "source": [
    "#split data and target\n",
    "target = ignore_roots['class']\n",
    "data = ignore_roots.drop('class',1)"
   ]
  },
  {
   "cell_type": "code",
   "execution_count": 88,
   "metadata": {
    "collapsed": true
   },
   "outputs": [],
   "source": [
    "from sklearn.feature_extraction import DictVectorizer\n",
    "v = DictVectorizer(sparse=False)\n"
   ]
  },
  {
   "cell_type": "code",
   "execution_count": 89,
   "metadata": {
    "collapsed": false
   },
   "outputs": [],
   "source": [
    "data_dict = data.to_dict('records')"
   ]
  },
  {
   "cell_type": "code",
   "execution_count": 90,
   "metadata": {
    "collapsed": false
   },
   "outputs": [
    {
     "data": {
      "text/plain": [
       "8124"
      ]
     },
     "execution_count": 90,
     "metadata": {},
     "output_type": "execute_result"
    }
   ],
   "source": [
    "#encode target class as 0 or 1\n",
    "target_list=[]\n",
    "for c in target.values:\n",
    "    if c=='EDIBLE': \n",
    "        target_list.append(0)\n",
    "    else :\n",
    "        target_list.append(1)\n",
    "len(target_list)\n",
    "\n",
    "#target_dict = target.to_dict('records')"
   ]
  },
  {
   "cell_type": "code",
   "execution_count": 91,
   "metadata": {
    "collapsed": false
   },
   "outputs": [
    {
     "data": {
      "text/plain": [
       "8124"
      ]
     },
     "execution_count": 91,
     "metadata": {},
     "output_type": "execute_result"
    }
   ],
   "source": [
    "#hot encode attributes\n",
    "enc_data = v.fit_transform(data_dict)\n",
    "len(enc_data)"
   ]
  },
  {
   "cell_type": "code",
   "execution_count": 92,
   "metadata": {
    "collapsed": false
   },
   "outputs": [
    {
     "data": {
      "text/plain": [
       "array([[ 1.,  0.,  0., ...,  1.,  0.,  1.],\n",
       "       [ 0.,  1.,  0., ...,  1.,  0.,  1.],\n",
       "       [ 1.,  0.,  0., ...,  1.,  0.,  1.],\n",
       "       ..., \n",
       "       [ 0.,  1.,  0., ...,  1.,  0.,  1.],\n",
       "       [ 0.,  1.,  1., ...,  1.,  0.,  1.],\n",
       "       [ 0.,  1.,  0., ...,  1.,  0.,  1.]])"
      ]
     },
     "execution_count": 92,
     "metadata": {},
     "output_type": "execute_result"
    }
   ],
   "source": [
    "enc_data"
   ]
  },
  {
   "cell_type": "code",
   "execution_count": 93,
   "metadata": {
    "collapsed": false
   },
   "outputs": [],
   "source": [
    "from numpy import array\n",
    "target_array = array(target_list)"
   ]
  },
  {
   "cell_type": "code",
   "execution_count": 94,
   "metadata": {
    "collapsed": false
   },
   "outputs": [
    {
     "name": "stdout",
     "output_type": "stream",
     "text": [
      "Number of mislabeled points out of a total 8124 points : 91\n"
     ]
    }
   ],
   "source": [
    "#show naive bayes fit on total data set\n",
    "from sklearn.naive_bayes import GaussianNB\n",
    "gnb = GaussianNB()\n",
    "y_pred = gnb.fit(enc_data, target_array).predict(enc_data)\n",
    "print(\"Number of mislabeled points out of a total %d points : %d\" % (enc_data.shape[0],(target_array != y_pred).sum()))\n"
   ]
  },
  {
   "cell_type": "code",
   "execution_count": 95,
   "metadata": {
    "collapsed": false
   },
   "outputs": [],
   "source": [
    "#generate random sample from data\n",
    "\n",
    "test_ids=random.sample(range(0, len(enc_data)), math.floor(len(enc_data)*.3))"
   ]
  },
  {
   "cell_type": "code",
   "execution_count": 96,
   "metadata": {
    "collapsed": false
   },
   "outputs": [],
   "source": [
    "#split data into training set and test set\n",
    "train_data=[]\n",
    "test_data=[]\n",
    "train_target=[]\n",
    "test_target=[]\n",
    "for i in range(len(enc_data)):\n",
    "    if i in test_ids:\n",
    "        test_data.append(enc_data[i])\n",
    "        test_target.append(target_array[i])\n",
    "    else:\n",
    "        train_data.append(enc_data[i])\n",
    "        train_target.append(target_array[i])\n",
    "        \n"
   ]
  },
  {
   "cell_type": "code",
   "execution_count": 97,
   "metadata": {
    "collapsed": false
   },
   "outputs": [],
   "source": [
    "len(train_data)\n",
    "train_data=array(train_data)"
   ]
  },
  {
   "cell_type": "code",
   "execution_count": 98,
   "metadata": {
    "collapsed": false
   },
   "outputs": [
    {
     "name": "stdout",
     "output_type": "stream",
     "text": [
      "Number of mislabeled points out of a total 2437 points : 34\n"
     ]
    }
   ],
   "source": [
    "#accuracy of naive bayes based on training set\n",
    "gnb = GaussianNB()\n",
    "new_pred = gnb.fit(train_data, train_target).predict(test_data)\n",
    "print(\"Number of mislabeled points out of a total %d points : %d\" % (len(test_data),(test_target != new_pred).sum()))\n"
   ]
  },
  {
   "cell_type": "code",
   "execution_count": 99,
   "metadata": {
    "collapsed": true
   },
   "outputs": [],
   "source": [
    "#repeat with complete rows\n",
    "target = complete['class']\n",
    "data = complete.drop('class',1)"
   ]
  },
  {
   "cell_type": "code",
   "execution_count": 100,
   "metadata": {
    "collapsed": false
   },
   "outputs": [
    {
     "data": {
      "text/plain": [
       "5644"
      ]
     },
     "execution_count": 100,
     "metadata": {},
     "output_type": "execute_result"
    }
   ],
   "source": [
    "#encode target class as 0 or 1\n",
    "target_list=[]\n",
    "for c in target.values:\n",
    "    if c=='EDIBLE': \n",
    "        target_list.append(0)\n",
    "    else :\n",
    "        target_list.append(1)\n",
    "len(target_list)\n"
   ]
  },
  {
   "cell_type": "code",
   "execution_count": 101,
   "metadata": {
    "collapsed": true
   },
   "outputs": [],
   "source": [
    "target_array = array(target_list)"
   ]
  },
  {
   "cell_type": "code",
   "execution_count": 102,
   "metadata": {
    "collapsed": false
   },
   "outputs": [
    {
     "data": {
      "text/plain": [
       "5644"
      ]
     },
     "execution_count": 102,
     "metadata": {},
     "output_type": "execute_result"
    }
   ],
   "source": [
    "data_dict = data.to_dict('records')\n",
    "enc_data = v.fit_transform(data_dict)\n",
    "len(enc_data)"
   ]
  },
  {
   "cell_type": "code",
   "execution_count": 103,
   "metadata": {
    "collapsed": false
   },
   "outputs": [
    {
     "name": "stdout",
     "output_type": "stream",
     "text": [
      "Number of mislabeled points out of a total 5644 points : 8\n"
     ]
    }
   ],
   "source": [
    "y_pred = gnb.fit(enc_data, target_array).predict(enc_data)\n",
    "print(\"Number of mislabeled points out of a total %d points : %d\" % (enc_data.shape[0],(target_array != y_pred).sum()))\n"
   ]
  },
  {
   "cell_type": "code",
   "execution_count": 104,
   "metadata": {
    "collapsed": true
   },
   "outputs": [],
   "source": [
    "random.seed(31415)\n",
    "test_ids=random.sample(range(0, len(enc_data)), math.floor(len(enc_data)*.3))"
   ]
  },
  {
   "cell_type": "code",
   "execution_count": 105,
   "metadata": {
    "collapsed": true
   },
   "outputs": [],
   "source": [
    "#split data into training set and test set\n",
    "train_data=[]\n",
    "test_data=[]\n",
    "train_target=[]\n",
    "test_target=[]\n",
    "for i in range(len(enc_data)):\n",
    "    if i in test_ids:\n",
    "        test_data.append(enc_data[i])\n",
    "        test_target.append(target_array[i])\n",
    "    else:\n",
    "        train_data.append(enc_data[i])\n",
    "        train_target.append(target_array[i])"
   ]
  },
  {
   "cell_type": "code",
   "execution_count": 106,
   "metadata": {
    "collapsed": true
   },
   "outputs": [],
   "source": [
    "len(train_data)\n",
    "train_data=array(train_data)"
   ]
  },
  {
   "cell_type": "code",
   "execution_count": 107,
   "metadata": {
    "collapsed": false
   },
   "outputs": [
    {
     "name": "stdout",
     "output_type": "stream",
     "text": [
      "Number of mislabeled points out of a total 1693 points : 3\n"
     ]
    }
   ],
   "source": [
    "#accuracy of naive bayes based on training set\n",
    "new_pred = gnb.fit(train_data, train_target).predict(test_data)\n",
    "print(\"Number of mislabeled points out of a total %d points : %d\" % (len(test_data),(test_target != new_pred).sum()))\n"
   ]
  },
  {
   "cell_type": "code",
   "execution_count": 108,
   "metadata": {
    "collapsed": true
   },
   "outputs": [],
   "source": [
    "curve= gnb.fit(train_data, train_target)"
   ]
  },
  {
   "cell_type": "code",
   "execution_count": 109,
   "metadata": {
    "collapsed": false
   },
   "outputs": [
    {
     "data": {
      "text/plain": [
       "array([[  1.00000000e+000,   3.45951074e-089],\n",
       "       [  0.00000000e+000,   1.00000000e+000],\n",
       "       [  0.00000000e+000,   1.00000000e+000],\n",
       "       ..., \n",
       "       [  1.00000000e+000,   2.03279129e-133],\n",
       "       [  1.00000000e+000,   1.02043540e-121],\n",
       "       [  1.00000000e+000,   0.00000000e+000]])"
      ]
     },
     "execution_count": 109,
     "metadata": {},
     "output_type": "execute_result"
    }
   ],
   "source": [
    "curve.predict_proba(test_data)"
   ]
  },
  {
   "cell_type": "code",
   "execution_count": 110,
   "metadata": {
    "collapsed": false
   },
   "outputs": [
    {
     "data": {
      "text/plain": [
       "0.99822799763733017"
      ]
     },
     "execution_count": 110,
     "metadata": {},
     "output_type": "execute_result"
    }
   ],
   "source": [
    "curve.score(test_data, test_target)"
   ]
  },
  {
   "cell_type": "code",
   "execution_count": 115,
   "metadata": {
    "collapsed": false
   },
   "outputs": [
    {
     "data": {
      "text/plain": [
       "Index(['class', 'cap_shape', 'cap_surface', 'cap_color', 'bruises', 'odor',\n",
       "       'gill_attachment', 'gill_spacing', 'gill_size', 'gill_color',\n",
       "       'stalk_shape', 'stalk_root', 'stalk_surface_above_ring',\n",
       "       'stalk_surface_below_ring', 'stalk_color_above_ring',\n",
       "       'stalk_color_below_ring', 'veil_type', 'veil_color', 'ring_number',\n",
       "       'ring_type', 'spore_print_color', 'population', 'habitat'],\n",
       "      dtype='object')"
      ]
     },
     "execution_count": 115,
     "metadata": {},
     "output_type": "execute_result"
    }
   ],
   "source": [
    "mdata.columns"
   ]
  },
  {
   "cell_type": "code",
   "execution_count": 130,
   "metadata": {
    "collapsed": false
   },
   "outputs": [
    {
     "data": {
      "text/plain": [
       "[6, 4, 10, 2, 9, 2, 2, 2, 12, 2, 4, 4, 9, 9, 1, 4, 3, 5, 9, 6, 7]"
      ]
     },
     "execution_count": 130,
     "metadata": {},
     "output_type": "execute_result"
    }
   ],
   "source": [
    "#split data and target\n",
    "target = ignore_roots['class']\n",
    "data = ignore_roots.drop('class',1)\n",
    "\n",
    "col_count=[]\n",
    "for col in data.columns:\n",
    "    temp=mdata[col]\n",
    "    col_count.append(temp.nunique())\n",
    "col_count   "
   ]
  },
  {
   "cell_type": "code",
   "execution_count": 131,
   "metadata": {
    "collapsed": false
   },
   "outputs": [
    {
     "data": {
      "text/plain": [
       "8124"
      ]
     },
     "execution_count": 131,
     "metadata": {},
     "output_type": "execute_result"
    }
   ],
   "source": [
    "target_list=[]\n",
    "for c in target.values:\n",
    "    if c=='EDIBLE': \n",
    "        target_list.append(0)\n",
    "    else :\n",
    "        target_list.append(1)\n",
    "target_array = array(target_list)\n",
    "len(target_list)"
   ]
  },
  {
   "cell_type": "code",
   "execution_count": 136,
   "metadata": {
    "collapsed": false,
    "scrolled": true
   },
   "outputs": [
    {
     "data": {
      "text/plain": [
       "8124"
      ]
     },
     "execution_count": 136,
     "metadata": {},
     "output_type": "execute_result"
    }
   ],
   "source": [
    "data_dict = data[[data.columns[0]]].to_dict('records')\n",
    "enc_data = v.fit_transform(data_dict)\n",
    "len(enc_data)"
   ]
  },
  {
   "cell_type": "code",
   "execution_count": 137,
   "metadata": {
    "collapsed": false
   },
   "outputs": [
    {
     "name": "stdout",
     "output_type": "stream",
     "text": [
      "Number of mislabeled points out of a total 8124 points : 3820\n"
     ]
    }
   ],
   "source": [
    "gnb = GaussianNB()\n",
    "y_pred = gnb.fit(enc_data, target_array).predict(enc_data)\n",
    "print(\"Number of mislabeled points out of a total %d points : %d\" % (enc_data.shape[0],(target_array != y_pred).sum()))\n"
   ]
  },
  {
   "cell_type": "code",
   "execution_count": null,
   "metadata": {
    "collapsed": false
   },
   "outputs": [
    {
     "name": "stdout",
     "output_type": "stream",
     "text": [
      "Number of mislabeled points out of a total 8124 points : 3820 for col=cap_shape\n",
      "Number of mislabeled points out of a total 8124 points : 3912 for col=cap_surface\n",
      "Number of mislabeled points out of a total 8124 points : 4156 for col=cap_color\n",
      "Number of mislabeled points out of a total 8124 points : 2080 for col=bruises\n",
      "Number of mislabeled points out of a total 8124 points : 120 for col=odor\n",
      "Number of mislabeled points out of a total 8124 points : 4034 for col=gill_attachment\n",
      "Number of mislabeled points out of a total 8124 points : 3120 for col=gill_spacing\n",
      "Number of mislabeled points out of a total 8124 points : 1980 for col=gill_size\n",
      "Number of mislabeled points out of a total 8124 points : 1796 for col=gill_color\n",
      "Number of mislabeled points out of a total 8124 points : 3632 for col=stalk_shape\n",
      "Number of mislabeled points out of a total 8124 points : 1832 for col=stalk_surface_above_ring\n",
      "Number of mislabeled points out of a total 8124 points : 1900 for col=stalk_surface_below_ring\n",
      "Number of mislabeled points out of a total 8124 points : 2304 for col=stalk_color_above_ring\n",
      "Number of mislabeled points out of a total 8124 points : 2320 for col=stalk_color_below_ring\n",
      "Number of mislabeled points out of a total 8124 points : 3916 for col=veil_type\n",
      "Number of mislabeled points out of a total 8124 points : 4016 for col=veil_color\n"
     ]
    }
   ],
   "source": [
    "for col in data.columns:\n",
    "    data_dict = data[[col]].to_dict('records')\n",
    "    enc_data = v.fit_transform(data_dict)\n",
    "    gnb = GaussianNB()\n",
    "    y_pred = gnb.fit(enc_data, target_array).predict(enc_data)\n",
    "    print(\"Number of mislabeled points out of a total %d points : %d for col=%s\" % (enc_data.shape[0],(target_array != y_pred).sum(),col))\n"
   ]
  },
  {
   "cell_type": "code",
   "execution_count": null,
   "metadata": {
    "collapsed": true
   },
   "outputs": [],
   "source": []
  }
 ],
 "metadata": {
  "kernelspec": {
   "display_name": "Python 3",
   "language": "python",
   "name": "python3"
  },
  "language_info": {
   "codemirror_mode": {
    "name": "ipython",
    "version": 3
   },
   "file_extension": ".py",
   "mimetype": "text/x-python",
   "name": "python",
   "nbconvert_exporter": "python",
   "pygments_lexer": "ipython3",
   "version": "3.5.2"
  }
 },
 "nbformat": 4,
 "nbformat_minor": 0
}
