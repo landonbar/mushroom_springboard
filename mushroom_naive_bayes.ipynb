{
 "cells": [
  {
   "cell_type": "code",
   "execution_count": 1,
   "metadata": {
    "collapsed": false
   },
   "outputs": [
    {
     "data": {
      "text/html": [
       "<style>body {\n",
       "    margin: 0;\n",
       "    font-family: Helvetica;\n",
       "}\n",
       "table.dataframe {\n",
       "    border-collapse: collapse;\n",
       "    border: none;\n",
       "}\n",
       "table.dataframe tr {\n",
       "    border: none;\n",
       "}\n",
       "table.dataframe td, table.dataframe th {\n",
       "    margin: 0;\n",
       "    border: 1px solid white;\n",
       "    padding-left: 0.25em;\n",
       "    padding-right: 0.25em;\n",
       "}\n",
       "table.dataframe th:not(:empty) {\n",
       "    background-color: #fec;\n",
       "    text-align: left;\n",
       "    font-weight: normal;\n",
       "}\n",
       "table.dataframe tr:nth-child(2) th:empty {\n",
       "    border-left: none;\n",
       "    border-right: 1px dashed #888;\n",
       "}\n",
       "table.dataframe td {\n",
       "    border: 2px solid #ccf;\n",
       "    background-color: #f4f4ff;\n",
       "}\n",
       "h3 {\n",
       "    color: white;\n",
       "    background-color: black;\n",
       "    padding: 0.5em;\n",
       "}\n",
       "</style>"
      ],
      "text/plain": [
       "<IPython.core.display.HTML object>"
      ]
     },
     "execution_count": 1,
     "metadata": {},
     "output_type": "execute_result"
    }
   ],
   "source": [
    "from IPython.core.display import HTML\n",
    "css = open('style-table.css').read() + open('style-notebook.css').read()\n",
    "HTML('<style>{}</style>'.format(css))"
   ]
  },
  {
   "cell_type": "code",
   "execution_count": 2,
   "metadata": {
    "collapsed": false
   },
   "outputs": [
    {
     "data": {
      "text/plain": [
       "8124"
      ]
     },
     "execution_count": 2,
     "metadata": {},
     "output_type": "execute_result"
    }
   ],
   "source": [
    "import pandas as pd\n",
    "import random\n",
    "import math\n",
    "\n",
    "random.seed(31415)\n",
    "\n",
    "#remove duplicate rows from expanded data 300 rows\n",
    "mdata = pd.DataFrame.from_csv('mdata/expanded.csv',index_col=False).drop_duplicates()\n",
    "\n",
    "#shuffle\n",
    "mdata=mdata.sample(frac=1,random_state=31415)\n",
    "len(mdata.values)"
   ]
  },
  {
   "cell_type": "code",
   "execution_count": 3,
   "metadata": {
    "collapsed": false
   },
   "outputs": [
    {
     "data": {
      "text/plain": [
       "0.517971442639094"
      ]
     },
     "execution_count": 3,
     "metadata": {},
     "output_type": "execute_result"
    }
   ],
   "source": [
    "#check edible to poisonous target class split\n",
    "len(mdata[mdata['class']=='EDIBLE'])/len(mdata)"
   ]
  },
  {
   "cell_type": "code",
   "execution_count": 4,
   "metadata": {
    "collapsed": false
   },
   "outputs": [
    {
     "data": {
      "text/plain": [
       "5644"
      ]
     },
     "execution_count": 4,
     "metadata": {},
     "output_type": "execute_result"
    }
   ],
   "source": [
    "#create dataset of complete rows\n",
    "complete=mdata[mdata.stalk_root!='?'].drop_duplicates()\n",
    "len(complete.values)"
   ]
  },
  {
   "cell_type": "code",
   "execution_count": 5,
   "metadata": {
    "collapsed": false
   },
   "outputs": [
    {
     "data": {
      "text/html": [
       "<div>\n",
       "<table border=\"1\" class=\"dataframe\">\n",
       "  <thead>\n",
       "    <tr style=\"text-align: right;\">\n",
       "      <th></th>\n",
       "      <th>class</th>\n",
       "      <th>cap_shape</th>\n",
       "      <th>cap_surface</th>\n",
       "      <th>cap_color</th>\n",
       "      <th>bruises</th>\n",
       "      <th>odor</th>\n",
       "      <th>gill_attachment</th>\n",
       "      <th>gill_spacing</th>\n",
       "      <th>gill_size</th>\n",
       "      <th>gill_color</th>\n",
       "      <th>...</th>\n",
       "      <th>stalk_surface_below_ring</th>\n",
       "      <th>stalk_color_above_ring</th>\n",
       "      <th>stalk_color_below_ring</th>\n",
       "      <th>veil_type</th>\n",
       "      <th>veil_color</th>\n",
       "      <th>ring_number</th>\n",
       "      <th>ring_type</th>\n",
       "      <th>spore_print_color</th>\n",
       "      <th>population</th>\n",
       "      <th>habitat</th>\n",
       "    </tr>\n",
       "  </thead>\n",
       "  <tbody>\n",
       "    <tr>\n",
       "      <th>5895</th>\n",
       "      <td>EDIBLE</td>\n",
       "      <td>CONVEX</td>\n",
       "      <td>SMOOTH</td>\n",
       "      <td>RED</td>\n",
       "      <td>BRUISES</td>\n",
       "      <td>NONE</td>\n",
       "      <td>FREE</td>\n",
       "      <td>CLOSE</td>\n",
       "      <td>BROAD</td>\n",
       "      <td>RED</td>\n",
       "      <td>...</td>\n",
       "      <td>SMOOTH</td>\n",
       "      <td>RED</td>\n",
       "      <td>RED</td>\n",
       "      <td>PARTIAL</td>\n",
       "      <td>WHITE</td>\n",
       "      <td>TWO</td>\n",
       "      <td>EVANESCENT</td>\n",
       "      <td>WHITE</td>\n",
       "      <td>CLUSTERED</td>\n",
       "      <td>WASTE</td>\n",
       "    </tr>\n",
       "  </tbody>\n",
       "</table>\n",
       "<p>1 rows × 23 columns</p>\n",
       "</div>"
      ],
      "text/plain": [
       "       class cap_shape cap_surface cap_color  bruises  odor gill_attachment  \\\n",
       "5895  EDIBLE    CONVEX      SMOOTH       RED  BRUISES  NONE            FREE   \n",
       "\n",
       "     gill_spacing gill_size gill_color   ...   stalk_surface_below_ring  \\\n",
       "5895        CLOSE     BROAD        RED   ...                     SMOOTH   \n",
       "\n",
       "     stalk_color_above_ring stalk_color_below_ring veil_type veil_color  \\\n",
       "5895                    RED                    RED   PARTIAL      WHITE   \n",
       "\n",
       "     ring_number   ring_type spore_print_color population habitat  \n",
       "5895         TWO  EVANESCENT             WHITE  CLUSTERED   WASTE  \n",
       "\n",
       "[1 rows x 23 columns]"
      ]
     },
     "execution_count": 5,
     "metadata": {},
     "output_type": "execute_result"
    }
   ],
   "source": [
    "mdata.head(1)"
   ]
  },
  {
   "cell_type": "code",
   "execution_count": 6,
   "metadata": {
    "collapsed": false
   },
   "outputs": [
    {
     "data": {
      "text/html": [
       "<div>\n",
       "<table border=\"1\" class=\"dataframe\">\n",
       "  <thead>\n",
       "    <tr style=\"text-align: right;\">\n",
       "      <th></th>\n",
       "      <th>class</th>\n",
       "      <th>cap_shape</th>\n",
       "      <th>cap_surface</th>\n",
       "      <th>cap_color</th>\n",
       "      <th>bruises</th>\n",
       "      <th>odor</th>\n",
       "      <th>gill_attachment</th>\n",
       "      <th>gill_spacing</th>\n",
       "      <th>gill_size</th>\n",
       "      <th>gill_color</th>\n",
       "      <th>...</th>\n",
       "      <th>stalk_surface_below_ring</th>\n",
       "      <th>stalk_color_above_ring</th>\n",
       "      <th>stalk_color_below_ring</th>\n",
       "      <th>veil_type</th>\n",
       "      <th>veil_color</th>\n",
       "      <th>ring_number</th>\n",
       "      <th>ring_type</th>\n",
       "      <th>spore_print_color</th>\n",
       "      <th>population</th>\n",
       "      <th>habitat</th>\n",
       "    </tr>\n",
       "  </thead>\n",
       "  <tbody>\n",
       "    <tr>\n",
       "      <th>5895</th>\n",
       "      <td>EDIBLE</td>\n",
       "      <td>CONVEX</td>\n",
       "      <td>SMOOTH</td>\n",
       "      <td>RED</td>\n",
       "      <td>BRUISES</td>\n",
       "      <td>NONE</td>\n",
       "      <td>FREE</td>\n",
       "      <td>CLOSE</td>\n",
       "      <td>BROAD</td>\n",
       "      <td>RED</td>\n",
       "      <td>...</td>\n",
       "      <td>SMOOTH</td>\n",
       "      <td>RED</td>\n",
       "      <td>RED</td>\n",
       "      <td>PARTIAL</td>\n",
       "      <td>WHITE</td>\n",
       "      <td>TWO</td>\n",
       "      <td>EVANESCENT</td>\n",
       "      <td>WHITE</td>\n",
       "      <td>CLUSTERED</td>\n",
       "      <td>WASTE</td>\n",
       "    </tr>\n",
       "  </tbody>\n",
       "</table>\n",
       "<p>1 rows × 22 columns</p>\n",
       "</div>"
      ],
      "text/plain": [
       "       class cap_shape cap_surface cap_color  bruises  odor gill_attachment  \\\n",
       "5895  EDIBLE    CONVEX      SMOOTH       RED  BRUISES  NONE            FREE   \n",
       "\n",
       "     gill_spacing gill_size gill_color   ...   stalk_surface_below_ring  \\\n",
       "5895        CLOSE     BROAD        RED   ...                     SMOOTH   \n",
       "\n",
       "     stalk_color_above_ring stalk_color_below_ring veil_type veil_color  \\\n",
       "5895                    RED                    RED   PARTIAL      WHITE   \n",
       "\n",
       "     ring_number   ring_type spore_print_color population habitat  \n",
       "5895         TWO  EVANESCENT             WHITE  CLUSTERED   WASTE  \n",
       "\n",
       "[1 rows x 22 columns]"
      ]
     },
     "execution_count": 6,
     "metadata": {},
     "output_type": "execute_result"
    }
   ],
   "source": [
    "#create dataset with column of missing values removed\n",
    "roots = mdata.stalk_root\n",
    "ignore_roots=mdata.drop('stalk_root',1)\n",
    "ignore_roots.head(1)"
   ]
  },
  {
   "cell_type": "code",
   "execution_count": 7,
   "metadata": {
    "collapsed": false
   },
   "outputs": [],
   "source": [
    "#split data and target\n",
    "target = ignore_roots['class']\n",
    "data = ignore_roots.drop('class',1)"
   ]
  },
  {
   "cell_type": "code",
   "execution_count": 8,
   "metadata": {
    "collapsed": true
   },
   "outputs": [],
   "source": [
    "from sklearn.feature_extraction import DictVectorizer\n",
    "v = DictVectorizer(sparse=False)\n"
   ]
  },
  {
   "cell_type": "code",
   "execution_count": 9,
   "metadata": {
    "collapsed": false
   },
   "outputs": [],
   "source": [
    "data_dict = data.to_dict('records')"
   ]
  },
  {
   "cell_type": "code",
   "execution_count": 10,
   "metadata": {
    "collapsed": false
   },
   "outputs": [
    {
     "data": {
      "text/plain": [
       "8124"
      ]
     },
     "execution_count": 10,
     "metadata": {},
     "output_type": "execute_result"
    }
   ],
   "source": [
    "#encode target class as 0 or 1\n",
    "target_list=[]\n",
    "for c in target.values:\n",
    "    if c=='EDIBLE': \n",
    "        target_list.append(0)\n",
    "    else :\n",
    "        target_list.append(1)\n",
    "len(target_list)\n",
    "\n",
    "#target_dict = target.to_dict('records')"
   ]
  },
  {
   "cell_type": "code",
   "execution_count": 11,
   "metadata": {
    "collapsed": false
   },
   "outputs": [
    {
     "data": {
      "text/plain": [
       "8124"
      ]
     },
     "execution_count": 11,
     "metadata": {},
     "output_type": "execute_result"
    }
   ],
   "source": [
    "#hot encode attributes\n",
    "enc_data = v.fit_transform(data_dict)\n",
    "len(enc_data)"
   ]
  },
  {
   "cell_type": "code",
   "execution_count": 12,
   "metadata": {
    "collapsed": false
   },
   "outputs": [
    {
     "data": {
      "text/plain": [
       "array([[ 1.,  0.,  0., ...,  1.,  0.,  1.],\n",
       "       [ 0.,  1.,  0., ...,  1.,  0.,  1.],\n",
       "       [ 1.,  0.,  0., ...,  1.,  0.,  1.],\n",
       "       ..., \n",
       "       [ 0.,  1.,  0., ...,  1.,  0.,  1.],\n",
       "       [ 0.,  1.,  1., ...,  1.,  0.,  1.],\n",
       "       [ 0.,  1.,  0., ...,  1.,  0.,  1.]])"
      ]
     },
     "execution_count": 12,
     "metadata": {},
     "output_type": "execute_result"
    }
   ],
   "source": [
    "enc_data"
   ]
  },
  {
   "cell_type": "code",
   "execution_count": 13,
   "metadata": {
    "collapsed": false
   },
   "outputs": [
    {
     "data": {
      "text/plain": [
       "['bruises=BRUISES',\n",
       " 'bruises=NO',\n",
       " 'cap_color=BROWN',\n",
       " 'cap_color=BUFF',\n",
       " 'cap_color=CINNAMON',\n",
       " 'cap_color=GRAY',\n",
       " 'cap_color=GREEN',\n",
       " 'cap_color=PINK',\n",
       " 'cap_color=PURPLE',\n",
       " 'cap_color=RED',\n",
       " 'cap_color=WHITE',\n",
       " 'cap_color=YELLOW',\n",
       " 'cap_shape=BELL',\n",
       " 'cap_shape=CONICAL',\n",
       " 'cap_shape=CONVEX',\n",
       " 'cap_shape=FLAT',\n",
       " 'cap_shape=KNOBBED',\n",
       " 'cap_shape=SUNKEN',\n",
       " 'cap_surface=FIBROUS',\n",
       " 'cap_surface=GROOVES',\n",
       " 'cap_surface=SCALY',\n",
       " 'cap_surface=SMOOTH',\n",
       " 'gill_attachment=ATTACHED',\n",
       " 'gill_attachment=FREE',\n",
       " 'gill_color=BLACK',\n",
       " 'gill_color=BROWN',\n",
       " 'gill_color=BUFF',\n",
       " 'gill_color=CHOCOLATE',\n",
       " 'gill_color=GRAY',\n",
       " 'gill_color=GREEN',\n",
       " 'gill_color=ORANGE',\n",
       " 'gill_color=PINK',\n",
       " 'gill_color=PURPLE',\n",
       " 'gill_color=RED',\n",
       " 'gill_color=WHITE',\n",
       " 'gill_color=YELLOW',\n",
       " 'gill_size=BROAD',\n",
       " 'gill_size=NARROW',\n",
       " 'gill_spacing=CLOSE',\n",
       " 'gill_spacing=CROWDED',\n",
       " 'habitat=GRASSES',\n",
       " 'habitat=LEAVES',\n",
       " 'habitat=MEADOWS',\n",
       " 'habitat=PATHS',\n",
       " 'habitat=URBAN',\n",
       " 'habitat=WASTE',\n",
       " 'habitat=WOODS',\n",
       " 'odor=ALMOND',\n",
       " 'odor=ANISE',\n",
       " 'odor=CREOSOTE',\n",
       " 'odor=FISHY',\n",
       " 'odor=FOUL',\n",
       " 'odor=MUSTY',\n",
       " 'odor=NONE',\n",
       " 'odor=PUNGENT',\n",
       " 'odor=SPICY',\n",
       " 'population=ABUNDANT',\n",
       " 'population=CLUSTERED',\n",
       " 'population=NUMEROUS',\n",
       " 'population=SCATTERED',\n",
       " 'population=SEVERAL',\n",
       " 'population=SOLITARY',\n",
       " 'ring_number=NONE',\n",
       " 'ring_number=ONE',\n",
       " 'ring_number=TWO',\n",
       " 'ring_type=EVANESCENT',\n",
       " 'ring_type=FLARING',\n",
       " 'ring_type=LARGE',\n",
       " 'ring_type=NONE',\n",
       " 'ring_type=PENDANT',\n",
       " 'spore_print_color=BLACK',\n",
       " 'spore_print_color=BROWN',\n",
       " 'spore_print_color=BUFF',\n",
       " 'spore_print_color=CHOCOLATE',\n",
       " 'spore_print_color=GREEN',\n",
       " 'spore_print_color=ORANGE',\n",
       " 'spore_print_color=PURPLE',\n",
       " 'spore_print_color=WHITE',\n",
       " 'spore_print_color=YELLOW',\n",
       " 'stalk_color_above_ring=BROWN',\n",
       " 'stalk_color_above_ring=BUFF',\n",
       " 'stalk_color_above_ring=CINNAMON',\n",
       " 'stalk_color_above_ring=GRAY',\n",
       " 'stalk_color_above_ring=ORANGE',\n",
       " 'stalk_color_above_ring=PINK',\n",
       " 'stalk_color_above_ring=RED',\n",
       " 'stalk_color_above_ring=WHITE',\n",
       " 'stalk_color_above_ring=YELLOW',\n",
       " 'stalk_color_below_ring=BROWN',\n",
       " 'stalk_color_below_ring=BUFF',\n",
       " 'stalk_color_below_ring=CINNAMON',\n",
       " 'stalk_color_below_ring=GRAY',\n",
       " 'stalk_color_below_ring=ORANGE',\n",
       " 'stalk_color_below_ring=PINK',\n",
       " 'stalk_color_below_ring=RED',\n",
       " 'stalk_color_below_ring=WHITE',\n",
       " 'stalk_color_below_ring=YELLOW',\n",
       " 'stalk_shape=ENLARGING',\n",
       " 'stalk_shape=TAPERING',\n",
       " 'stalk_surface_above_ring=FIBROUS',\n",
       " 'stalk_surface_above_ring=SCALY',\n",
       " 'stalk_surface_above_ring=SILKY',\n",
       " 'stalk_surface_above_ring=SMOOTH',\n",
       " 'stalk_surface_below_ring=FIBROUS',\n",
       " 'stalk_surface_below_ring=SCALY',\n",
       " 'stalk_surface_below_ring=SILKY',\n",
       " 'stalk_surface_below_ring=SMOOTH',\n",
       " 'veil_color=BROWN',\n",
       " 'veil_color=ORANGE',\n",
       " 'veil_color=WHITE',\n",
       " 'veil_color=YELLOW',\n",
       " 'veil_type=PARTIAL']"
      ]
     },
     "execution_count": 13,
     "metadata": {},
     "output_type": "execute_result"
    }
   ],
   "source": [
    "v.get_feature_names()"
   ]
  },
  {
   "cell_type": "code",
   "execution_count": 14,
   "metadata": {
    "collapsed": false
   },
   "outputs": [],
   "source": [
    "from numpy import array\n",
    "target_array = array(target_list)"
   ]
  },
  {
   "cell_type": "code",
   "execution_count": 15,
   "metadata": {
    "collapsed": false
   },
   "outputs": [
    {
     "name": "stdout",
     "output_type": "stream",
     "text": [
      "Number of mislabeled points out of a total 8124 points : 91\n"
     ]
    }
   ],
   "source": [
    "#show naive bayes fit on total data set\n",
    "from sklearn.naive_bayes import GaussianNB\n",
    "gnb = GaussianNB()\n",
    "y_pred = gnb.fit(enc_data, target_array).predict(enc_data)\n",
    "print(\"Number of mislabeled points out of a total %d points : %d\" % (enc_data.shape[0],(target_array != y_pred).sum()))\n"
   ]
  },
  {
   "cell_type": "code",
   "execution_count": 16,
   "metadata": {
    "collapsed": false
   },
   "outputs": [],
   "source": [
    "#generate random sample from data\n",
    "\n",
    "test_ids=random.sample(range(0, len(enc_data)), math.floor(len(enc_data)*.3))"
   ]
  },
  {
   "cell_type": "code",
   "execution_count": 17,
   "metadata": {
    "collapsed": false
   },
   "outputs": [],
   "source": [
    "#split data into training set and test set\n",
    "train_data=[]\n",
    "test_data=[]\n",
    "train_target=[]\n",
    "test_target=[]\n",
    "for i in range(len(enc_data)):\n",
    "    if i in test_ids:\n",
    "        test_data.append(enc_data[i])\n",
    "        test_target.append(target_array[i])\n",
    "    else:\n",
    "        train_data.append(enc_data[i])\n",
    "        train_target.append(target_array[i])\n",
    "        \n"
   ]
  },
  {
   "cell_type": "code",
   "execution_count": 18,
   "metadata": {
    "collapsed": false
   },
   "outputs": [],
   "source": [
    "len(train_data)\n",
    "train_data=array(train_data)"
   ]
  },
  {
   "cell_type": "code",
   "execution_count": 19,
   "metadata": {
    "collapsed": false
   },
   "outputs": [
    {
     "name": "stdout",
     "output_type": "stream",
     "text": [
      "Number of mislabeled points out of a total 2437 points : 34\n"
     ]
    }
   ],
   "source": [
    "#accuracy of naive bayes based on training set\n",
    "\n",
    "gnb2 = GaussianNB()\n",
    "new_pred = gnb2.fit(train_data, train_target).predict(test_data)\n",
    "print(\"Number of mislabeled points out of a total %d points : %d\" % (len(test_data),(test_target != new_pred).sum()))\n"
   ]
  },
  {
   "cell_type": "code",
   "execution_count": 20,
   "metadata": {
    "collapsed": true
   },
   "outputs": [],
   "source": [
    "#repeat with complete rows\n",
    "target = complete['class']\n",
    "data = complete.drop('class',1)"
   ]
  },
  {
   "cell_type": "code",
   "execution_count": 21,
   "metadata": {
    "collapsed": false
   },
   "outputs": [
    {
     "data": {
      "text/plain": [
       "5644"
      ]
     },
     "execution_count": 21,
     "metadata": {},
     "output_type": "execute_result"
    }
   ],
   "source": [
    "#encode target class as 0 or 1\n",
    "target_list=[]\n",
    "for c in target.values:\n",
    "    if c=='EDIBLE': \n",
    "        target_list.append(0)\n",
    "    else :\n",
    "        target_list.append(1)\n",
    "len(target_list)\n"
   ]
  },
  {
   "cell_type": "code",
   "execution_count": 22,
   "metadata": {
    "collapsed": true
   },
   "outputs": [],
   "source": [
    "target_array = array(target_list)"
   ]
  },
  {
   "cell_type": "code",
   "execution_count": 23,
   "metadata": {
    "collapsed": false
   },
   "outputs": [
    {
     "data": {
      "text/plain": [
       "5644"
      ]
     },
     "execution_count": 23,
     "metadata": {},
     "output_type": "execute_result"
    }
   ],
   "source": [
    "data_dict = data.to_dict('records')\n",
    "enc_data = v.fit_transform(data_dict)\n",
    "len(enc_data)"
   ]
  },
  {
   "cell_type": "code",
   "execution_count": 24,
   "metadata": {
    "collapsed": false
   },
   "outputs": [
    {
     "name": "stdout",
     "output_type": "stream",
     "text": [
      "Number of mislabeled points out of a total 5644 points : 8\n"
     ]
    }
   ],
   "source": [
    "y_pred = gnb.fit(enc_data, target_array).predict(enc_data)\n",
    "print(\"Number of mislabeled points out of a total %d points : %d\" % (enc_data.shape[0],(target_array != y_pred).sum()))\n"
   ]
  },
  {
   "cell_type": "code",
   "execution_count": 25,
   "metadata": {
    "collapsed": true
   },
   "outputs": [],
   "source": [
    "random.seed(31415)\n",
    "test_ids=random.sample(range(0, len(enc_data)), math.floor(len(enc_data)*.3))"
   ]
  },
  {
   "cell_type": "code",
   "execution_count": 26,
   "metadata": {
    "collapsed": true
   },
   "outputs": [],
   "source": [
    "#split data into training set and test set\n",
    "train_data=[]\n",
    "test_data=[]\n",
    "train_target=[]\n",
    "test_target=[]\n",
    "for i in range(len(enc_data)):\n",
    "    if i in test_ids:\n",
    "        test_data.append(enc_data[i])\n",
    "        test_target.append(target_array[i])\n",
    "    else:\n",
    "        train_data.append(enc_data[i])\n",
    "        train_target.append(target_array[i])"
   ]
  },
  {
   "cell_type": "code",
   "execution_count": 27,
   "metadata": {
    "collapsed": true
   },
   "outputs": [],
   "source": [
    "len(train_data)\n",
    "train_data=array(train_data)"
   ]
  },
  {
   "cell_type": "code",
   "execution_count": 28,
   "metadata": {
    "collapsed": false
   },
   "outputs": [
    {
     "name": "stdout",
     "output_type": "stream",
     "text": [
      "Number of mislabeled points out of a total 1693 points : 3\n"
     ]
    }
   ],
   "source": [
    "#accuracy of naive bayes based on training set\n",
    "new_pred = gnb.fit(train_data, train_target).predict(test_data)\n",
    "print(\"Number of mislabeled points out of a total %d points : %d\" % (len(test_data),(test_target != new_pred).sum()))\n"
   ]
  },
  {
   "cell_type": "code",
   "execution_count": 29,
   "metadata": {
    "collapsed": true
   },
   "outputs": [],
   "source": [
    "curve= gnb.fit(train_data, train_target)"
   ]
  },
  {
   "cell_type": "code",
   "execution_count": 30,
   "metadata": {
    "collapsed": false
   },
   "outputs": [
    {
     "data": {
      "text/plain": [
       "array([[  1.00000000e+000,   3.45951074e-089],\n",
       "       [  0.00000000e+000,   1.00000000e+000],\n",
       "       [  0.00000000e+000,   1.00000000e+000],\n",
       "       ..., \n",
       "       [  1.00000000e+000,   2.03279129e-133],\n",
       "       [  1.00000000e+000,   1.02043540e-121],\n",
       "       [  1.00000000e+000,   0.00000000e+000]])"
      ]
     },
     "execution_count": 30,
     "metadata": {},
     "output_type": "execute_result"
    }
   ],
   "source": [
    "curve.predict_proba(test_data)"
   ]
  },
  {
   "cell_type": "code",
   "execution_count": 31,
   "metadata": {
    "collapsed": false
   },
   "outputs": [
    {
     "data": {
      "text/plain": [
       "0.99822799763733017"
      ]
     },
     "execution_count": 31,
     "metadata": {},
     "output_type": "execute_result"
    }
   ],
   "source": [
    "curve.score(test_data, test_target)"
   ]
  },
  {
   "cell_type": "code",
   "execution_count": 32,
   "metadata": {
    "collapsed": false
   },
   "outputs": [
    {
     "data": {
      "text/plain": [
       "Index(['class', 'cap_shape', 'cap_surface', 'cap_color', 'bruises', 'odor',\n",
       "       'gill_attachment', 'gill_spacing', 'gill_size', 'gill_color',\n",
       "       'stalk_shape', 'stalk_root', 'stalk_surface_above_ring',\n",
       "       'stalk_surface_below_ring', 'stalk_color_above_ring',\n",
       "       'stalk_color_below_ring', 'veil_type', 'veil_color', 'ring_number',\n",
       "       'ring_type', 'spore_print_color', 'population', 'habitat'],\n",
       "      dtype='object')"
      ]
     },
     "execution_count": 32,
     "metadata": {},
     "output_type": "execute_result"
    }
   ],
   "source": [
    "mdata.columns"
   ]
  },
  {
   "cell_type": "code",
   "execution_count": 33,
   "metadata": {
    "collapsed": false
   },
   "outputs": [
    {
     "data": {
      "text/plain": [
       "[6, 4, 10, 2, 9, 2, 2, 2, 12, 2, 4, 4, 9, 9, 1, 4, 3, 5, 9, 6, 7]"
      ]
     },
     "execution_count": 33,
     "metadata": {},
     "output_type": "execute_result"
    }
   ],
   "source": [
    "#split data and target\n",
    "target = ignore_roots['class']\n",
    "data = ignore_roots.drop('class',1)\n",
    "\n",
    "col_count=[]\n",
    "for col in data.columns:\n",
    "    temp=mdata[col]\n",
    "    col_count.append(temp.nunique())\n",
    "col_count   "
   ]
  },
  {
   "cell_type": "code",
   "execution_count": 51,
   "metadata": {
    "collapsed": false
   },
   "outputs": [
    {
     "data": {
      "text/plain": [
       "8124"
      ]
     },
     "execution_count": 51,
     "metadata": {},
     "output_type": "execute_result"
    }
   ],
   "source": [
    "target_list=[]\n",
    "for c in target.values:\n",
    "    if c=='EDIBLE': \n",
    "        target_list.append(0)\n",
    "    else :\n",
    "        target_list.append(1)\n",
    "target_array = array(target_list)\n",
    "len(target_list)"
   ]
  },
  {
   "cell_type": "code",
   "execution_count": 52,
   "metadata": {
    "collapsed": false,
    "scrolled": true
   },
   "outputs": [
    {
     "data": {
      "text/plain": [
       "8124"
      ]
     },
     "execution_count": 52,
     "metadata": {},
     "output_type": "execute_result"
    }
   ],
   "source": [
    "data_dict = data[[data.columns[0]]].to_dict('records')\n",
    "enc_data = v.fit_transform(data_dict)\n",
    "len(enc_data)"
   ]
  },
  {
   "cell_type": "code",
   "execution_count": 53,
   "metadata": {
    "collapsed": false
   },
   "outputs": [
    {
     "name": "stdout",
     "output_type": "stream",
     "text": [
      "Number of mislabeled points out of a total 8124 points : 3820\n"
     ]
    }
   ],
   "source": [
    "gnb = GaussianNB()\n",
    "y_pred = gnb.fit(enc_data, target_array).predict(enc_data)\n",
    "print(\"Number of mislabeled points out of a total %d points : %d\" % (enc_data.shape[0],(target_array != y_pred).sum()))\n"
   ]
  },
  {
   "cell_type": "code",
   "execution_count": 54,
   "metadata": {
    "collapsed": false
   },
   "outputs": [
    {
     "name": "stdout",
     "output_type": "stream",
     "text": [
      "Number of mislabeled points out of a total 8124 points : 3820 for col=cap_shape\n",
      "Number of mislabeled points out of a total 8124 points : 3912 for col=cap_surface\n",
      "Number of mislabeled points out of a total 8124 points : 4156 for col=cap_color\n",
      "Number of mislabeled points out of a total 8124 points : 2080 for col=bruises\n",
      "Number of mislabeled points out of a total 8124 points : 120 for col=odor\n",
      "Number of mislabeled points out of a total 8124 points : 4034 for col=gill_attachment\n",
      "Number of mislabeled points out of a total 8124 points : 3120 for col=gill_spacing\n",
      "Number of mislabeled points out of a total 8124 points : 1980 for col=gill_size\n",
      "Number of mislabeled points out of a total 8124 points : 1796 for col=gill_color\n",
      "Number of mislabeled points out of a total 8124 points : 3632 for col=stalk_shape\n",
      "Number of mislabeled points out of a total 8124 points : 1832 for col=stalk_surface_above_ring\n",
      "Number of mislabeled points out of a total 8124 points : 1900 for col=stalk_surface_below_ring\n",
      "Number of mislabeled points out of a total 8124 points : 2304 for col=stalk_color_above_ring\n",
      "Number of mislabeled points out of a total 8124 points : 2320 for col=stalk_color_below_ring\n",
      "Number of mislabeled points out of a total 8124 points : 3916 for col=veil_type\n",
      "Number of mislabeled points out of a total 8124 points : 4016 for col=veil_color\n",
      "Number of mislabeled points out of a total 8124 points : 3880 for col=ring_number\n",
      "Number of mislabeled points out of a total 8124 points : 2584 for col=ring_type\n",
      "Number of mislabeled points out of a total 8124 points : 4016 for col=spore_print_color\n",
      "Number of mislabeled points out of a total 8124 points : 3188 for col=population\n",
      "Number of mislabeled points out of a total 8124 points : 3796 for col=habitat\n"
     ]
    }
   ],
   "source": [
    "#show predictions by single attribute\n",
    "for col in data.columns:\n",
    "    data_dict = data[[col]].to_dict('records')\n",
    "    enc_data = v.fit_transform(data_dict)\n",
    "    gnb = GaussianNB()\n",
    "    y_pred = gnb.fit(enc_data, target_array).predict(enc_data)\n",
    "    print(\"Number of mislabeled points out of a total %d points : %d for col=%s\" % (enc_data.shape[0],(target_array != y_pred).sum(),col))\n"
   ]
  },
  {
   "cell_type": "code",
   "execution_count": 55,
   "metadata": {
    "collapsed": false
   },
   "outputs": [
    {
     "data": {
      "text/plain": [
       "{'ALMOND': {'EDIBLE': 400, 'POISONOUS': 0},\n",
       " 'ANISE': {'EDIBLE': 400, 'POISONOUS': 0},\n",
       " 'CREOSOTE': {'EDIBLE': 0, 'POISONOUS': 192},\n",
       " 'FISHY': {'EDIBLE': 0, 'POISONOUS': 576},\n",
       " 'FOUL': {'EDIBLE': 0, 'POISONOUS': 2160},\n",
       " 'MUSTY': {'EDIBLE': 0, 'POISONOUS': 36},\n",
       " 'NONE': {'EDIBLE': 3408, 'POISONOUS': 120},\n",
       " 'PUNGENT': {'EDIBLE': 0, 'POISONOUS': 256},\n",
       " 'SPICY': {'EDIBLE': 0, 'POISONOUS': 576}}"
      ]
     },
     "execution_count": 55,
     "metadata": {},
     "output_type": "execute_result"
    }
   ],
   "source": [
    "#odor has very accurate prediction rate\n",
    "counts={}\n",
    "od=mdata[['class','odor']]\n",
    "for row in od.values:\n",
    "    if row[1] not in counts:\n",
    "        counts[row[1]]={'EDIBLE':0,'POISONOUS':0}\n",
    "    counts[row[1]][row[0]]+=1\n",
    "counts"
   ]
  },
  {
   "cell_type": "code",
   "execution_count": 56,
   "metadata": {
    "collapsed": false
   },
   "outputs": [],
   "source": [
    "no_odor=mdata[(mdata.odor=='NONE')].drop('odor',1) # & (mdata['class']=='POISONOUS')]"
   ]
  },
  {
   "cell_type": "code",
   "execution_count": 57,
   "metadata": {
    "collapsed": false
   },
   "outputs": [
    {
     "data": {
      "text/plain": [
       "3528"
      ]
     },
     "execution_count": 57,
     "metadata": {},
     "output_type": "execute_result"
    }
   ],
   "source": [
    "#repeat with no odor rows\n",
    "target = no_odor['class']\n",
    "data = no_odor.drop('class',1)\n",
    "\n",
    "#encode target class as 0 or 1\n",
    "target_list=[]\n",
    "for c in target.values:\n",
    "    if c=='EDIBLE': \n",
    "        target_list.append(0)\n",
    "    else :\n",
    "        target_list.append(1)\n",
    "len(target_list)\n",
    "target_array = array(target_list)\n",
    "\n",
    "data_dict = data.to_dict('records')\n",
    "enc_data = v.fit_transform(data_dict)\n",
    "len(enc_data)\n"
   ]
  },
  {
   "cell_type": "code",
   "execution_count": 58,
   "metadata": {
    "collapsed": false
   },
   "outputs": [
    {
     "name": "stdout",
     "output_type": "stream",
     "text": [
      "Number of mislabeled points out of a total 3528 points : 6\n"
     ]
    }
   ],
   "source": [
    "gnb = GaussianNB()\n",
    "y_pred = gnb.fit(enc_data, target_array).predict(enc_data)\n",
    "print(\"Number of mislabeled points out of a total %d points : %d\" % (enc_data.shape[0],(target_array != y_pred).sum()))\n"
   ]
  },
  {
   "cell_type": "code",
   "execution_count": 59,
   "metadata": {
    "collapsed": false
   },
   "outputs": [
    {
     "data": {
      "text/plain": [
       "5860    EDIBLE\n",
       "5848    EDIBLE\n",
       "5824    EDIBLE\n",
       "5812    EDIBLE\n",
       "5836    EDIBLE\n",
       "5800    EDIBLE\n",
       "Name: class, dtype: object"
      ]
     },
     "execution_count": 59,
     "metadata": {},
     "output_type": "execute_result"
    }
   ],
   "source": [
    "target[target_array != y_pred]\n"
   ]
  },
  {
   "cell_type": "code",
   "execution_count": 60,
   "metadata": {
    "collapsed": false
   },
   "outputs": [
    {
     "data": {
      "text/html": [
       "<div>\n",
       "<table border=\"1\" class=\"dataframe\">\n",
       "  <thead>\n",
       "    <tr style=\"text-align: right;\">\n",
       "      <th></th>\n",
       "      <th>cap_shape</th>\n",
       "      <th>cap_surface</th>\n",
       "      <th>cap_color</th>\n",
       "      <th>bruises</th>\n",
       "      <th>gill_attachment</th>\n",
       "      <th>gill_spacing</th>\n",
       "      <th>gill_size</th>\n",
       "      <th>gill_color</th>\n",
       "      <th>stalk_shape</th>\n",
       "      <th>stalk_root</th>\n",
       "      <th>...</th>\n",
       "      <th>stalk_surface_below_ring</th>\n",
       "      <th>stalk_color_above_ring</th>\n",
       "      <th>stalk_color_below_ring</th>\n",
       "      <th>veil_type</th>\n",
       "      <th>veil_color</th>\n",
       "      <th>ring_number</th>\n",
       "      <th>ring_type</th>\n",
       "      <th>spore_print_color</th>\n",
       "      <th>population</th>\n",
       "      <th>habitat</th>\n",
       "    </tr>\n",
       "  </thead>\n",
       "  <tbody>\n",
       "    <tr>\n",
       "      <th>5860</th>\n",
       "      <td>KNOBBED</td>\n",
       "      <td>SCALY</td>\n",
       "      <td>BROWN</td>\n",
       "      <td>NO</td>\n",
       "      <td>FREE</td>\n",
       "      <td>CROWDED</td>\n",
       "      <td>NARROW</td>\n",
       "      <td>WHITE</td>\n",
       "      <td>ENLARGING</td>\n",
       "      <td>BULBOUS</td>\n",
       "      <td>...</td>\n",
       "      <td>SMOOTH</td>\n",
       "      <td>WHITE</td>\n",
       "      <td>BROWN</td>\n",
       "      <td>PARTIAL</td>\n",
       "      <td>WHITE</td>\n",
       "      <td>ONE</td>\n",
       "      <td>EVANESCENT</td>\n",
       "      <td>WHITE</td>\n",
       "      <td>SEVERAL</td>\n",
       "      <td>LEAVES</td>\n",
       "    </tr>\n",
       "    <tr>\n",
       "      <th>5848</th>\n",
       "      <td>KNOBBED</td>\n",
       "      <td>FIBROUS</td>\n",
       "      <td>BROWN</td>\n",
       "      <td>NO</td>\n",
       "      <td>FREE</td>\n",
       "      <td>CROWDED</td>\n",
       "      <td>NARROW</td>\n",
       "      <td>WHITE</td>\n",
       "      <td>ENLARGING</td>\n",
       "      <td>BULBOUS</td>\n",
       "      <td>...</td>\n",
       "      <td>SMOOTH</td>\n",
       "      <td>WHITE</td>\n",
       "      <td>BROWN</td>\n",
       "      <td>PARTIAL</td>\n",
       "      <td>WHITE</td>\n",
       "      <td>ONE</td>\n",
       "      <td>EVANESCENT</td>\n",
       "      <td>WHITE</td>\n",
       "      <td>SEVERAL</td>\n",
       "      <td>LEAVES</td>\n",
       "    </tr>\n",
       "    <tr>\n",
       "      <th>5824</th>\n",
       "      <td>FLAT</td>\n",
       "      <td>FIBROUS</td>\n",
       "      <td>BROWN</td>\n",
       "      <td>NO</td>\n",
       "      <td>FREE</td>\n",
       "      <td>CROWDED</td>\n",
       "      <td>NARROW</td>\n",
       "      <td>WHITE</td>\n",
       "      <td>ENLARGING</td>\n",
       "      <td>BULBOUS</td>\n",
       "      <td>...</td>\n",
       "      <td>SMOOTH</td>\n",
       "      <td>WHITE</td>\n",
       "      <td>BROWN</td>\n",
       "      <td>PARTIAL</td>\n",
       "      <td>WHITE</td>\n",
       "      <td>ONE</td>\n",
       "      <td>EVANESCENT</td>\n",
       "      <td>WHITE</td>\n",
       "      <td>SEVERAL</td>\n",
       "      <td>LEAVES</td>\n",
       "    </tr>\n",
       "    <tr>\n",
       "      <th>5812</th>\n",
       "      <td>CONVEX</td>\n",
       "      <td>SCALY</td>\n",
       "      <td>BROWN</td>\n",
       "      <td>NO</td>\n",
       "      <td>FREE</td>\n",
       "      <td>CROWDED</td>\n",
       "      <td>NARROW</td>\n",
       "      <td>WHITE</td>\n",
       "      <td>ENLARGING</td>\n",
       "      <td>BULBOUS</td>\n",
       "      <td>...</td>\n",
       "      <td>SMOOTH</td>\n",
       "      <td>WHITE</td>\n",
       "      <td>BROWN</td>\n",
       "      <td>PARTIAL</td>\n",
       "      <td>WHITE</td>\n",
       "      <td>ONE</td>\n",
       "      <td>EVANESCENT</td>\n",
       "      <td>WHITE</td>\n",
       "      <td>SEVERAL</td>\n",
       "      <td>LEAVES</td>\n",
       "    </tr>\n",
       "    <tr>\n",
       "      <th>5836</th>\n",
       "      <td>FLAT</td>\n",
       "      <td>SCALY</td>\n",
       "      <td>BROWN</td>\n",
       "      <td>NO</td>\n",
       "      <td>FREE</td>\n",
       "      <td>CROWDED</td>\n",
       "      <td>NARROW</td>\n",
       "      <td>WHITE</td>\n",
       "      <td>ENLARGING</td>\n",
       "      <td>BULBOUS</td>\n",
       "      <td>...</td>\n",
       "      <td>SMOOTH</td>\n",
       "      <td>WHITE</td>\n",
       "      <td>BROWN</td>\n",
       "      <td>PARTIAL</td>\n",
       "      <td>WHITE</td>\n",
       "      <td>ONE</td>\n",
       "      <td>EVANESCENT</td>\n",
       "      <td>WHITE</td>\n",
       "      <td>SEVERAL</td>\n",
       "      <td>LEAVES</td>\n",
       "    </tr>\n",
       "    <tr>\n",
       "      <th>5800</th>\n",
       "      <td>CONVEX</td>\n",
       "      <td>FIBROUS</td>\n",
       "      <td>BROWN</td>\n",
       "      <td>NO</td>\n",
       "      <td>FREE</td>\n",
       "      <td>CROWDED</td>\n",
       "      <td>NARROW</td>\n",
       "      <td>WHITE</td>\n",
       "      <td>ENLARGING</td>\n",
       "      <td>BULBOUS</td>\n",
       "      <td>...</td>\n",
       "      <td>SMOOTH</td>\n",
       "      <td>WHITE</td>\n",
       "      <td>BROWN</td>\n",
       "      <td>PARTIAL</td>\n",
       "      <td>WHITE</td>\n",
       "      <td>ONE</td>\n",
       "      <td>EVANESCENT</td>\n",
       "      <td>WHITE</td>\n",
       "      <td>SEVERAL</td>\n",
       "      <td>LEAVES</td>\n",
       "    </tr>\n",
       "  </tbody>\n",
       "</table>\n",
       "<p>6 rows × 21 columns</p>\n",
       "</div>"
      ],
      "text/plain": [
       "     cap_shape cap_surface cap_color bruises gill_attachment gill_spacing  \\\n",
       "5860   KNOBBED       SCALY     BROWN      NO            FREE      CROWDED   \n",
       "5848   KNOBBED     FIBROUS     BROWN      NO            FREE      CROWDED   \n",
       "5824      FLAT     FIBROUS     BROWN      NO            FREE      CROWDED   \n",
       "5812    CONVEX       SCALY     BROWN      NO            FREE      CROWDED   \n",
       "5836      FLAT       SCALY     BROWN      NO            FREE      CROWDED   \n",
       "5800    CONVEX     FIBROUS     BROWN      NO            FREE      CROWDED   \n",
       "\n",
       "     gill_size gill_color stalk_shape stalk_root   ...    \\\n",
       "5860    NARROW      WHITE   ENLARGING    BULBOUS   ...     \n",
       "5848    NARROW      WHITE   ENLARGING    BULBOUS   ...     \n",
       "5824    NARROW      WHITE   ENLARGING    BULBOUS   ...     \n",
       "5812    NARROW      WHITE   ENLARGING    BULBOUS   ...     \n",
       "5836    NARROW      WHITE   ENLARGING    BULBOUS   ...     \n",
       "5800    NARROW      WHITE   ENLARGING    BULBOUS   ...     \n",
       "\n",
       "     stalk_surface_below_ring stalk_color_above_ring stalk_color_below_ring  \\\n",
       "5860                   SMOOTH                  WHITE                  BROWN   \n",
       "5848                   SMOOTH                  WHITE                  BROWN   \n",
       "5824                   SMOOTH                  WHITE                  BROWN   \n",
       "5812                   SMOOTH                  WHITE                  BROWN   \n",
       "5836                   SMOOTH                  WHITE                  BROWN   \n",
       "5800                   SMOOTH                  WHITE                  BROWN   \n",
       "\n",
       "     veil_type veil_color ring_number   ring_type spore_print_color  \\\n",
       "5860   PARTIAL      WHITE         ONE  EVANESCENT             WHITE   \n",
       "5848   PARTIAL      WHITE         ONE  EVANESCENT             WHITE   \n",
       "5824   PARTIAL      WHITE         ONE  EVANESCENT             WHITE   \n",
       "5812   PARTIAL      WHITE         ONE  EVANESCENT             WHITE   \n",
       "5836   PARTIAL      WHITE         ONE  EVANESCENT             WHITE   \n",
       "5800   PARTIAL      WHITE         ONE  EVANESCENT             WHITE   \n",
       "\n",
       "     population habitat  \n",
       "5860    SEVERAL  LEAVES  \n",
       "5848    SEVERAL  LEAVES  \n",
       "5824    SEVERAL  LEAVES  \n",
       "5812    SEVERAL  LEAVES  \n",
       "5836    SEVERAL  LEAVES  \n",
       "5800    SEVERAL  LEAVES  \n",
       "\n",
       "[6 rows x 21 columns]"
      ]
     },
     "execution_count": 60,
     "metadata": {},
     "output_type": "execute_result"
    }
   ],
   "source": [
    "data[target_array != y_pred]"
   ]
  },
  {
   "cell_type": "code",
   "execution_count": 61,
   "metadata": {
    "collapsed": false
   },
   "outputs": [
    {
     "name": "stdout",
     "output_type": "stream",
     "text": [
      "Number of mislabeled points out of a total 3528 points : 216 for col=cap_shape\n",
      "Number of mislabeled points out of a total 3528 points : 116 for col=cap_surface\n",
      "Number of mislabeled points out of a total 3528 points : 1688 for col=cap_color\n",
      "Number of mislabeled points out of a total 3528 points : 120 for col=bruises\n",
      "Number of mislabeled points out of a total 3528 points : 3216 for col=gill_attachment\n",
      "Number of mislabeled points out of a total 3528 points : 120 for col=gill_spacing\n",
      "Number of mislabeled points out of a total 3528 points : 264 for col=gill_size\n",
      "Number of mislabeled points out of a total 3528 points : 916 for col=gill_color\n",
      "Number of mislabeled points out of a total 3528 points : 912 for col=stalk_shape\n",
      "Number of mislabeled points out of a total 3528 points : 112 for col=stalk_root\n",
      "Number of mislabeled points out of a total 3528 points : 3000 for col=stalk_surface_above_ring\n",
      "Number of mislabeled points out of a total 3528 points : 2808 for col=stalk_surface_below_ring\n",
      "Number of mislabeled points out of a total 3528 points : 1952 for col=stalk_color_above_ring\n",
      "Number of mislabeled points out of a total 3528 points : 1968 for col=stalk_color_below_ring\n",
      "Number of mislabeled points out of a total 3528 points : 120 for col=veil_type\n",
      "Number of mislabeled points out of a total 3528 points : 3216 for col=veil_color\n",
      "Number of mislabeled points out of a total 3528 points : 576 for col=ring_number\n",
      "Number of mislabeled points out of a total 3528 points : 3360 for col=ring_type\n",
      "Number of mislabeled points out of a total 3528 points : 576 for col=spore_print_color\n",
      "Number of mislabeled points out of a total 3528 points : 1384 for col=population\n",
      "Number of mislabeled points out of a total 3528 points : 3080 for col=habitat\n"
     ]
    }
   ],
   "source": [
    "#show predictions by single attribute\n",
    "for col in data.columns:\n",
    "    data_dict = data[[col]].to_dict('records')\n",
    "    enc_data = v.fit_transform(data_dict)\n",
    "    gnb = GaussianNB()\n",
    "    y_pred = gnb.fit(enc_data, target_array).predict(enc_data)\n",
    "    print(\"Number of mislabeled points out of a total %d points : %d for col=%s\" % (enc_data.shape[0],(target_array != y_pred).sum(),col))\n"
   ]
  },
  {
   "cell_type": "code",
   "execution_count": 62,
   "metadata": {
    "collapsed": false
   },
   "outputs": [
    {
     "data": {
      "text/plain": [
       "{'?': {'EDIBLE': 720, 'POISONOUS': 32},\n",
       " 'BULBOUS': {'EDIBLE': 1824, 'POISONOUS': 80},\n",
       " 'CLUB': {'EDIBLE': 0, 'POISONOUS': 8},\n",
       " 'EQUAL': {'EDIBLE': 864, 'POISONOUS': 0}}"
      ]
     },
     "execution_count": 62,
     "metadata": {},
     "output_type": "execute_result"
    }
   ],
   "source": [
    "\n",
    "counts={}\n",
    "od=no_odor[['class','stalk_root']]\n",
    "for row in od.values:\n",
    "    if row[1] not in counts:\n",
    "        counts[row[1]]={'EDIBLE':0,'POISONOUS':0}\n",
    "    counts[row[1]][row[0]]+=1\n",
    "counts"
   ]
  },
  {
   "cell_type": "code",
   "execution_count": 63,
   "metadata": {
    "collapsed": false
   },
   "outputs": [
    {
     "data": {
      "text/html": [
       "<div>\n",
       "<table border=\"1\" class=\"dataframe\">\n",
       "  <thead>\n",
       "    <tr style=\"text-align: right;\">\n",
       "      <th></th>\n",
       "      <th>class</th>\n",
       "      <th>cap_shape</th>\n",
       "      <th>cap_surface</th>\n",
       "      <th>cap_color</th>\n",
       "      <th>bruises</th>\n",
       "      <th>odor</th>\n",
       "      <th>gill_attachment</th>\n",
       "      <th>gill_spacing</th>\n",
       "      <th>gill_size</th>\n",
       "      <th>gill_color</th>\n",
       "      <th>...</th>\n",
       "      <th>stalk_surface_below_ring</th>\n",
       "      <th>stalk_color_above_ring</th>\n",
       "      <th>stalk_color_below_ring</th>\n",
       "      <th>veil_type</th>\n",
       "      <th>veil_color</th>\n",
       "      <th>ring_number</th>\n",
       "      <th>ring_type</th>\n",
       "      <th>spore_print_color</th>\n",
       "      <th>population</th>\n",
       "      <th>habitat</th>\n",
       "    </tr>\n",
       "  </thead>\n",
       "  <tbody>\n",
       "    <tr>\n",
       "      <th>7880</th>\n",
       "      <td>POISONOUS</td>\n",
       "      <td>BELL</td>\n",
       "      <td>SCALY</td>\n",
       "      <td>YELLOW</td>\n",
       "      <td>NO</td>\n",
       "      <td>NONE</td>\n",
       "      <td>FREE</td>\n",
       "      <td>CROWDED</td>\n",
       "      <td>NARROW</td>\n",
       "      <td>YELLOW</td>\n",
       "      <td>...</td>\n",
       "      <td>SCALY</td>\n",
       "      <td>YELLOW</td>\n",
       "      <td>YELLOW</td>\n",
       "      <td>PARTIAL</td>\n",
       "      <td>YELLOW</td>\n",
       "      <td>ONE</td>\n",
       "      <td>EVANESCENT</td>\n",
       "      <td>WHITE</td>\n",
       "      <td>CLUSTERED</td>\n",
       "      <td>LEAVES</td>\n",
       "    </tr>\n",
       "    <tr>\n",
       "      <th>7886</th>\n",
       "      <td>POISONOUS</td>\n",
       "      <td>KNOBBED</td>\n",
       "      <td>SCALY</td>\n",
       "      <td>YELLOW</td>\n",
       "      <td>NO</td>\n",
       "      <td>NONE</td>\n",
       "      <td>FREE</td>\n",
       "      <td>CROWDED</td>\n",
       "      <td>NARROW</td>\n",
       "      <td>YELLOW</td>\n",
       "      <td>...</td>\n",
       "      <td>SCALY</td>\n",
       "      <td>YELLOW</td>\n",
       "      <td>YELLOW</td>\n",
       "      <td>PARTIAL</td>\n",
       "      <td>YELLOW</td>\n",
       "      <td>ONE</td>\n",
       "      <td>EVANESCENT</td>\n",
       "      <td>WHITE</td>\n",
       "      <td>CLUSTERED</td>\n",
       "      <td>LEAVES</td>\n",
       "    </tr>\n",
       "    <tr>\n",
       "      <th>7884</th>\n",
       "      <td>POISONOUS</td>\n",
       "      <td>FLAT</td>\n",
       "      <td>SCALY</td>\n",
       "      <td>YELLOW</td>\n",
       "      <td>NO</td>\n",
       "      <td>NONE</td>\n",
       "      <td>FREE</td>\n",
       "      <td>CROWDED</td>\n",
       "      <td>NARROW</td>\n",
       "      <td>YELLOW</td>\n",
       "      <td>...</td>\n",
       "      <td>SCALY</td>\n",
       "      <td>YELLOW</td>\n",
       "      <td>YELLOW</td>\n",
       "      <td>PARTIAL</td>\n",
       "      <td>YELLOW</td>\n",
       "      <td>ONE</td>\n",
       "      <td>EVANESCENT</td>\n",
       "      <td>WHITE</td>\n",
       "      <td>CLUSTERED</td>\n",
       "      <td>LEAVES</td>\n",
       "    </tr>\n",
       "    <tr>\n",
       "      <th>7885</th>\n",
       "      <td>POISONOUS</td>\n",
       "      <td>FLAT</td>\n",
       "      <td>SCALY</td>\n",
       "      <td>YELLOW</td>\n",
       "      <td>NO</td>\n",
       "      <td>NONE</td>\n",
       "      <td>FREE</td>\n",
       "      <td>CROWDED</td>\n",
       "      <td>NARROW</td>\n",
       "      <td>WHITE</td>\n",
       "      <td>...</td>\n",
       "      <td>SCALY</td>\n",
       "      <td>YELLOW</td>\n",
       "      <td>YELLOW</td>\n",
       "      <td>PARTIAL</td>\n",
       "      <td>YELLOW</td>\n",
       "      <td>ONE</td>\n",
       "      <td>EVANESCENT</td>\n",
       "      <td>WHITE</td>\n",
       "      <td>CLUSTERED</td>\n",
       "      <td>LEAVES</td>\n",
       "    </tr>\n",
       "    <tr>\n",
       "      <th>7887</th>\n",
       "      <td>POISONOUS</td>\n",
       "      <td>KNOBBED</td>\n",
       "      <td>SCALY</td>\n",
       "      <td>YELLOW</td>\n",
       "      <td>NO</td>\n",
       "      <td>NONE</td>\n",
       "      <td>FREE</td>\n",
       "      <td>CROWDED</td>\n",
       "      <td>NARROW</td>\n",
       "      <td>WHITE</td>\n",
       "      <td>...</td>\n",
       "      <td>SCALY</td>\n",
       "      <td>YELLOW</td>\n",
       "      <td>YELLOW</td>\n",
       "      <td>PARTIAL</td>\n",
       "      <td>YELLOW</td>\n",
       "      <td>ONE</td>\n",
       "      <td>EVANESCENT</td>\n",
       "      <td>WHITE</td>\n",
       "      <td>CLUSTERED</td>\n",
       "      <td>LEAVES</td>\n",
       "    </tr>\n",
       "    <tr>\n",
       "      <th>7882</th>\n",
       "      <td>POISONOUS</td>\n",
       "      <td>CONICAL</td>\n",
       "      <td>SCALY</td>\n",
       "      <td>YELLOW</td>\n",
       "      <td>NO</td>\n",
       "      <td>NONE</td>\n",
       "      <td>FREE</td>\n",
       "      <td>CROWDED</td>\n",
       "      <td>NARROW</td>\n",
       "      <td>YELLOW</td>\n",
       "      <td>...</td>\n",
       "      <td>SCALY</td>\n",
       "      <td>YELLOW</td>\n",
       "      <td>YELLOW</td>\n",
       "      <td>PARTIAL</td>\n",
       "      <td>YELLOW</td>\n",
       "      <td>ONE</td>\n",
       "      <td>EVANESCENT</td>\n",
       "      <td>WHITE</td>\n",
       "      <td>CLUSTERED</td>\n",
       "      <td>LEAVES</td>\n",
       "    </tr>\n",
       "    <tr>\n",
       "      <th>7883</th>\n",
       "      <td>POISONOUS</td>\n",
       "      <td>CONICAL</td>\n",
       "      <td>SCALY</td>\n",
       "      <td>YELLOW</td>\n",
       "      <td>NO</td>\n",
       "      <td>NONE</td>\n",
       "      <td>FREE</td>\n",
       "      <td>CROWDED</td>\n",
       "      <td>NARROW</td>\n",
       "      <td>WHITE</td>\n",
       "      <td>...</td>\n",
       "      <td>SCALY</td>\n",
       "      <td>YELLOW</td>\n",
       "      <td>YELLOW</td>\n",
       "      <td>PARTIAL</td>\n",
       "      <td>YELLOW</td>\n",
       "      <td>ONE</td>\n",
       "      <td>EVANESCENT</td>\n",
       "      <td>WHITE</td>\n",
       "      <td>CLUSTERED</td>\n",
       "      <td>LEAVES</td>\n",
       "    </tr>\n",
       "    <tr>\n",
       "      <th>7881</th>\n",
       "      <td>POISONOUS</td>\n",
       "      <td>BELL</td>\n",
       "      <td>SCALY</td>\n",
       "      <td>YELLOW</td>\n",
       "      <td>NO</td>\n",
       "      <td>NONE</td>\n",
       "      <td>FREE</td>\n",
       "      <td>CROWDED</td>\n",
       "      <td>NARROW</td>\n",
       "      <td>WHITE</td>\n",
       "      <td>...</td>\n",
       "      <td>SCALY</td>\n",
       "      <td>YELLOW</td>\n",
       "      <td>YELLOW</td>\n",
       "      <td>PARTIAL</td>\n",
       "      <td>YELLOW</td>\n",
       "      <td>ONE</td>\n",
       "      <td>EVANESCENT</td>\n",
       "      <td>WHITE</td>\n",
       "      <td>CLUSTERED</td>\n",
       "      <td>LEAVES</td>\n",
       "    </tr>\n",
       "  </tbody>\n",
       "</table>\n",
       "<p>8 rows × 23 columns</p>\n",
       "</div>"
      ],
      "text/plain": [
       "          class cap_shape cap_surface cap_color bruises  odor gill_attachment  \\\n",
       "7880  POISONOUS      BELL       SCALY    YELLOW      NO  NONE            FREE   \n",
       "7886  POISONOUS   KNOBBED       SCALY    YELLOW      NO  NONE            FREE   \n",
       "7884  POISONOUS      FLAT       SCALY    YELLOW      NO  NONE            FREE   \n",
       "7885  POISONOUS      FLAT       SCALY    YELLOW      NO  NONE            FREE   \n",
       "7887  POISONOUS   KNOBBED       SCALY    YELLOW      NO  NONE            FREE   \n",
       "7882  POISONOUS   CONICAL       SCALY    YELLOW      NO  NONE            FREE   \n",
       "7883  POISONOUS   CONICAL       SCALY    YELLOW      NO  NONE            FREE   \n",
       "7881  POISONOUS      BELL       SCALY    YELLOW      NO  NONE            FREE   \n",
       "\n",
       "     gill_spacing gill_size gill_color   ...   stalk_surface_below_ring  \\\n",
       "7880      CROWDED    NARROW     YELLOW   ...                      SCALY   \n",
       "7886      CROWDED    NARROW     YELLOW   ...                      SCALY   \n",
       "7884      CROWDED    NARROW     YELLOW   ...                      SCALY   \n",
       "7885      CROWDED    NARROW      WHITE   ...                      SCALY   \n",
       "7887      CROWDED    NARROW      WHITE   ...                      SCALY   \n",
       "7882      CROWDED    NARROW     YELLOW   ...                      SCALY   \n",
       "7883      CROWDED    NARROW      WHITE   ...                      SCALY   \n",
       "7881      CROWDED    NARROW      WHITE   ...                      SCALY   \n",
       "\n",
       "     stalk_color_above_ring stalk_color_below_ring veil_type veil_color  \\\n",
       "7880                 YELLOW                 YELLOW   PARTIAL     YELLOW   \n",
       "7886                 YELLOW                 YELLOW   PARTIAL     YELLOW   \n",
       "7884                 YELLOW                 YELLOW   PARTIAL     YELLOW   \n",
       "7885                 YELLOW                 YELLOW   PARTIAL     YELLOW   \n",
       "7887                 YELLOW                 YELLOW   PARTIAL     YELLOW   \n",
       "7882                 YELLOW                 YELLOW   PARTIAL     YELLOW   \n",
       "7883                 YELLOW                 YELLOW   PARTIAL     YELLOW   \n",
       "7881                 YELLOW                 YELLOW   PARTIAL     YELLOW   \n",
       "\n",
       "     ring_number   ring_type spore_print_color population habitat  \n",
       "7880         ONE  EVANESCENT             WHITE  CLUSTERED  LEAVES  \n",
       "7886         ONE  EVANESCENT             WHITE  CLUSTERED  LEAVES  \n",
       "7884         ONE  EVANESCENT             WHITE  CLUSTERED  LEAVES  \n",
       "7885         ONE  EVANESCENT             WHITE  CLUSTERED  LEAVES  \n",
       "7887         ONE  EVANESCENT             WHITE  CLUSTERED  LEAVES  \n",
       "7882         ONE  EVANESCENT             WHITE  CLUSTERED  LEAVES  \n",
       "7883         ONE  EVANESCENT             WHITE  CLUSTERED  LEAVES  \n",
       "7881         ONE  EVANESCENT             WHITE  CLUSTERED  LEAVES  \n",
       "\n",
       "[8 rows x 23 columns]"
      ]
     },
     "execution_count": 63,
     "metadata": {},
     "output_type": "execute_result"
    }
   ],
   "source": [
    "mdata[(mdata.odor=='NONE') & (mdata['class']=='POISONOUS') & (mdata['stalk_root']=='CLUB')]"
   ]
  },
  {
   "cell_type": "code",
   "execution_count": 64,
   "metadata": {
    "collapsed": false
   },
   "outputs": [
    {
     "data": {
      "text/plain": [
       "{'bruises_BRUISES': {'EDIBLE': 1952, 'POISONOUS': 80},\n",
       " 'bruises_NO': {'EDIBLE': 1456, 'POISONOUS': 40},\n",
       " 'cap_color_BROWN': {'EDIBLE': 1168, 'POISONOUS': 16},\n",
       " 'cap_color_BUFF': {'EDIBLE': 48, 'POISONOUS': 24},\n",
       " 'cap_color_CINNAMON': {'EDIBLE': 32, 'POISONOUS': 0},\n",
       " 'cap_color_GRAY': {'EDIBLE': 1032, 'POISONOUS': 0},\n",
       " 'cap_color_GREEN': {'EDIBLE': 16, 'POISONOUS': 0},\n",
       " 'cap_color_PINK': {'EDIBLE': 56, 'POISONOUS': 24},\n",
       " 'cap_color_PURPLE': {'EDIBLE': 16, 'POISONOUS': 0},\n",
       " 'cap_color_RED': {'EDIBLE': 624, 'POISONOUS': 0},\n",
       " 'cap_color_WHITE': {'EDIBLE': 416, 'POISONOUS': 32},\n",
       " 'cap_color_YELLOW': {'EDIBLE': 0, 'POISONOUS': 24},\n",
       " 'cap_shape_BELL': {'EDIBLE': 148, 'POISONOUS': 48},\n",
       " 'cap_shape_CONICAL': {'EDIBLE': 0, 'POISONOUS': 4},\n",
       " 'cap_shape_CONVEX': {'EDIBLE': 1548, 'POISONOUS': 8},\n",
       " 'cap_shape_FLAT': {'EDIBLE': 1452, 'POISONOUS': 48},\n",
       " 'cap_shape_KNOBBED': {'EDIBLE': 228, 'POISONOUS': 12},\n",
       " 'cap_shape_SUNKEN': {'EDIBLE': 32, 'POISONOUS': 0},\n",
       " 'cap_surface_FIBROUS': {'EDIBLE': 1512, 'POISONOUS': 16},\n",
       " 'cap_surface_GROOVES': {'EDIBLE': 0, 'POISONOUS': 4},\n",
       " 'cap_surface_SCALY': {'EDIBLE': 1056, 'POISONOUS': 64},\n",
       " 'cap_surface_SMOOTH': {'EDIBLE': 840, 'POISONOUS': 36},\n",
       " 'gill_attachment_ATTACHED': {'EDIBLE': 192, 'POISONOUS': 0},\n",
       " 'gill_attachment_FREE': {'EDIBLE': 3216, 'POISONOUS': 120},\n",
       " 'gill_color_BLACK': {'EDIBLE': 216, 'POISONOUS': 0},\n",
       " 'gill_color_BROWN': {'EDIBLE': 712, 'POISONOUS': 0},\n",
       " 'gill_color_CHOCOLATE': {'EDIBLE': 204, 'POISONOUS': 0},\n",
       " 'gill_color_GRAY': {'EDIBLE': 120, 'POISONOUS': 24},\n",
       " 'gill_color_GREEN': {'EDIBLE': 0, 'POISONOUS': 24},\n",
       " 'gill_color_ORANGE': {'EDIBLE': 64, 'POISONOUS': 0},\n",
       " 'gill_color_PINK': {'EDIBLE': 756, 'POISONOUS': 0},\n",
       " 'gill_color_PURPLE': {'EDIBLE': 444, 'POISONOUS': 0},\n",
       " 'gill_color_RED': {'EDIBLE': 96, 'POISONOUS': 0},\n",
       " 'gill_color_WHITE': {'EDIBLE': 732, 'POISONOUS': 68},\n",
       " 'gill_color_YELLOW': {'EDIBLE': 64, 'POISONOUS': 4},\n",
       " 'gill_size_BROAD': {'EDIBLE': 3216, 'POISONOUS': 72},\n",
       " 'gill_size_NARROW': {'EDIBLE': 192, 'POISONOUS': 48},\n",
       " 'gill_spacing_CLOSE': {'EDIBLE': 2304, 'POISONOUS': 104},\n",
       " 'gill_spacing_CROWDED': {'EDIBLE': 1104, 'POISONOUS': 16},\n",
       " 'habitat_GRASSES': {'EDIBLE': 1056, 'POISONOUS': 36},\n",
       " 'habitat_LEAVES': {'EDIBLE': 240, 'POISONOUS': 16},\n",
       " 'habitat_MEADOWS': {'EDIBLE': 0, 'POISONOUS': 36},\n",
       " 'habitat_PATHS': {'EDIBLE': 40, 'POISONOUS': 0},\n",
       " 'habitat_URBAN': {'EDIBLE': 96, 'POISONOUS': 0},\n",
       " 'habitat_WASTE': {'EDIBLE': 192, 'POISONOUS': 0},\n",
       " 'habitat_WOODS': {'EDIBLE': 1784, 'POISONOUS': 32},\n",
       " 'population_ABUNDANT': {'EDIBLE': 384, 'POISONOUS': 0},\n",
       " 'population_CLUSTERED': {'EDIBLE': 288, 'POISONOUS': 16},\n",
       " 'population_NUMEROUS': {'EDIBLE': 144, 'POISONOUS': 0},\n",
       " 'population_SCATTERED': {'EDIBLE': 528, 'POISONOUS': 0},\n",
       " 'population_SEVERAL': {'EDIBLE': 1096, 'POISONOUS': 104},\n",
       " 'population_SOLITARY': {'EDIBLE': 968, 'POISONOUS': 0},\n",
       " 'ring_number_ONE': {'EDIBLE': 2880, 'POISONOUS': 48},\n",
       " 'ring_number_TWO': {'EDIBLE': 528, 'POISONOUS': 72},\n",
       " 'ring_type_EVANESCENT': {'EDIBLE': 1008, 'POISONOUS': 40},\n",
       " 'ring_type_FLARING': {'EDIBLE': 48, 'POISONOUS': 0},\n",
       " 'ring_type_PENDANT': {'EDIBLE': 2352, 'POISONOUS': 80},\n",
       " 'spore_print_color_BLACK': {'EDIBLE': 1296, 'POISONOUS': 0},\n",
       " 'spore_print_color_BROWN': {'EDIBLE': 1344, 'POISONOUS': 0},\n",
       " 'spore_print_color_BUFF': {'EDIBLE': 48, 'POISONOUS': 0},\n",
       " 'spore_print_color_CHOCOLATE': {'EDIBLE': 48, 'POISONOUS': 0},\n",
       " 'spore_print_color_GREEN': {'EDIBLE': 0, 'POISONOUS': 72},\n",
       " 'spore_print_color_ORANGE': {'EDIBLE': 48, 'POISONOUS': 0},\n",
       " 'spore_print_color_WHITE': {'EDIBLE': 576, 'POISONOUS': 48},\n",
       " 'spore_print_color_YELLOW': {'EDIBLE': 48, 'POISONOUS': 0},\n",
       " 'stalk_color_above_ring_BROWN': {'EDIBLE': 16, 'POISONOUS': 0},\n",
       " 'stalk_color_above_ring_GRAY': {'EDIBLE': 576, 'POISONOUS': 0},\n",
       " 'stalk_color_above_ring_ORANGE': {'EDIBLE': 192, 'POISONOUS': 0},\n",
       " 'stalk_color_above_ring_PINK': {'EDIBLE': 576, 'POISONOUS': 0},\n",
       " 'stalk_color_above_ring_RED': {'EDIBLE': 96, 'POISONOUS': 0},\n",
       " 'stalk_color_above_ring_WHITE': {'EDIBLE': 1952, 'POISONOUS': 112},\n",
       " 'stalk_color_above_ring_YELLOW': {'EDIBLE': 0, 'POISONOUS': 8},\n",
       " 'stalk_color_below_ring_BROWN': {'EDIBLE': 64, 'POISONOUS': 16},\n",
       " 'stalk_color_below_ring_GRAY': {'EDIBLE': 576, 'POISONOUS': 0},\n",
       " 'stalk_color_below_ring_ORANGE': {'EDIBLE': 192, 'POISONOUS': 0},\n",
       " 'stalk_color_below_ring_PINK': {'EDIBLE': 576, 'POISONOUS': 0},\n",
       " 'stalk_color_below_ring_RED': {'EDIBLE': 96, 'POISONOUS': 0},\n",
       " 'stalk_color_below_ring_WHITE': {'EDIBLE': 1904, 'POISONOUS': 80},\n",
       " 'stalk_color_below_ring_YELLOW': {'EDIBLE': 0, 'POISONOUS': 24},\n",
       " 'stalk_root_?': {'EDIBLE': 720, 'POISONOUS': 32},\n",
       " 'stalk_root_BULBOUS': {'EDIBLE': 1824, 'POISONOUS': 80},\n",
       " 'stalk_root_CLUB': {'EDIBLE': 0, 'POISONOUS': 8},\n",
       " 'stalk_root_EQUAL': {'EDIBLE': 864, 'POISONOUS': 0},\n",
       " 'stalk_shape_ENLARGING': {'EDIBLE': 912, 'POISONOUS': 120},\n",
       " 'stalk_shape_TAPERING': {'EDIBLE': 2496, 'POISONOUS': 0},\n",
       " 'stalk_surface_above_ring_FIBROUS': {'EDIBLE': 408, 'POISONOUS': 0},\n",
       " 'stalk_surface_above_ring_SCALY': {'EDIBLE': 16, 'POISONOUS': 8},\n",
       " 'stalk_surface_above_ring_SILKY': {'EDIBLE': 144, 'POISONOUS': 32},\n",
       " 'stalk_surface_above_ring_SMOOTH': {'EDIBLE': 2840, 'POISONOUS': 80},\n",
       " 'stalk_surface_below_ring_FIBROUS': {'EDIBLE': 456, 'POISONOUS': 0},\n",
       " 'stalk_surface_below_ring_SCALY': {'EDIBLE': 16, 'POISONOUS': 40},\n",
       " 'stalk_surface_below_ring_SILKY': {'EDIBLE': 144, 'POISONOUS': 0},\n",
       " 'stalk_surface_below_ring_SMOOTH': {'EDIBLE': 2792, 'POISONOUS': 80},\n",
       " 'veil_color_BROWN': {'EDIBLE': 96, 'POISONOUS': 0},\n",
       " 'veil_color_ORANGE': {'EDIBLE': 96, 'POISONOUS': 0},\n",
       " 'veil_color_WHITE': {'EDIBLE': 3216, 'POISONOUS': 112},\n",
       " 'veil_color_YELLOW': {'EDIBLE': 0, 'POISONOUS': 8},\n",
       " 'veil_type_PARTIAL': {'EDIBLE': 3408, 'POISONOUS': 120}}"
      ]
     },
     "execution_count": 64,
     "metadata": {},
     "output_type": "execute_result"
    }
   ],
   "source": [
    "counts={}\n",
    "for col in no_odor.columns:\n",
    "    if col=='class':\n",
    "        continue\n",
    "    od=no_odor[['class',col]]\n",
    "    for row in od.values:\n",
    "        if col+'_'+row[1] not in counts:\n",
    "            counts[col+'_'+row[1]]={'EDIBLE':0,'POISONOUS':0}\n",
    "        counts[col+'_'+row[1]][row[0]]+=1\n",
    "counts"
   ]
  },
  {
   "cell_type": "code",
   "execution_count": 65,
   "metadata": {
    "collapsed": false
   },
   "outputs": [
    {
     "data": {
      "text/plain": [
       "[{'EDIBLE': 2496,\n",
       "  'POISONOUS': 0,\n",
       "  'col': 'stalk_shape_TAPERING',\n",
       "  'total': 2496},\n",
       " {'EDIBLE': 1344,\n",
       "  'POISONOUS': 0,\n",
       "  'col': 'spore_print_color_BROWN',\n",
       "  'total': 1344},\n",
       " {'EDIBLE': 1296,\n",
       "  'POISONOUS': 0,\n",
       "  'col': 'spore_print_color_BLACK',\n",
       "  'total': 1296},\n",
       " {'EDIBLE': 1032, 'POISONOUS': 0, 'col': 'cap_color_GRAY', 'total': 1032},\n",
       " {'EDIBLE': 968, 'POISONOUS': 0, 'col': 'population_SOLITARY', 'total': 968},\n",
       " {'EDIBLE': 864, 'POISONOUS': 0, 'col': 'stalk_root_EQUAL', 'total': 864},\n",
       " {'EDIBLE': 756, 'POISONOUS': 0, 'col': 'gill_color_PINK', 'total': 756},\n",
       " {'EDIBLE': 712, 'POISONOUS': 0, 'col': 'gill_color_BROWN', 'total': 712},\n",
       " {'EDIBLE': 624, 'POISONOUS': 0, 'col': 'cap_color_RED', 'total': 624},\n",
       " {'EDIBLE': 576,\n",
       "  'POISONOUS': 0,\n",
       "  'col': 'stalk_color_below_ring_GRAY',\n",
       "  'total': 576},\n",
       " {'EDIBLE': 576,\n",
       "  'POISONOUS': 0,\n",
       "  'col': 'stalk_color_below_ring_PINK',\n",
       "  'total': 576},\n",
       " {'EDIBLE': 576,\n",
       "  'POISONOUS': 0,\n",
       "  'col': 'stalk_color_above_ring_GRAY',\n",
       "  'total': 576},\n",
       " {'EDIBLE': 576,\n",
       "  'POISONOUS': 0,\n",
       "  'col': 'stalk_color_above_ring_PINK',\n",
       "  'total': 576},\n",
       " {'EDIBLE': 528, 'POISONOUS': 0, 'col': 'population_SCATTERED', 'total': 528},\n",
       " {'EDIBLE': 456,\n",
       "  'POISONOUS': 0,\n",
       "  'col': 'stalk_surface_below_ring_FIBROUS',\n",
       "  'total': 456},\n",
       " {'EDIBLE': 444, 'POISONOUS': 0, 'col': 'gill_color_PURPLE', 'total': 444},\n",
       " {'EDIBLE': 408,\n",
       "  'POISONOUS': 0,\n",
       "  'col': 'stalk_surface_above_ring_FIBROUS',\n",
       "  'total': 408},\n",
       " {'EDIBLE': 384, 'POISONOUS': 0, 'col': 'population_ABUNDANT', 'total': 384},\n",
       " {'EDIBLE': 216, 'POISONOUS': 0, 'col': 'gill_color_BLACK', 'total': 216},\n",
       " {'EDIBLE': 204, 'POISONOUS': 0, 'col': 'gill_color_CHOCOLATE', 'total': 204},\n",
       " {'EDIBLE': 192,\n",
       "  'POISONOUS': 0,\n",
       "  'col': 'stalk_color_below_ring_ORANGE',\n",
       "  'total': 192},\n",
       " {'EDIBLE': 192, 'POISONOUS': 0, 'col': 'habitat_WASTE', 'total': 192},\n",
       " {'EDIBLE': 192,\n",
       "  'POISONOUS': 0,\n",
       "  'col': 'stalk_color_above_ring_ORANGE',\n",
       "  'total': 192},\n",
       " {'EDIBLE': 192,\n",
       "  'POISONOUS': 0,\n",
       "  'col': 'gill_attachment_ATTACHED',\n",
       "  'total': 192},\n",
       " {'EDIBLE': 144, 'POISONOUS': 0, 'col': 'population_NUMEROUS', 'total': 144},\n",
       " {'EDIBLE': 144,\n",
       "  'POISONOUS': 0,\n",
       "  'col': 'stalk_surface_below_ring_SILKY',\n",
       "  'total': 144},\n",
       " {'EDIBLE': 96, 'POISONOUS': 0, 'col': 'veil_color_ORANGE', 'total': 96},\n",
       " {'EDIBLE': 96,\n",
       "  'POISONOUS': 0,\n",
       "  'col': 'stalk_color_below_ring_RED',\n",
       "  'total': 96},\n",
       " {'EDIBLE': 96,\n",
       "  'POISONOUS': 0,\n",
       "  'col': 'stalk_color_above_ring_RED',\n",
       "  'total': 96},\n",
       " {'EDIBLE': 96, 'POISONOUS': 0, 'col': 'gill_color_RED', 'total': 96},\n",
       " {'EDIBLE': 96, 'POISONOUS': 0, 'col': 'habitat_URBAN', 'total': 96},\n",
       " {'EDIBLE': 96, 'POISONOUS': 0, 'col': 'veil_color_BROWN', 'total': 96},\n",
       " {'EDIBLE': 0, 'POISONOUS': 72, 'col': 'spore_print_color_GREEN', 'total': 72},\n",
       " {'EDIBLE': 64, 'POISONOUS': 0, 'col': 'gill_color_ORANGE', 'total': 64},\n",
       " {'EDIBLE': 48,\n",
       "  'POISONOUS': 0,\n",
       "  'col': 'spore_print_color_YELLOW',\n",
       "  'total': 48},\n",
       " {'EDIBLE': 48,\n",
       "  'POISONOUS': 0,\n",
       "  'col': 'spore_print_color_ORANGE',\n",
       "  'total': 48},\n",
       " {'EDIBLE': 48, 'POISONOUS': 0, 'col': 'spore_print_color_BUFF', 'total': 48},\n",
       " {'EDIBLE': 48, 'POISONOUS': 0, 'col': 'ring_type_FLARING', 'total': 48},\n",
       " {'EDIBLE': 48,\n",
       "  'POISONOUS': 0,\n",
       "  'col': 'spore_print_color_CHOCOLATE',\n",
       "  'total': 48},\n",
       " {'EDIBLE': 40, 'POISONOUS': 0, 'col': 'habitat_PATHS', 'total': 40},\n",
       " {'EDIBLE': 0, 'POISONOUS': 36, 'col': 'habitat_MEADOWS', 'total': 36},\n",
       " {'EDIBLE': 32, 'POISONOUS': 0, 'col': 'cap_color_CINNAMON', 'total': 32},\n",
       " {'EDIBLE': 32, 'POISONOUS': 0, 'col': 'cap_shape_SUNKEN', 'total': 32},\n",
       " {'EDIBLE': 0, 'POISONOUS': 24, 'col': 'gill_color_GREEN', 'total': 24},\n",
       " {'EDIBLE': 0,\n",
       "  'POISONOUS': 24,\n",
       "  'col': 'stalk_color_below_ring_YELLOW',\n",
       "  'total': 24},\n",
       " {'EDIBLE': 0, 'POISONOUS': 24, 'col': 'cap_color_YELLOW', 'total': 24},\n",
       " {'EDIBLE': 16, 'POISONOUS': 0, 'col': 'cap_color_PURPLE', 'total': 16},\n",
       " {'EDIBLE': 16, 'POISONOUS': 0, 'col': 'cap_color_GREEN', 'total': 16},\n",
       " {'EDIBLE': 16,\n",
       "  'POISONOUS': 0,\n",
       "  'col': 'stalk_color_above_ring_BROWN',\n",
       "  'total': 16},\n",
       " {'EDIBLE': 0,\n",
       "  'POISONOUS': 8,\n",
       "  'col': 'stalk_color_above_ring_YELLOW',\n",
       "  'total': 8},\n",
       " {'EDIBLE': 0, 'POISONOUS': 8, 'col': 'stalk_root_CLUB', 'total': 8},\n",
       " {'EDIBLE': 0, 'POISONOUS': 8, 'col': 'veil_color_YELLOW', 'total': 8},\n",
       " {'EDIBLE': 0, 'POISONOUS': 4, 'col': 'cap_surface_GROOVES', 'total': 4},\n",
       " {'EDIBLE': 0, 'POISONOUS': 4, 'col': 'cap_shape_CONICAL', 'total': 4}]"
      ]
     },
     "execution_count": 65,
     "metadata": {},
     "output_type": "execute_result"
    }
   ],
   "source": [
    "interesting = []\n",
    "for t in counts:\n",
    "    if counts[t]['EDIBLE']==0 or counts[t]['POISONOUS']==0:\n",
    "        counts[t]['col']=t\n",
    "        counts[t]['total']=counts[t]['EDIBLE']+counts[t]['POISONOUS']\n",
    "        interesting.append(counts[t])\n",
    "#interesting=array(interesting)\n",
    "from operator import itemgetter\n",
    "sorted(interesting, key=itemgetter('total'),reverse=True)"
   ]
  },
  {
   "cell_type": "code",
   "execution_count": 66,
   "metadata": {
    "collapsed": false
   },
   "outputs": [
    {
     "data": {
      "text/plain": [
       "<matplotlib.text.Text at 0x1193852b0>"
      ]
     },
     "execution_count": 66,
     "metadata": {},
     "output_type": "execute_result"
    }
   ],
   "source": [
    "p1=[]\n",
    "p2=[]\n",
    "labels=[]\n",
    "for i in counts:\n",
    "    p1.append(counts[i][\"EDIBLE\"])\n",
    "    p2.append(counts[i][\"POISONOUS\"])\n",
    "    labels.append(i)\n",
    "\n",
    "import matplotlib.pyplot as plt\n",
    "plt.rcdefaults()\n",
    "import numpy as np\n",
    "import matplotlib.pyplot as plt\n",
    " \n",
    "y_pos = np.arange(len(labels))\n",
    " \n",
    "\n",
    "plt.barh(y_pos, p1, )\n",
    "plt.yticks(y_pos, labels)\n",
    "plt.xlabel('Edible v Poisonous')\n",
    "#plt.title('How fast do you want to go today?')\n",
    "\n",
    "#plt.show()"
   ]
  },
  {
   "cell_type": "code",
   "execution_count": 67,
   "metadata": {
    "collapsed": false
   },
   "outputs": [
    {
     "data": {
      "text/html": [
       "<div>\n",
       "<table border=\"1\" class=\"dataframe\">\n",
       "  <thead>\n",
       "    <tr style=\"text-align: right;\">\n",
       "      <th></th>\n",
       "      <th>EDIBLE</th>\n",
       "      <th>POISONOUS</th>\n",
       "    </tr>\n",
       "  </thead>\n",
       "  <tbody>\n",
       "    <tr>\n",
       "      <th>bruises_BRUISES</th>\n",
       "      <td>1952</td>\n",
       "      <td>80</td>\n",
       "    </tr>\n",
       "    <tr>\n",
       "      <th>bruises_NO</th>\n",
       "      <td>1456</td>\n",
       "      <td>40</td>\n",
       "    </tr>\n",
       "    <tr>\n",
       "      <th>cap_color_BROWN</th>\n",
       "      <td>1168</td>\n",
       "      <td>16</td>\n",
       "    </tr>\n",
       "    <tr>\n",
       "      <th>cap_color_BUFF</th>\n",
       "      <td>48</td>\n",
       "      <td>24</td>\n",
       "    </tr>\n",
       "    <tr>\n",
       "      <th>cap_color_CINNAMON</th>\n",
       "      <td>32</td>\n",
       "      <td>0</td>\n",
       "    </tr>\n",
       "    <tr>\n",
       "      <th>cap_color_GRAY</th>\n",
       "      <td>1032</td>\n",
       "      <td>0</td>\n",
       "    </tr>\n",
       "    <tr>\n",
       "      <th>cap_color_GREEN</th>\n",
       "      <td>16</td>\n",
       "      <td>0</td>\n",
       "    </tr>\n",
       "    <tr>\n",
       "      <th>cap_color_PINK</th>\n",
       "      <td>56</td>\n",
       "      <td>24</td>\n",
       "    </tr>\n",
       "    <tr>\n",
       "      <th>cap_color_PURPLE</th>\n",
       "      <td>16</td>\n",
       "      <td>0</td>\n",
       "    </tr>\n",
       "    <tr>\n",
       "      <th>cap_color_RED</th>\n",
       "      <td>624</td>\n",
       "      <td>0</td>\n",
       "    </tr>\n",
       "  </tbody>\n",
       "</table>\n",
       "</div>"
      ],
      "text/plain": [
       "                   EDIBLE POISONOUS\n",
       "bruises_BRUISES      1952        80\n",
       "bruises_NO           1456        40\n",
       "cap_color_BROWN      1168        16\n",
       "cap_color_BUFF         48        24\n",
       "cap_color_CINNAMON     32         0\n",
       "cap_color_GRAY       1032         0\n",
       "cap_color_GREEN        16         0\n",
       "cap_color_PINK         56        24\n",
       "cap_color_PURPLE       16         0\n",
       "cap_color_RED         624         0"
      ]
     },
     "execution_count": 67,
     "metadata": {},
     "output_type": "execute_result"
    }
   ],
   "source": [
    "x=pd.DataFrame.from_dict(counts).T.drop('col',1).drop('total',1)\n",
    "x.head(10)"
   ]
  },
  {
   "cell_type": "code",
   "execution_count": 68,
   "metadata": {
    "collapsed": false
   },
   "outputs": [],
   "source": [
    "p=x.plot(kind='bar', stacked=True)\n",
    "plt.show()"
   ]
  },
  {
   "cell_type": "code",
   "execution_count": null,
   "metadata": {
    "collapsed": true
   },
   "outputs": [],
   "source": []
  },
  {
   "cell_type": "code",
   "execution_count": null,
   "metadata": {
    "collapsed": true
   },
   "outputs": [],
   "source": []
  }
 ],
 "metadata": {
  "kernelspec": {
   "display_name": "Python 3",
   "language": "python",
   "name": "python3"
  },
  "language_info": {
   "codemirror_mode": {
    "name": "ipython",
    "version": 3
   },
   "file_extension": ".py",
   "mimetype": "text/x-python",
   "name": "python",
   "nbconvert_exporter": "python",
   "pygments_lexer": "ipython3",
   "version": "3.5.2"
  }
 },
 "nbformat": 4,
 "nbformat_minor": 0
}
