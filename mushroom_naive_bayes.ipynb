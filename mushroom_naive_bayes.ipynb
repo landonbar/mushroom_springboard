{
 "cells": [
  {
   "cell_type": "code",
   "execution_count": 2,
   "metadata": {
    "collapsed": false
   },
   "outputs": [
    {
     "data": {
      "text/html": [
       "<style>body {\n",
       "    margin: 0;\n",
       "    font-family: Helvetica;\n",
       "}\n",
       "table.dataframe {\n",
       "    border-collapse: collapse;\n",
       "    border: none;\n",
       "}\n",
       "table.dataframe tr {\n",
       "    border: none;\n",
       "}\n",
       "table.dataframe td, table.dataframe th {\n",
       "    margin: 0;\n",
       "    border: 1px solid white;\n",
       "    padding-left: 0.25em;\n",
       "    padding-right: 0.25em;\n",
       "}\n",
       "table.dataframe th:not(:empty) {\n",
       "    background-color: #fec;\n",
       "    text-align: left;\n",
       "    font-weight: normal;\n",
       "}\n",
       "table.dataframe tr:nth-child(2) th:empty {\n",
       "    border-left: none;\n",
       "    border-right: 1px dashed #888;\n",
       "}\n",
       "table.dataframe td {\n",
       "    border: 2px solid #ccf;\n",
       "    background-color: #f4f4ff;\n",
       "}\n",
       "h3 {\n",
       "    color: white;\n",
       "    background-color: black;\n",
       "    padding: 0.5em;\n",
       "}\n",
       "</style>"
      ],
      "text/plain": [
       "<IPython.core.display.HTML object>"
      ]
     },
     "execution_count": 2,
     "metadata": {},
     "output_type": "execute_result"
    }
   ],
   "source": [
    "from IPython.core.display import HTML\n",
    "css = open('style-table.css').read() + open('style-notebook.css').read()\n",
    "HTML('<style>{}</style>'.format(css))"
   ]
  },
  {
   "cell_type": "code",
   "execution_count": 83,
   "metadata": {
    "collapsed": false
   },
   "outputs": [
    {
     "data": {
      "text/plain": [
       "8124"
      ]
     },
     "execution_count": 83,
     "metadata": {},
     "output_type": "execute_result"
    }
   ],
   "source": [
    "import pandas as pd\n",
    "import random\n",
    "import math\n",
    "random.seed(31415)\n",
    "mdata = pd.DataFrame.from_csv('mdata/expanded.csv',index_col=False).drop_duplicates()\n",
    "mdata=mdata.sample(frac=1,random_state=31415)\n",
    "len(mdata.values)"
   ]
  },
  {
   "cell_type": "code",
   "execution_count": 114,
   "metadata": {
    "collapsed": false
   },
   "outputs": [
    {
     "data": {
      "text/plain": [
       "0.517971442639094"
      ]
     },
     "execution_count": 114,
     "metadata": {},
     "output_type": "execute_result"
    }
   ],
   "source": [
    "#check edible to poisonous target class split\n",
    "len(mdata[mdata['class']=='EDIBLE'])/len(mdata)"
   ]
  },
  {
   "cell_type": "code",
   "execution_count": 84,
   "metadata": {
    "collapsed": false
   },
   "outputs": [
    {
     "data": {
      "text/plain": [
       "5644"
      ]
     },
     "execution_count": 84,
     "metadata": {},
     "output_type": "execute_result"
    }
   ],
   "source": [
    "#create dataset of complete rows\n",
    "complete=mdata[mdata.stalk_root!='?'].drop_duplicates()\n",
    "len(complete.values)"
   ]
  },
  {
   "cell_type": "code",
   "execution_count": 85,
   "metadata": {
    "collapsed": false
   },
   "outputs": [
    {
     "data": {
      "text/html": [
       "<div>\n",
       "<table border=\"1\" class=\"dataframe\">\n",
       "  <thead>\n",
       "    <tr style=\"text-align: right;\">\n",
       "      <th></th>\n",
       "      <th>class</th>\n",
       "      <th>cap_shape</th>\n",
       "      <th>cap_surface</th>\n",
       "      <th>cap_color</th>\n",
       "      <th>bruises</th>\n",
       "      <th>odor</th>\n",
       "      <th>gill_attachment</th>\n",
       "      <th>gill_spacing</th>\n",
       "      <th>gill_size</th>\n",
       "      <th>gill_color</th>\n",
       "      <th>...</th>\n",
       "      <th>stalk_surface_below_ring</th>\n",
       "      <th>stalk_color_above_ring</th>\n",
       "      <th>stalk_color_below_ring</th>\n",
       "      <th>veil_type</th>\n",
       "      <th>veil_color</th>\n",
       "      <th>ring_number</th>\n",
       "      <th>ring_type</th>\n",
       "      <th>spore_print_color</th>\n",
       "      <th>population</th>\n",
       "      <th>habitat</th>\n",
       "    </tr>\n",
       "  </thead>\n",
       "  <tbody>\n",
       "    <tr>\n",
       "      <th>5895</th>\n",
       "      <td>EDIBLE</td>\n",
       "      <td>CONVEX</td>\n",
       "      <td>SMOOTH</td>\n",
       "      <td>RED</td>\n",
       "      <td>BRUISES</td>\n",
       "      <td>NONE</td>\n",
       "      <td>FREE</td>\n",
       "      <td>CLOSE</td>\n",
       "      <td>BROAD</td>\n",
       "      <td>RED</td>\n",
       "      <td>...</td>\n",
       "      <td>SMOOTH</td>\n",
       "      <td>RED</td>\n",
       "      <td>RED</td>\n",
       "      <td>PARTIAL</td>\n",
       "      <td>WHITE</td>\n",
       "      <td>TWO</td>\n",
       "      <td>EVANESCENT</td>\n",
       "      <td>WHITE</td>\n",
       "      <td>CLUSTERED</td>\n",
       "      <td>WASTE</td>\n",
       "    </tr>\n",
       "  </tbody>\n",
       "</table>\n",
       "<p>1 rows × 23 columns</p>\n",
       "</div>"
      ],
      "text/plain": [
       "       class cap_shape cap_surface cap_color  bruises  odor gill_attachment  \\\n",
       "5895  EDIBLE    CONVEX      SMOOTH       RED  BRUISES  NONE            FREE   \n",
       "\n",
       "     gill_spacing gill_size gill_color   ...   stalk_surface_below_ring  \\\n",
       "5895        CLOSE     BROAD        RED   ...                     SMOOTH   \n",
       "\n",
       "     stalk_color_above_ring stalk_color_below_ring veil_type veil_color  \\\n",
       "5895                    RED                    RED   PARTIAL      WHITE   \n",
       "\n",
       "     ring_number   ring_type spore_print_color population habitat  \n",
       "5895         TWO  EVANESCENT             WHITE  CLUSTERED   WASTE  \n",
       "\n",
       "[1 rows x 23 columns]"
      ]
     },
     "execution_count": 85,
     "metadata": {},
     "output_type": "execute_result"
    }
   ],
   "source": [
    "mdata.head(1)"
   ]
  },
  {
   "cell_type": "code",
   "execution_count": 86,
   "metadata": {
    "collapsed": false
   },
   "outputs": [
    {
     "data": {
      "text/html": [
       "<div>\n",
       "<table border=\"1\" class=\"dataframe\">\n",
       "  <thead>\n",
       "    <tr style=\"text-align: right;\">\n",
       "      <th></th>\n",
       "      <th>class</th>\n",
       "      <th>cap_shape</th>\n",
       "      <th>cap_surface</th>\n",
       "      <th>cap_color</th>\n",
       "      <th>bruises</th>\n",
       "      <th>odor</th>\n",
       "      <th>gill_attachment</th>\n",
       "      <th>gill_spacing</th>\n",
       "      <th>gill_size</th>\n",
       "      <th>gill_color</th>\n",
       "      <th>...</th>\n",
       "      <th>stalk_surface_below_ring</th>\n",
       "      <th>stalk_color_above_ring</th>\n",
       "      <th>stalk_color_below_ring</th>\n",
       "      <th>veil_type</th>\n",
       "      <th>veil_color</th>\n",
       "      <th>ring_number</th>\n",
       "      <th>ring_type</th>\n",
       "      <th>spore_print_color</th>\n",
       "      <th>population</th>\n",
       "      <th>habitat</th>\n",
       "    </tr>\n",
       "  </thead>\n",
       "  <tbody>\n",
       "    <tr>\n",
       "      <th>5895</th>\n",
       "      <td>EDIBLE</td>\n",
       "      <td>CONVEX</td>\n",
       "      <td>SMOOTH</td>\n",
       "      <td>RED</td>\n",
       "      <td>BRUISES</td>\n",
       "      <td>NONE</td>\n",
       "      <td>FREE</td>\n",
       "      <td>CLOSE</td>\n",
       "      <td>BROAD</td>\n",
       "      <td>RED</td>\n",
       "      <td>...</td>\n",
       "      <td>SMOOTH</td>\n",
       "      <td>RED</td>\n",
       "      <td>RED</td>\n",
       "      <td>PARTIAL</td>\n",
       "      <td>WHITE</td>\n",
       "      <td>TWO</td>\n",
       "      <td>EVANESCENT</td>\n",
       "      <td>WHITE</td>\n",
       "      <td>CLUSTERED</td>\n",
       "      <td>WASTE</td>\n",
       "    </tr>\n",
       "  </tbody>\n",
       "</table>\n",
       "<p>1 rows × 22 columns</p>\n",
       "</div>"
      ],
      "text/plain": [
       "       class cap_shape cap_surface cap_color  bruises  odor gill_attachment  \\\n",
       "5895  EDIBLE    CONVEX      SMOOTH       RED  BRUISES  NONE            FREE   \n",
       "\n",
       "     gill_spacing gill_size gill_color   ...   stalk_surface_below_ring  \\\n",
       "5895        CLOSE     BROAD        RED   ...                     SMOOTH   \n",
       "\n",
       "     stalk_color_above_ring stalk_color_below_ring veil_type veil_color  \\\n",
       "5895                    RED                    RED   PARTIAL      WHITE   \n",
       "\n",
       "     ring_number   ring_type spore_print_color population habitat  \n",
       "5895         TWO  EVANESCENT             WHITE  CLUSTERED   WASTE  \n",
       "\n",
       "[1 rows x 22 columns]"
      ]
     },
     "execution_count": 86,
     "metadata": {},
     "output_type": "execute_result"
    }
   ],
   "source": [
    "#create dataset with column of missing values removed\n",
    "roots = mdata.stalk_root\n",
    "ignore_roots=mdata.drop('stalk_root',1)\n",
    "ignore_roots.head(1)"
   ]
  },
  {
   "cell_type": "code",
   "execution_count": 87,
   "metadata": {
    "collapsed": false
   },
   "outputs": [],
   "source": [
    "#split data and target\n",
    "target = ignore_roots['class']\n",
    "data = ignore_roots.drop('class',1)"
   ]
  },
  {
   "cell_type": "code",
   "execution_count": 88,
   "metadata": {
    "collapsed": true
   },
   "outputs": [],
   "source": [
    "from sklearn.feature_extraction import DictVectorizer\n",
    "v = DictVectorizer(sparse=False)\n"
   ]
  },
  {
   "cell_type": "code",
   "execution_count": 89,
   "metadata": {
    "collapsed": false
   },
   "outputs": [],
   "source": [
    "data_dict = data.to_dict('records')"
   ]
  },
  {
   "cell_type": "code",
   "execution_count": 90,
   "metadata": {
    "collapsed": false
   },
   "outputs": [
    {
     "data": {
      "text/plain": [
       "8124"
      ]
     },
     "execution_count": 90,
     "metadata": {},
     "output_type": "execute_result"
    }
   ],
   "source": [
    "#encode target class as 0 or 1\n",
    "target_list=[]\n",
    "for c in target.values:\n",
    "    if c=='EDIBLE': \n",
    "        target_list.append(0)\n",
    "    else :\n",
    "        target_list.append(1)\n",
    "len(target_list)\n",
    "\n",
    "#target_dict = target.to_dict('records')"
   ]
  },
  {
   "cell_type": "code",
   "execution_count": 91,
   "metadata": {
    "collapsed": false
   },
   "outputs": [
    {
     "data": {
      "text/plain": [
       "8124"
      ]
     },
     "execution_count": 91,
     "metadata": {},
     "output_type": "execute_result"
    }
   ],
   "source": [
    "#hot encode attributes\n",
    "enc_data = v.fit_transform(data_dict)\n",
    "len(enc_data)"
   ]
  },
  {
   "cell_type": "code",
   "execution_count": 92,
   "metadata": {
    "collapsed": false
   },
   "outputs": [
    {
     "data": {
      "text/plain": [
       "array([[ 1.,  0.,  0., ...,  1.,  0.,  1.],\n",
       "       [ 0.,  1.,  0., ...,  1.,  0.,  1.],\n",
       "       [ 1.,  0.,  0., ...,  1.,  0.,  1.],\n",
       "       ..., \n",
       "       [ 0.,  1.,  0., ...,  1.,  0.,  1.],\n",
       "       [ 0.,  1.,  1., ...,  1.,  0.,  1.],\n",
       "       [ 0.,  1.,  0., ...,  1.,  0.,  1.]])"
      ]
     },
     "execution_count": 92,
     "metadata": {},
     "output_type": "execute_result"
    }
   ],
   "source": [
    "enc_data"
   ]
  },
  {
   "cell_type": "code",
   "execution_count": 93,
   "metadata": {
    "collapsed": false
   },
   "outputs": [],
   "source": [
    "from numpy import array\n",
    "target_array = array(target_list)"
   ]
  },
  {
   "cell_type": "code",
   "execution_count": 94,
   "metadata": {
    "collapsed": false
   },
   "outputs": [
    {
     "name": "stdout",
     "output_type": "stream",
     "text": [
      "Number of mislabeled points out of a total 8124 points : 91\n"
     ]
    }
   ],
   "source": [
    "#show naive bayes fit on total data set\n",
    "from sklearn.naive_bayes import GaussianNB\n",
    "gnb = GaussianNB()\n",
    "y_pred = gnb.fit(enc_data, target_array).predict(enc_data)\n",
    "print(\"Number of mislabeled points out of a total %d points : %d\" % (enc_data.shape[0],(target_array != y_pred).sum()))\n"
   ]
  },
  {
   "cell_type": "code",
   "execution_count": 95,
   "metadata": {
    "collapsed": false
   },
   "outputs": [],
   "source": [
    "#generate random sample from data\n",
    "\n",
    "test_ids=random.sample(range(0, len(enc_data)), math.floor(len(enc_data)*.3))"
   ]
  },
  {
   "cell_type": "code",
   "execution_count": 96,
   "metadata": {
    "collapsed": false
   },
   "outputs": [],
   "source": [
    "#split data into training set and test set\n",
    "train_data=[]\n",
    "test_data=[]\n",
    "train_target=[]\n",
    "test_target=[]\n",
    "for i in range(len(enc_data)):\n",
    "    if i in test_ids:\n",
    "        test_data.append(enc_data[i])\n",
    "        test_target.append(target_array[i])\n",
    "    else:\n",
    "        train_data.append(enc_data[i])\n",
    "        train_target.append(target_array[i])\n",
    "        \n"
   ]
  },
  {
   "cell_type": "code",
   "execution_count": 97,
   "metadata": {
    "collapsed": false
   },
   "outputs": [],
   "source": [
    "len(train_data)\n",
    "train_data=array(train_data)"
   ]
  },
  {
   "cell_type": "code",
   "execution_count": 98,
   "metadata": {
    "collapsed": false
   },
   "outputs": [
    {
     "name": "stdout",
     "output_type": "stream",
     "text": [
      "Number of mislabeled points out of a total 2437 points : 34\n"
     ]
    }
   ],
   "source": [
    "#accuracy of naive bayes based on training set\n",
    "gnb = GaussianNB()\n",
    "new_pred = gnb.fit(train_data, train_target).predict(test_data)\n",
    "print(\"Number of mislabeled points out of a total %d points : %d\" % (len(test_data),(test_target != new_pred).sum()))\n"
   ]
  },
  {
   "cell_type": "code",
   "execution_count": 99,
   "metadata": {
    "collapsed": true
   },
   "outputs": [],
   "source": [
    "#repeat with complete rows\n",
    "target = complete['class']\n",
    "data = complete.drop('class',1)"
   ]
  },
  {
   "cell_type": "code",
   "execution_count": 100,
   "metadata": {
    "collapsed": false
   },
   "outputs": [
    {
     "data": {
      "text/plain": [
       "5644"
      ]
     },
     "execution_count": 100,
     "metadata": {},
     "output_type": "execute_result"
    }
   ],
   "source": [
    "#encode target class as 0 or 1\n",
    "target_list=[]\n",
    "for c in target.values:\n",
    "    if c=='EDIBLE': \n",
    "        target_list.append(0)\n",
    "    else :\n",
    "        target_list.append(1)\n",
    "len(target_list)\n"
   ]
  },
  {
   "cell_type": "code",
   "execution_count": 101,
   "metadata": {
    "collapsed": true
   },
   "outputs": [],
   "source": [
    "target_array = array(target_list)"
   ]
  },
  {
   "cell_type": "code",
   "execution_count": 102,
   "metadata": {
    "collapsed": false
   },
   "outputs": [
    {
     "data": {
      "text/plain": [
       "5644"
      ]
     },
     "execution_count": 102,
     "metadata": {},
     "output_type": "execute_result"
    }
   ],
   "source": [
    "data_dict = data.to_dict('records')\n",
    "enc_data = v.fit_transform(data_dict)\n",
    "len(enc_data)"
   ]
  },
  {
   "cell_type": "code",
   "execution_count": 103,
   "metadata": {
    "collapsed": false
   },
   "outputs": [
    {
     "name": "stdout",
     "output_type": "stream",
     "text": [
      "Number of mislabeled points out of a total 5644 points : 8\n"
     ]
    }
   ],
   "source": [
    "y_pred = gnb.fit(enc_data, target_array).predict(enc_data)\n",
    "print(\"Number of mislabeled points out of a total %d points : %d\" % (enc_data.shape[0],(target_array != y_pred).sum()))\n"
   ]
  },
  {
   "cell_type": "code",
   "execution_count": 104,
   "metadata": {
    "collapsed": true
   },
   "outputs": [],
   "source": [
    "random.seed(31415)\n",
    "test_ids=random.sample(range(0, len(enc_data)), math.floor(len(enc_data)*.3))"
   ]
  },
  {
   "cell_type": "code",
   "execution_count": 105,
   "metadata": {
    "collapsed": true
   },
   "outputs": [],
   "source": [
    "#split data into training set and test set\n",
    "train_data=[]\n",
    "test_data=[]\n",
    "train_target=[]\n",
    "test_target=[]\n",
    "for i in range(len(enc_data)):\n",
    "    if i in test_ids:\n",
    "        test_data.append(enc_data[i])\n",
    "        test_target.append(target_array[i])\n",
    "    else:\n",
    "        train_data.append(enc_data[i])\n",
    "        train_target.append(target_array[i])"
   ]
  },
  {
   "cell_type": "code",
   "execution_count": 106,
   "metadata": {
    "collapsed": true
   },
   "outputs": [],
   "source": [
    "len(train_data)\n",
    "train_data=array(train_data)"
   ]
  },
  {
   "cell_type": "code",
   "execution_count": 107,
   "metadata": {
    "collapsed": false
   },
   "outputs": [
    {
     "name": "stdout",
     "output_type": "stream",
     "text": [
      "Number of mislabeled points out of a total 1693 points : 3\n"
     ]
    }
   ],
   "source": [
    "#accuracy of naive bayes based on training set\n",
    "new_pred = gnb.fit(train_data, train_target).predict(test_data)\n",
    "print(\"Number of mislabeled points out of a total %d points : %d\" % (len(test_data),(test_target != new_pred).sum()))\n"
   ]
  },
  {
   "cell_type": "code",
   "execution_count": 108,
   "metadata": {
    "collapsed": true
   },
   "outputs": [],
   "source": [
    "curve= gnb.fit(train_data, train_target)"
   ]
  },
  {
   "cell_type": "code",
   "execution_count": 109,
   "metadata": {
    "collapsed": false
   },
   "outputs": [
    {
     "data": {
      "text/plain": [
       "array([[  1.00000000e+000,   3.45951074e-089],\n",
       "       [  0.00000000e+000,   1.00000000e+000],\n",
       "       [  0.00000000e+000,   1.00000000e+000],\n",
       "       ..., \n",
       "       [  1.00000000e+000,   2.03279129e-133],\n",
       "       [  1.00000000e+000,   1.02043540e-121],\n",
       "       [  1.00000000e+000,   0.00000000e+000]])"
      ]
     },
     "execution_count": 109,
     "metadata": {},
     "output_type": "execute_result"
    }
   ],
   "source": [
    "curve.predict_proba(test_data)"
   ]
  },
  {
   "cell_type": "code",
   "execution_count": 110,
   "metadata": {
    "collapsed": false
   },
   "outputs": [
    {
     "data": {
      "text/plain": [
       "0.99822799763733017"
      ]
     },
     "execution_count": 110,
     "metadata": {},
     "output_type": "execute_result"
    }
   ],
   "source": [
    "curve.score(test_data, test_target)"
   ]
  },
  {
   "cell_type": "code",
   "execution_count": 115,
   "metadata": {
    "collapsed": false
   },
   "outputs": [
    {
     "data": {
      "text/plain": [
       "Index(['class', 'cap_shape', 'cap_surface', 'cap_color', 'bruises', 'odor',\n",
       "       'gill_attachment', 'gill_spacing', 'gill_size', 'gill_color',\n",
       "       'stalk_shape', 'stalk_root', 'stalk_surface_above_ring',\n",
       "       'stalk_surface_below_ring', 'stalk_color_above_ring',\n",
       "       'stalk_color_below_ring', 'veil_type', 'veil_color', 'ring_number',\n",
       "       'ring_type', 'spore_print_color', 'population', 'habitat'],\n",
       "      dtype='object')"
      ]
     },
     "execution_count": 115,
     "metadata": {},
     "output_type": "execute_result"
    }
   ],
   "source": [
    "mdata.columns"
   ]
  },
  {
   "cell_type": "code",
   "execution_count": 130,
   "metadata": {
    "collapsed": false
   },
   "outputs": [
    {
     "data": {
      "text/plain": [
       "[6, 4, 10, 2, 9, 2, 2, 2, 12, 2, 4, 4, 9, 9, 1, 4, 3, 5, 9, 6, 7]"
      ]
     },
     "execution_count": 130,
     "metadata": {},
     "output_type": "execute_result"
    }
   ],
   "source": [
    "#split data and target\n",
    "target = ignore_roots['class']\n",
    "data = ignore_roots.drop('class',1)\n",
    "\n",
    "col_count=[]\n",
    "for col in data.columns:\n",
    "    temp=mdata[col]\n",
    "    col_count.append(temp.nunique())\n",
    "col_count   "
   ]
  },
  {
   "cell_type": "code",
   "execution_count": 131,
   "metadata": {
    "collapsed": false
   },
   "outputs": [
    {
     "data": {
      "text/plain": [
       "8124"
      ]
     },
     "execution_count": 131,
     "metadata": {},
     "output_type": "execute_result"
    }
   ],
   "source": [
    "target_list=[]\n",
    "for c in target.values:\n",
    "    if c=='EDIBLE': \n",
    "        target_list.append(0)\n",
    "    else :\n",
    "        target_list.append(1)\n",
    "target_array = array(target_list)\n",
    "len(target_list)"
   ]
  },
  {
   "cell_type": "code",
   "execution_count": 136,
   "metadata": {
    "collapsed": false,
    "scrolled": true
   },
   "outputs": [
    {
     "data": {
      "text/plain": [
       "8124"
      ]
     },
     "execution_count": 136,
     "metadata": {},
     "output_type": "execute_result"
    }
   ],
   "source": [
    "data_dict = data[[data.columns[0]]].to_dict('records')\n",
    "enc_data = v.fit_transform(data_dict)\n",
    "len(enc_data)"
   ]
  },
  {
   "cell_type": "code",
   "execution_count": 137,
   "metadata": {
    "collapsed": false
   },
   "outputs": [
    {
     "name": "stdout",
     "output_type": "stream",
     "text": [
      "Number of mislabeled points out of a total 8124 points : 3820\n"
     ]
    }
   ],
   "source": [
    "gnb = GaussianNB()\n",
    "y_pred = gnb.fit(enc_data, target_array).predict(enc_data)\n",
    "print(\"Number of mislabeled points out of a total %d points : %d\" % (enc_data.shape[0],(target_array != y_pred).sum()))\n"
   ]
  },
  {
   "cell_type": "code",
   "execution_count": 139,
   "metadata": {
    "collapsed": false
   },
   "outputs": [
    {
     "name": "stdout",
     "output_type": "stream",
     "text": [
      "Number of mislabeled points out of a total 8124 points : 3820 for col=cap_shape\n",
      "Number of mislabeled points out of a total 8124 points : 3912 for col=cap_surface\n",
      "Number of mislabeled points out of a total 8124 points : 4156 for col=cap_color\n",
      "Number of mislabeled points out of a total 8124 points : 2080 for col=bruises\n",
      "Number of mislabeled points out of a total 8124 points : 120 for col=odor\n",
      "Number of mislabeled points out of a total 8124 points : 4034 for col=gill_attachment\n",
      "Number of mislabeled points out of a total 8124 points : 3120 for col=gill_spacing\n",
      "Number of mislabeled points out of a total 8124 points : 1980 for col=gill_size\n",
      "Number of mislabeled points out of a total 8124 points : 1796 for col=gill_color\n",
      "Number of mislabeled points out of a total 8124 points : 3632 for col=stalk_shape\n",
      "Number of mislabeled points out of a total 8124 points : 1832 for col=stalk_surface_above_ring\n",
      "Number of mislabeled points out of a total 8124 points : 1900 for col=stalk_surface_below_ring\n",
      "Number of mislabeled points out of a total 8124 points : 2304 for col=stalk_color_above_ring\n",
      "Number of mislabeled points out of a total 8124 points : 2320 for col=stalk_color_below_ring\n",
      "Number of mislabeled points out of a total 8124 points : 3916 for col=veil_type\n",
      "Number of mislabeled points out of a total 8124 points : 4016 for col=veil_color\n",
      "Number of mislabeled points out of a total 8124 points : 3880 for col=ring_number\n",
      "Number of mislabeled points out of a total 8124 points : 2584 for col=ring_type\n",
      "Number of mislabeled points out of a total 8124 points : 4016 for col=spore_print_color\n",
      "Number of mislabeled points out of a total 8124 points : 3188 for col=population\n",
      "Number of mislabeled points out of a total 8124 points : 3796 for col=habitat\n"
     ]
    }
   ],
   "source": [
    "#show predictions by single attribute\n",
    "for col in data.columns:\n",
    "    data_dict = data[[col]].to_dict('records')\n",
    "    enc_data = v.fit_transform(data_dict)\n",
    "    gnb = GaussianNB()\n",
    "    y_pred = gnb.fit(enc_data, target_array).predict(enc_data)\n",
    "    print(\"Number of mislabeled points out of a total %d points : %d for col=%s\" % (enc_data.shape[0],(target_array != y_pred).sum(),col))\n"
   ]
  },
  {
   "cell_type": "code",
   "execution_count": 154,
   "metadata": {
    "collapsed": false
   },
   "outputs": [
    {
     "data": {
      "text/plain": [
       "{'ALMOND': {'EDIBLE': 400, 'POISONOUS': 0},\n",
       " 'ANISE': {'EDIBLE': 400, 'POISONOUS': 0},\n",
       " 'CREOSOTE': {'EDIBLE': 0, 'POISONOUS': 192},\n",
       " 'FISHY': {'EDIBLE': 0, 'POISONOUS': 576},\n",
       " 'FOUL': {'EDIBLE': 0, 'POISONOUS': 2160},\n",
       " 'MUSTY': {'EDIBLE': 0, 'POISONOUS': 36},\n",
       " 'NONE': {'EDIBLE': 3408, 'POISONOUS': 120},\n",
       " 'PUNGENT': {'EDIBLE': 0, 'POISONOUS': 256},\n",
       " 'SPICY': {'EDIBLE': 0, 'POISONOUS': 576}}"
      ]
     },
     "execution_count": 154,
     "metadata": {},
     "output_type": "execute_result"
    }
   ],
   "source": [
    "#odor has very accurate prediction rate\n",
    "counts={}\n",
    "od=mdata[['class','odor']]\n",
    "for row in od.values:\n",
    "    if row[1] not in counts:\n",
    "        counts[row[1]]={'EDIBLE':0,'POISONOUS':0}\n",
    "    counts[row[1]][row[0]]+=1\n",
    "counts"
   ]
  },
  {
   "cell_type": "code",
   "execution_count": 157,
   "metadata": {
    "collapsed": false
   },
   "outputs": [],
   "source": [
    "no_odor=mdata[(mdata.odor=='NONE')].drop('odor',1) # & (mdata['class']=='POISONOUS')]"
   ]
  },
  {
   "cell_type": "code",
   "execution_count": 163,
   "metadata": {
    "collapsed": false
   },
   "outputs": [
    {
     "data": {
      "text/plain": [
       "3528"
      ]
     },
     "execution_count": 163,
     "metadata": {},
     "output_type": "execute_result"
    }
   ],
   "source": [
    "#repeat with no odor rows\n",
    "target = no_odor['class']\n",
    "data = no_odor.drop('class',1)\n",
    "\n",
    "#encode target class as 0 or 1\n",
    "target_list=[]\n",
    "for c in target.values:\n",
    "    if c=='EDIBLE': \n",
    "        target_list.append(0)\n",
    "    else :\n",
    "        target_list.append(1)\n",
    "len(target_list)\n",
    "target_array = array(target_list)\n",
    "\n",
    "data_dict = data.to_dict('records')\n",
    "enc_data = v.fit_transform(data_dict)\n",
    "len(enc_data)\n"
   ]
  },
  {
   "cell_type": "code",
   "execution_count": 164,
   "metadata": {
    "collapsed": false
   },
   "outputs": [
    {
     "name": "stdout",
     "output_type": "stream",
     "text": [
      "Number of mislabeled points out of a total 3528 points : 6\n"
     ]
    }
   ],
   "source": [
    "gnb = GaussianNB()\n",
    "y_pred = gnb.fit(enc_data, target_array).predict(enc_data)\n",
    "print(\"Number of mislabeled points out of a total %d points : %d\" % (enc_data.shape[0],(target_array != y_pred).sum()))\n"
   ]
  },
  {
   "cell_type": "code",
   "execution_count": 167,
   "metadata": {
    "collapsed": false
   },
   "outputs": [
    {
     "data": {
      "text/plain": [
       "5860    EDIBLE\n",
       "5848    EDIBLE\n",
       "5824    EDIBLE\n",
       "5812    EDIBLE\n",
       "5836    EDIBLE\n",
       "5800    EDIBLE\n",
       "Name: class, dtype: object"
      ]
     },
     "execution_count": 167,
     "metadata": {},
     "output_type": "execute_result"
    }
   ],
   "source": [
    "target[target_array != y_pred]\n"
   ]
  },
  {
   "cell_type": "code",
   "execution_count": 168,
   "metadata": {
    "collapsed": false
   },
   "outputs": [
    {
     "data": {
      "text/html": [
       "<div>\n",
       "<table border=\"1\" class=\"dataframe\">\n",
       "  <thead>\n",
       "    <tr style=\"text-align: right;\">\n",
       "      <th></th>\n",
       "      <th>cap_shape</th>\n",
       "      <th>cap_surface</th>\n",
       "      <th>cap_color</th>\n",
       "      <th>bruises</th>\n",
       "      <th>gill_attachment</th>\n",
       "      <th>gill_spacing</th>\n",
       "      <th>gill_size</th>\n",
       "      <th>gill_color</th>\n",
       "      <th>stalk_shape</th>\n",
       "      <th>stalk_root</th>\n",
       "      <th>...</th>\n",
       "      <th>stalk_surface_below_ring</th>\n",
       "      <th>stalk_color_above_ring</th>\n",
       "      <th>stalk_color_below_ring</th>\n",
       "      <th>veil_type</th>\n",
       "      <th>veil_color</th>\n",
       "      <th>ring_number</th>\n",
       "      <th>ring_type</th>\n",
       "      <th>spore_print_color</th>\n",
       "      <th>population</th>\n",
       "      <th>habitat</th>\n",
       "    </tr>\n",
       "  </thead>\n",
       "  <tbody>\n",
       "    <tr>\n",
       "      <th>5860</th>\n",
       "      <td>KNOBBED</td>\n",
       "      <td>SCALY</td>\n",
       "      <td>BROWN</td>\n",
       "      <td>NO</td>\n",
       "      <td>FREE</td>\n",
       "      <td>CROWDED</td>\n",
       "      <td>NARROW</td>\n",
       "      <td>WHITE</td>\n",
       "      <td>ENLARGING</td>\n",
       "      <td>BULBOUS</td>\n",
       "      <td>...</td>\n",
       "      <td>SMOOTH</td>\n",
       "      <td>WHITE</td>\n",
       "      <td>BROWN</td>\n",
       "      <td>PARTIAL</td>\n",
       "      <td>WHITE</td>\n",
       "      <td>ONE</td>\n",
       "      <td>EVANESCENT</td>\n",
       "      <td>WHITE</td>\n",
       "      <td>SEVERAL</td>\n",
       "      <td>LEAVES</td>\n",
       "    </tr>\n",
       "    <tr>\n",
       "      <th>5848</th>\n",
       "      <td>KNOBBED</td>\n",
       "      <td>FIBROUS</td>\n",
       "      <td>BROWN</td>\n",
       "      <td>NO</td>\n",
       "      <td>FREE</td>\n",
       "      <td>CROWDED</td>\n",
       "      <td>NARROW</td>\n",
       "      <td>WHITE</td>\n",
       "      <td>ENLARGING</td>\n",
       "      <td>BULBOUS</td>\n",
       "      <td>...</td>\n",
       "      <td>SMOOTH</td>\n",
       "      <td>WHITE</td>\n",
       "      <td>BROWN</td>\n",
       "      <td>PARTIAL</td>\n",
       "      <td>WHITE</td>\n",
       "      <td>ONE</td>\n",
       "      <td>EVANESCENT</td>\n",
       "      <td>WHITE</td>\n",
       "      <td>SEVERAL</td>\n",
       "      <td>LEAVES</td>\n",
       "    </tr>\n",
       "    <tr>\n",
       "      <th>5824</th>\n",
       "      <td>FLAT</td>\n",
       "      <td>FIBROUS</td>\n",
       "      <td>BROWN</td>\n",
       "      <td>NO</td>\n",
       "      <td>FREE</td>\n",
       "      <td>CROWDED</td>\n",
       "      <td>NARROW</td>\n",
       "      <td>WHITE</td>\n",
       "      <td>ENLARGING</td>\n",
       "      <td>BULBOUS</td>\n",
       "      <td>...</td>\n",
       "      <td>SMOOTH</td>\n",
       "      <td>WHITE</td>\n",
       "      <td>BROWN</td>\n",
       "      <td>PARTIAL</td>\n",
       "      <td>WHITE</td>\n",
       "      <td>ONE</td>\n",
       "      <td>EVANESCENT</td>\n",
       "      <td>WHITE</td>\n",
       "      <td>SEVERAL</td>\n",
       "      <td>LEAVES</td>\n",
       "    </tr>\n",
       "    <tr>\n",
       "      <th>5812</th>\n",
       "      <td>CONVEX</td>\n",
       "      <td>SCALY</td>\n",
       "      <td>BROWN</td>\n",
       "      <td>NO</td>\n",
       "      <td>FREE</td>\n",
       "      <td>CROWDED</td>\n",
       "      <td>NARROW</td>\n",
       "      <td>WHITE</td>\n",
       "      <td>ENLARGING</td>\n",
       "      <td>BULBOUS</td>\n",
       "      <td>...</td>\n",
       "      <td>SMOOTH</td>\n",
       "      <td>WHITE</td>\n",
       "      <td>BROWN</td>\n",
       "      <td>PARTIAL</td>\n",
       "      <td>WHITE</td>\n",
       "      <td>ONE</td>\n",
       "      <td>EVANESCENT</td>\n",
       "      <td>WHITE</td>\n",
       "      <td>SEVERAL</td>\n",
       "      <td>LEAVES</td>\n",
       "    </tr>\n",
       "    <tr>\n",
       "      <th>5836</th>\n",
       "      <td>FLAT</td>\n",
       "      <td>SCALY</td>\n",
       "      <td>BROWN</td>\n",
       "      <td>NO</td>\n",
       "      <td>FREE</td>\n",
       "      <td>CROWDED</td>\n",
       "      <td>NARROW</td>\n",
       "      <td>WHITE</td>\n",
       "      <td>ENLARGING</td>\n",
       "      <td>BULBOUS</td>\n",
       "      <td>...</td>\n",
       "      <td>SMOOTH</td>\n",
       "      <td>WHITE</td>\n",
       "      <td>BROWN</td>\n",
       "      <td>PARTIAL</td>\n",
       "      <td>WHITE</td>\n",
       "      <td>ONE</td>\n",
       "      <td>EVANESCENT</td>\n",
       "      <td>WHITE</td>\n",
       "      <td>SEVERAL</td>\n",
       "      <td>LEAVES</td>\n",
       "    </tr>\n",
       "    <tr>\n",
       "      <th>5800</th>\n",
       "      <td>CONVEX</td>\n",
       "      <td>FIBROUS</td>\n",
       "      <td>BROWN</td>\n",
       "      <td>NO</td>\n",
       "      <td>FREE</td>\n",
       "      <td>CROWDED</td>\n",
       "      <td>NARROW</td>\n",
       "      <td>WHITE</td>\n",
       "      <td>ENLARGING</td>\n",
       "      <td>BULBOUS</td>\n",
       "      <td>...</td>\n",
       "      <td>SMOOTH</td>\n",
       "      <td>WHITE</td>\n",
       "      <td>BROWN</td>\n",
       "      <td>PARTIAL</td>\n",
       "      <td>WHITE</td>\n",
       "      <td>ONE</td>\n",
       "      <td>EVANESCENT</td>\n",
       "      <td>WHITE</td>\n",
       "      <td>SEVERAL</td>\n",
       "      <td>LEAVES</td>\n",
       "    </tr>\n",
       "  </tbody>\n",
       "</table>\n",
       "<p>6 rows × 21 columns</p>\n",
       "</div>"
      ],
      "text/plain": [
       "     cap_shape cap_surface cap_color bruises gill_attachment gill_spacing  \\\n",
       "5860   KNOBBED       SCALY     BROWN      NO            FREE      CROWDED   \n",
       "5848   KNOBBED     FIBROUS     BROWN      NO            FREE      CROWDED   \n",
       "5824      FLAT     FIBROUS     BROWN      NO            FREE      CROWDED   \n",
       "5812    CONVEX       SCALY     BROWN      NO            FREE      CROWDED   \n",
       "5836      FLAT       SCALY     BROWN      NO            FREE      CROWDED   \n",
       "5800    CONVEX     FIBROUS     BROWN      NO            FREE      CROWDED   \n",
       "\n",
       "     gill_size gill_color stalk_shape stalk_root   ...    \\\n",
       "5860    NARROW      WHITE   ENLARGING    BULBOUS   ...     \n",
       "5848    NARROW      WHITE   ENLARGING    BULBOUS   ...     \n",
       "5824    NARROW      WHITE   ENLARGING    BULBOUS   ...     \n",
       "5812    NARROW      WHITE   ENLARGING    BULBOUS   ...     \n",
       "5836    NARROW      WHITE   ENLARGING    BULBOUS   ...     \n",
       "5800    NARROW      WHITE   ENLARGING    BULBOUS   ...     \n",
       "\n",
       "     stalk_surface_below_ring stalk_color_above_ring stalk_color_below_ring  \\\n",
       "5860                   SMOOTH                  WHITE                  BROWN   \n",
       "5848                   SMOOTH                  WHITE                  BROWN   \n",
       "5824                   SMOOTH                  WHITE                  BROWN   \n",
       "5812                   SMOOTH                  WHITE                  BROWN   \n",
       "5836                   SMOOTH                  WHITE                  BROWN   \n",
       "5800                   SMOOTH                  WHITE                  BROWN   \n",
       "\n",
       "     veil_type veil_color ring_number   ring_type spore_print_color  \\\n",
       "5860   PARTIAL      WHITE         ONE  EVANESCENT             WHITE   \n",
       "5848   PARTIAL      WHITE         ONE  EVANESCENT             WHITE   \n",
       "5824   PARTIAL      WHITE         ONE  EVANESCENT             WHITE   \n",
       "5812   PARTIAL      WHITE         ONE  EVANESCENT             WHITE   \n",
       "5836   PARTIAL      WHITE         ONE  EVANESCENT             WHITE   \n",
       "5800   PARTIAL      WHITE         ONE  EVANESCENT             WHITE   \n",
       "\n",
       "     population habitat  \n",
       "5860    SEVERAL  LEAVES  \n",
       "5848    SEVERAL  LEAVES  \n",
       "5824    SEVERAL  LEAVES  \n",
       "5812    SEVERAL  LEAVES  \n",
       "5836    SEVERAL  LEAVES  \n",
       "5800    SEVERAL  LEAVES  \n",
       "\n",
       "[6 rows x 21 columns]"
      ]
     },
     "execution_count": 168,
     "metadata": {},
     "output_type": "execute_result"
    }
   ],
   "source": [
    "data[target_array != y_pred]"
   ]
  },
  {
   "cell_type": "code",
   "execution_count": 169,
   "metadata": {
    "collapsed": false
   },
   "outputs": [
    {
     "name": "stdout",
     "output_type": "stream",
     "text": [
      "Number of mislabeled points out of a total 3528 points : 216 for col=cap_shape\n",
      "Number of mislabeled points out of a total 3528 points : 116 for col=cap_surface\n",
      "Number of mislabeled points out of a total 3528 points : 1688 for col=cap_color\n",
      "Number of mislabeled points out of a total 3528 points : 120 for col=bruises\n",
      "Number of mislabeled points out of a total 3528 points : 3216 for col=gill_attachment\n",
      "Number of mislabeled points out of a total 3528 points : 120 for col=gill_spacing\n",
      "Number of mislabeled points out of a total 3528 points : 264 for col=gill_size\n",
      "Number of mislabeled points out of a total 3528 points : 916 for col=gill_color\n",
      "Number of mislabeled points out of a total 3528 points : 912 for col=stalk_shape\n",
      "Number of mislabeled points out of a total 3528 points : 112 for col=stalk_root\n",
      "Number of mislabeled points out of a total 3528 points : 3000 for col=stalk_surface_above_ring\n",
      "Number of mislabeled points out of a total 3528 points : 2808 for col=stalk_surface_below_ring\n",
      "Number of mislabeled points out of a total 3528 points : 1952 for col=stalk_color_above_ring\n",
      "Number of mislabeled points out of a total 3528 points : 1968 for col=stalk_color_below_ring\n",
      "Number of mislabeled points out of a total 3528 points : 120 for col=veil_type\n",
      "Number of mislabeled points out of a total 3528 points : 3216 for col=veil_color\n",
      "Number of mislabeled points out of a total 3528 points : 576 for col=ring_number\n",
      "Number of mislabeled points out of a total 3528 points : 3360 for col=ring_type\n",
      "Number of mislabeled points out of a total 3528 points : 576 for col=spore_print_color\n",
      "Number of mislabeled points out of a total 3528 points : 1384 for col=population\n",
      "Number of mislabeled points out of a total 3528 points : 3080 for col=habitat\n"
     ]
    }
   ],
   "source": [
    "#show predictions by single attribute\n",
    "for col in data.columns:\n",
    "    data_dict = data[[col]].to_dict('records')\n",
    "    enc_data = v.fit_transform(data_dict)\n",
    "    gnb = GaussianNB()\n",
    "    y_pred = gnb.fit(enc_data, target_array).predict(enc_data)\n",
    "    print(\"Number of mislabeled points out of a total %d points : %d for col=%s\" % (enc_data.shape[0],(target_array != y_pred).sum(),col))\n"
   ]
  },
  {
   "cell_type": "code",
   "execution_count": 174,
   "metadata": {
    "collapsed": false
   },
   "outputs": [
    {
     "data": {
      "text/plain": [
       "{'?': {'EDIBLE': 720, 'POISONOUS': 32},\n",
       " 'BULBOUS': {'EDIBLE': 1824, 'POISONOUS': 80},\n",
       " 'CLUB': {'EDIBLE': 0, 'POISONOUS': 8},\n",
       " 'EQUAL': {'EDIBLE': 864, 'POISONOUS': 0}}"
      ]
     },
     "execution_count": 174,
     "metadata": {},
     "output_type": "execute_result"
    }
   ],
   "source": [
    "\n",
    "counts={}\n",
    "od=no_odor[['class','stalk_root']]\n",
    "for row in od.values:\n",
    "    if row[1] not in counts:\n",
    "        counts[row[1]]={'EDIBLE':0,'POISONOUS':0}\n",
    "    counts[row[1]][row[0]]+=1\n",
    "counts"
   ]
  },
  {
   "cell_type": "code",
   "execution_count": 177,
   "metadata": {
    "collapsed": false
   },
   "outputs": [
    {
     "data": {
      "text/html": [
       "<div>\n",
       "<table border=\"1\" class=\"dataframe\">\n",
       "  <thead>\n",
       "    <tr style=\"text-align: right;\">\n",
       "      <th></th>\n",
       "      <th>class</th>\n",
       "      <th>cap_shape</th>\n",
       "      <th>cap_surface</th>\n",
       "      <th>cap_color</th>\n",
       "      <th>bruises</th>\n",
       "      <th>odor</th>\n",
       "      <th>gill_attachment</th>\n",
       "      <th>gill_spacing</th>\n",
       "      <th>gill_size</th>\n",
       "      <th>gill_color</th>\n",
       "      <th>...</th>\n",
       "      <th>stalk_surface_below_ring</th>\n",
       "      <th>stalk_color_above_ring</th>\n",
       "      <th>stalk_color_below_ring</th>\n",
       "      <th>veil_type</th>\n",
       "      <th>veil_color</th>\n",
       "      <th>ring_number</th>\n",
       "      <th>ring_type</th>\n",
       "      <th>spore_print_color</th>\n",
       "      <th>population</th>\n",
       "      <th>habitat</th>\n",
       "    </tr>\n",
       "  </thead>\n",
       "  <tbody>\n",
       "    <tr>\n",
       "      <th>7880</th>\n",
       "      <td>POISONOUS</td>\n",
       "      <td>BELL</td>\n",
       "      <td>SCALY</td>\n",
       "      <td>YELLOW</td>\n",
       "      <td>NO</td>\n",
       "      <td>NONE</td>\n",
       "      <td>FREE</td>\n",
       "      <td>CROWDED</td>\n",
       "      <td>NARROW</td>\n",
       "      <td>YELLOW</td>\n",
       "      <td>...</td>\n",
       "      <td>SCALY</td>\n",
       "      <td>YELLOW</td>\n",
       "      <td>YELLOW</td>\n",
       "      <td>PARTIAL</td>\n",
       "      <td>YELLOW</td>\n",
       "      <td>ONE</td>\n",
       "      <td>EVANESCENT</td>\n",
       "      <td>WHITE</td>\n",
       "      <td>CLUSTERED</td>\n",
       "      <td>LEAVES</td>\n",
       "    </tr>\n",
       "    <tr>\n",
       "      <th>7886</th>\n",
       "      <td>POISONOUS</td>\n",
       "      <td>KNOBBED</td>\n",
       "      <td>SCALY</td>\n",
       "      <td>YELLOW</td>\n",
       "      <td>NO</td>\n",
       "      <td>NONE</td>\n",
       "      <td>FREE</td>\n",
       "      <td>CROWDED</td>\n",
       "      <td>NARROW</td>\n",
       "      <td>YELLOW</td>\n",
       "      <td>...</td>\n",
       "      <td>SCALY</td>\n",
       "      <td>YELLOW</td>\n",
       "      <td>YELLOW</td>\n",
       "      <td>PARTIAL</td>\n",
       "      <td>YELLOW</td>\n",
       "      <td>ONE</td>\n",
       "      <td>EVANESCENT</td>\n",
       "      <td>WHITE</td>\n",
       "      <td>CLUSTERED</td>\n",
       "      <td>LEAVES</td>\n",
       "    </tr>\n",
       "    <tr>\n",
       "      <th>7884</th>\n",
       "      <td>POISONOUS</td>\n",
       "      <td>FLAT</td>\n",
       "      <td>SCALY</td>\n",
       "      <td>YELLOW</td>\n",
       "      <td>NO</td>\n",
       "      <td>NONE</td>\n",
       "      <td>FREE</td>\n",
       "      <td>CROWDED</td>\n",
       "      <td>NARROW</td>\n",
       "      <td>YELLOW</td>\n",
       "      <td>...</td>\n",
       "      <td>SCALY</td>\n",
       "      <td>YELLOW</td>\n",
       "      <td>YELLOW</td>\n",
       "      <td>PARTIAL</td>\n",
       "      <td>YELLOW</td>\n",
       "      <td>ONE</td>\n",
       "      <td>EVANESCENT</td>\n",
       "      <td>WHITE</td>\n",
       "      <td>CLUSTERED</td>\n",
       "      <td>LEAVES</td>\n",
       "    </tr>\n",
       "    <tr>\n",
       "      <th>7885</th>\n",
       "      <td>POISONOUS</td>\n",
       "      <td>FLAT</td>\n",
       "      <td>SCALY</td>\n",
       "      <td>YELLOW</td>\n",
       "      <td>NO</td>\n",
       "      <td>NONE</td>\n",
       "      <td>FREE</td>\n",
       "      <td>CROWDED</td>\n",
       "      <td>NARROW</td>\n",
       "      <td>WHITE</td>\n",
       "      <td>...</td>\n",
       "      <td>SCALY</td>\n",
       "      <td>YELLOW</td>\n",
       "      <td>YELLOW</td>\n",
       "      <td>PARTIAL</td>\n",
       "      <td>YELLOW</td>\n",
       "      <td>ONE</td>\n",
       "      <td>EVANESCENT</td>\n",
       "      <td>WHITE</td>\n",
       "      <td>CLUSTERED</td>\n",
       "      <td>LEAVES</td>\n",
       "    </tr>\n",
       "    <tr>\n",
       "      <th>7887</th>\n",
       "      <td>POISONOUS</td>\n",
       "      <td>KNOBBED</td>\n",
       "      <td>SCALY</td>\n",
       "      <td>YELLOW</td>\n",
       "      <td>NO</td>\n",
       "      <td>NONE</td>\n",
       "      <td>FREE</td>\n",
       "      <td>CROWDED</td>\n",
       "      <td>NARROW</td>\n",
       "      <td>WHITE</td>\n",
       "      <td>...</td>\n",
       "      <td>SCALY</td>\n",
       "      <td>YELLOW</td>\n",
       "      <td>YELLOW</td>\n",
       "      <td>PARTIAL</td>\n",
       "      <td>YELLOW</td>\n",
       "      <td>ONE</td>\n",
       "      <td>EVANESCENT</td>\n",
       "      <td>WHITE</td>\n",
       "      <td>CLUSTERED</td>\n",
       "      <td>LEAVES</td>\n",
       "    </tr>\n",
       "    <tr>\n",
       "      <th>7882</th>\n",
       "      <td>POISONOUS</td>\n",
       "      <td>CONICAL</td>\n",
       "      <td>SCALY</td>\n",
       "      <td>YELLOW</td>\n",
       "      <td>NO</td>\n",
       "      <td>NONE</td>\n",
       "      <td>FREE</td>\n",
       "      <td>CROWDED</td>\n",
       "      <td>NARROW</td>\n",
       "      <td>YELLOW</td>\n",
       "      <td>...</td>\n",
       "      <td>SCALY</td>\n",
       "      <td>YELLOW</td>\n",
       "      <td>YELLOW</td>\n",
       "      <td>PARTIAL</td>\n",
       "      <td>YELLOW</td>\n",
       "      <td>ONE</td>\n",
       "      <td>EVANESCENT</td>\n",
       "      <td>WHITE</td>\n",
       "      <td>CLUSTERED</td>\n",
       "      <td>LEAVES</td>\n",
       "    </tr>\n",
       "    <tr>\n",
       "      <th>7883</th>\n",
       "      <td>POISONOUS</td>\n",
       "      <td>CONICAL</td>\n",
       "      <td>SCALY</td>\n",
       "      <td>YELLOW</td>\n",
       "      <td>NO</td>\n",
       "      <td>NONE</td>\n",
       "      <td>FREE</td>\n",
       "      <td>CROWDED</td>\n",
       "      <td>NARROW</td>\n",
       "      <td>WHITE</td>\n",
       "      <td>...</td>\n",
       "      <td>SCALY</td>\n",
       "      <td>YELLOW</td>\n",
       "      <td>YELLOW</td>\n",
       "      <td>PARTIAL</td>\n",
       "      <td>YELLOW</td>\n",
       "      <td>ONE</td>\n",
       "      <td>EVANESCENT</td>\n",
       "      <td>WHITE</td>\n",
       "      <td>CLUSTERED</td>\n",
       "      <td>LEAVES</td>\n",
       "    </tr>\n",
       "    <tr>\n",
       "      <th>7881</th>\n",
       "      <td>POISONOUS</td>\n",
       "      <td>BELL</td>\n",
       "      <td>SCALY</td>\n",
       "      <td>YELLOW</td>\n",
       "      <td>NO</td>\n",
       "      <td>NONE</td>\n",
       "      <td>FREE</td>\n",
       "      <td>CROWDED</td>\n",
       "      <td>NARROW</td>\n",
       "      <td>WHITE</td>\n",
       "      <td>...</td>\n",
       "      <td>SCALY</td>\n",
       "      <td>YELLOW</td>\n",
       "      <td>YELLOW</td>\n",
       "      <td>PARTIAL</td>\n",
       "      <td>YELLOW</td>\n",
       "      <td>ONE</td>\n",
       "      <td>EVANESCENT</td>\n",
       "      <td>WHITE</td>\n",
       "      <td>CLUSTERED</td>\n",
       "      <td>LEAVES</td>\n",
       "    </tr>\n",
       "  </tbody>\n",
       "</table>\n",
       "<p>8 rows × 23 columns</p>\n",
       "</div>"
      ],
      "text/plain": [
       "          class cap_shape cap_surface cap_color bruises  odor gill_attachment  \\\n",
       "7880  POISONOUS      BELL       SCALY    YELLOW      NO  NONE            FREE   \n",
       "7886  POISONOUS   KNOBBED       SCALY    YELLOW      NO  NONE            FREE   \n",
       "7884  POISONOUS      FLAT       SCALY    YELLOW      NO  NONE            FREE   \n",
       "7885  POISONOUS      FLAT       SCALY    YELLOW      NO  NONE            FREE   \n",
       "7887  POISONOUS   KNOBBED       SCALY    YELLOW      NO  NONE            FREE   \n",
       "7882  POISONOUS   CONICAL       SCALY    YELLOW      NO  NONE            FREE   \n",
       "7883  POISONOUS   CONICAL       SCALY    YELLOW      NO  NONE            FREE   \n",
       "7881  POISONOUS      BELL       SCALY    YELLOW      NO  NONE            FREE   \n",
       "\n",
       "     gill_spacing gill_size gill_color   ...   stalk_surface_below_ring  \\\n",
       "7880      CROWDED    NARROW     YELLOW   ...                      SCALY   \n",
       "7886      CROWDED    NARROW     YELLOW   ...                      SCALY   \n",
       "7884      CROWDED    NARROW     YELLOW   ...                      SCALY   \n",
       "7885      CROWDED    NARROW      WHITE   ...                      SCALY   \n",
       "7887      CROWDED    NARROW      WHITE   ...                      SCALY   \n",
       "7882      CROWDED    NARROW     YELLOW   ...                      SCALY   \n",
       "7883      CROWDED    NARROW      WHITE   ...                      SCALY   \n",
       "7881      CROWDED    NARROW      WHITE   ...                      SCALY   \n",
       "\n",
       "     stalk_color_above_ring stalk_color_below_ring veil_type veil_color  \\\n",
       "7880                 YELLOW                 YELLOW   PARTIAL     YELLOW   \n",
       "7886                 YELLOW                 YELLOW   PARTIAL     YELLOW   \n",
       "7884                 YELLOW                 YELLOW   PARTIAL     YELLOW   \n",
       "7885                 YELLOW                 YELLOW   PARTIAL     YELLOW   \n",
       "7887                 YELLOW                 YELLOW   PARTIAL     YELLOW   \n",
       "7882                 YELLOW                 YELLOW   PARTIAL     YELLOW   \n",
       "7883                 YELLOW                 YELLOW   PARTIAL     YELLOW   \n",
       "7881                 YELLOW                 YELLOW   PARTIAL     YELLOW   \n",
       "\n",
       "     ring_number   ring_type spore_print_color population habitat  \n",
       "7880         ONE  EVANESCENT             WHITE  CLUSTERED  LEAVES  \n",
       "7886         ONE  EVANESCENT             WHITE  CLUSTERED  LEAVES  \n",
       "7884         ONE  EVANESCENT             WHITE  CLUSTERED  LEAVES  \n",
       "7885         ONE  EVANESCENT             WHITE  CLUSTERED  LEAVES  \n",
       "7887         ONE  EVANESCENT             WHITE  CLUSTERED  LEAVES  \n",
       "7882         ONE  EVANESCENT             WHITE  CLUSTERED  LEAVES  \n",
       "7883         ONE  EVANESCENT             WHITE  CLUSTERED  LEAVES  \n",
       "7881         ONE  EVANESCENT             WHITE  CLUSTERED  LEAVES  \n",
       "\n",
       "[8 rows x 23 columns]"
      ]
     },
     "execution_count": 177,
     "metadata": {},
     "output_type": "execute_result"
    }
   ],
   "source": [
    "mdata[(mdata.odor=='NONE') & (mdata['class']=='POISONOUS') & (mdata['stalk_root']=='CLUB')]"
   ]
  },
  {
   "cell_type": "code",
   "execution_count": 194,
   "metadata": {
    "collapsed": false
   },
   "outputs": [
    {
     "data": {
      "text/plain": [
       "{'bruises_BRUISES': {'EDIBLE': 1952, 'POISONOUS': 80},\n",
       " 'bruises_NO': {'EDIBLE': 1456, 'POISONOUS': 40},\n",
       " 'cap_color_BROWN': {'EDIBLE': 1168, 'POISONOUS': 16},\n",
       " 'cap_color_BUFF': {'EDIBLE': 48, 'POISONOUS': 24},\n",
       " 'cap_color_CINNAMON': {'EDIBLE': 32, 'POISONOUS': 0},\n",
       " 'cap_color_GRAY': {'EDIBLE': 1032, 'POISONOUS': 0},\n",
       " 'cap_color_GREEN': {'EDIBLE': 16, 'POISONOUS': 0},\n",
       " 'cap_color_PINK': {'EDIBLE': 56, 'POISONOUS': 24},\n",
       " 'cap_color_PURPLE': {'EDIBLE': 16, 'POISONOUS': 0},\n",
       " 'cap_color_RED': {'EDIBLE': 624, 'POISONOUS': 0},\n",
       " 'cap_color_WHITE': {'EDIBLE': 416, 'POISONOUS': 32},\n",
       " 'cap_color_YELLOW': {'EDIBLE': 0, 'POISONOUS': 24},\n",
       " 'cap_shape_BELL': {'EDIBLE': 148, 'POISONOUS': 48},\n",
       " 'cap_shape_CONICAL': {'EDIBLE': 0, 'POISONOUS': 4},\n",
       " 'cap_shape_CONVEX': {'EDIBLE': 1548, 'POISONOUS': 8},\n",
       " 'cap_shape_FLAT': {'EDIBLE': 1452, 'POISONOUS': 48},\n",
       " 'cap_shape_KNOBBED': {'EDIBLE': 228, 'POISONOUS': 12},\n",
       " 'cap_shape_SUNKEN': {'EDIBLE': 32, 'POISONOUS': 0},\n",
       " 'cap_surface_FIBROUS': {'EDIBLE': 1512, 'POISONOUS': 16},\n",
       " 'cap_surface_GROOVES': {'EDIBLE': 0, 'POISONOUS': 4},\n",
       " 'cap_surface_SCALY': {'EDIBLE': 1056, 'POISONOUS': 64},\n",
       " 'cap_surface_SMOOTH': {'EDIBLE': 840, 'POISONOUS': 36},\n",
       " 'gill_attachment_ATTACHED': {'EDIBLE': 192, 'POISONOUS': 0},\n",
       " 'gill_attachment_FREE': {'EDIBLE': 3216, 'POISONOUS': 120},\n",
       " 'gill_color_BLACK': {'EDIBLE': 216, 'POISONOUS': 0},\n",
       " 'gill_color_BROWN': {'EDIBLE': 712, 'POISONOUS': 0},\n",
       " 'gill_color_CHOCOLATE': {'EDIBLE': 204, 'POISONOUS': 0},\n",
       " 'gill_color_GRAY': {'EDIBLE': 120, 'POISONOUS': 24},\n",
       " 'gill_color_GREEN': {'EDIBLE': 0, 'POISONOUS': 24},\n",
       " 'gill_color_ORANGE': {'EDIBLE': 64, 'POISONOUS': 0},\n",
       " 'gill_color_PINK': {'EDIBLE': 756, 'POISONOUS': 0},\n",
       " 'gill_color_PURPLE': {'EDIBLE': 444, 'POISONOUS': 0},\n",
       " 'gill_color_RED': {'EDIBLE': 96, 'POISONOUS': 0},\n",
       " 'gill_color_WHITE': {'EDIBLE': 732, 'POISONOUS': 68},\n",
       " 'gill_color_YELLOW': {'EDIBLE': 64, 'POISONOUS': 4},\n",
       " 'gill_size_BROAD': {'EDIBLE': 3216, 'POISONOUS': 72},\n",
       " 'gill_size_NARROW': {'EDIBLE': 192, 'POISONOUS': 48},\n",
       " 'gill_spacing_CLOSE': {'EDIBLE': 2304, 'POISONOUS': 104},\n",
       " 'gill_spacing_CROWDED': {'EDIBLE': 1104, 'POISONOUS': 16},\n",
       " 'habitat_GRASSES': {'EDIBLE': 1056, 'POISONOUS': 36},\n",
       " 'habitat_LEAVES': {'EDIBLE': 240, 'POISONOUS': 16},\n",
       " 'habitat_MEADOWS': {'EDIBLE': 0, 'POISONOUS': 36},\n",
       " 'habitat_PATHS': {'EDIBLE': 40, 'POISONOUS': 0},\n",
       " 'habitat_URBAN': {'EDIBLE': 96, 'POISONOUS': 0},\n",
       " 'habitat_WASTE': {'EDIBLE': 192, 'POISONOUS': 0},\n",
       " 'habitat_WOODS': {'EDIBLE': 1784, 'POISONOUS': 32},\n",
       " 'population_ABUNDANT': {'EDIBLE': 384, 'POISONOUS': 0},\n",
       " 'population_CLUSTERED': {'EDIBLE': 288, 'POISONOUS': 16},\n",
       " 'population_NUMEROUS': {'EDIBLE': 144, 'POISONOUS': 0},\n",
       " 'population_SCATTERED': {'EDIBLE': 528, 'POISONOUS': 0},\n",
       " 'population_SEVERAL': {'EDIBLE': 1096, 'POISONOUS': 104},\n",
       " 'population_SOLITARY': {'EDIBLE': 968, 'POISONOUS': 0},\n",
       " 'ring_number_ONE': {'EDIBLE': 2880, 'POISONOUS': 48},\n",
       " 'ring_number_TWO': {'EDIBLE': 528, 'POISONOUS': 72},\n",
       " 'ring_type_EVANESCENT': {'EDIBLE': 1008, 'POISONOUS': 40},\n",
       " 'ring_type_FLARING': {'EDIBLE': 48, 'POISONOUS': 0},\n",
       " 'ring_type_PENDANT': {'EDIBLE': 2352, 'POISONOUS': 80},\n",
       " 'spore_print_color_BLACK': {'EDIBLE': 1296, 'POISONOUS': 0},\n",
       " 'spore_print_color_BROWN': {'EDIBLE': 1344, 'POISONOUS': 0},\n",
       " 'spore_print_color_BUFF': {'EDIBLE': 48, 'POISONOUS': 0},\n",
       " 'spore_print_color_CHOCOLATE': {'EDIBLE': 48, 'POISONOUS': 0},\n",
       " 'spore_print_color_GREEN': {'EDIBLE': 0, 'POISONOUS': 72},\n",
       " 'spore_print_color_ORANGE': {'EDIBLE': 48, 'POISONOUS': 0},\n",
       " 'spore_print_color_WHITE': {'EDIBLE': 576, 'POISONOUS': 48},\n",
       " 'spore_print_color_YELLOW': {'EDIBLE': 48, 'POISONOUS': 0},\n",
       " 'stalk_color_above_ring_BROWN': {'EDIBLE': 16, 'POISONOUS': 0},\n",
       " 'stalk_color_above_ring_GRAY': {'EDIBLE': 576, 'POISONOUS': 0},\n",
       " 'stalk_color_above_ring_ORANGE': {'EDIBLE': 192, 'POISONOUS': 0},\n",
       " 'stalk_color_above_ring_PINK': {'EDIBLE': 576, 'POISONOUS': 0},\n",
       " 'stalk_color_above_ring_RED': {'EDIBLE': 96, 'POISONOUS': 0},\n",
       " 'stalk_color_above_ring_WHITE': {'EDIBLE': 1952, 'POISONOUS': 112},\n",
       " 'stalk_color_above_ring_YELLOW': {'EDIBLE': 0, 'POISONOUS': 8},\n",
       " 'stalk_color_below_ring_BROWN': {'EDIBLE': 64, 'POISONOUS': 16},\n",
       " 'stalk_color_below_ring_GRAY': {'EDIBLE': 576, 'POISONOUS': 0},\n",
       " 'stalk_color_below_ring_ORANGE': {'EDIBLE': 192, 'POISONOUS': 0},\n",
       " 'stalk_color_below_ring_PINK': {'EDIBLE': 576, 'POISONOUS': 0},\n",
       " 'stalk_color_below_ring_RED': {'EDIBLE': 96, 'POISONOUS': 0},\n",
       " 'stalk_color_below_ring_WHITE': {'EDIBLE': 1904, 'POISONOUS': 80},\n",
       " 'stalk_color_below_ring_YELLOW': {'EDIBLE': 0, 'POISONOUS': 24},\n",
       " 'stalk_root_?': {'EDIBLE': 720, 'POISONOUS': 32},\n",
       " 'stalk_root_BULBOUS': {'EDIBLE': 1824, 'POISONOUS': 80},\n",
       " 'stalk_root_CLUB': {'EDIBLE': 0, 'POISONOUS': 8},\n",
       " 'stalk_root_EQUAL': {'EDIBLE': 864, 'POISONOUS': 0},\n",
       " 'stalk_shape_ENLARGING': {'EDIBLE': 912, 'POISONOUS': 120},\n",
       " 'stalk_shape_TAPERING': {'EDIBLE': 2496, 'POISONOUS': 0},\n",
       " 'stalk_surface_above_ring_FIBROUS': {'EDIBLE': 408, 'POISONOUS': 0},\n",
       " 'stalk_surface_above_ring_SCALY': {'EDIBLE': 16, 'POISONOUS': 8},\n",
       " 'stalk_surface_above_ring_SILKY': {'EDIBLE': 144, 'POISONOUS': 32},\n",
       " 'stalk_surface_above_ring_SMOOTH': {'EDIBLE': 2840, 'POISONOUS': 80},\n",
       " 'stalk_surface_below_ring_FIBROUS': {'EDIBLE': 456, 'POISONOUS': 0},\n",
       " 'stalk_surface_below_ring_SCALY': {'EDIBLE': 16, 'POISONOUS': 40},\n",
       " 'stalk_surface_below_ring_SILKY': {'EDIBLE': 144, 'POISONOUS': 0},\n",
       " 'stalk_surface_below_ring_SMOOTH': {'EDIBLE': 2792, 'POISONOUS': 80},\n",
       " 'veil_color_BROWN': {'EDIBLE': 96, 'POISONOUS': 0},\n",
       " 'veil_color_ORANGE': {'EDIBLE': 96, 'POISONOUS': 0},\n",
       " 'veil_color_WHITE': {'EDIBLE': 3216, 'POISONOUS': 112},\n",
       " 'veil_color_YELLOW': {'EDIBLE': 0, 'POISONOUS': 8},\n",
       " 'veil_type_PARTIAL': {'EDIBLE': 3408, 'POISONOUS': 120}}"
      ]
     },
     "execution_count": 194,
     "metadata": {},
     "output_type": "execute_result"
    }
   ],
   "source": [
    "counts={}\n",
    "for col in no_odor.columns:\n",
    "    if col=='class':\n",
    "        continue\n",
    "    od=no_odor[['class',col]]\n",
    "    for row in od.values:\n",
    "        if col+'_'+row[1] not in counts:\n",
    "            counts[col+'_'+row[1]]={'EDIBLE':0,'POISONOUS':0}\n",
    "        counts[col+'_'+row[1]][row[0]]+=1\n",
    "counts"
   ]
  },
  {
   "cell_type": "code",
   "execution_count": 195,
   "metadata": {
    "collapsed": false
   },
   "outputs": [
    {
     "data": {
      "text/plain": [
       "[{'EDIBLE': 2496,\n",
       "  'POISONOUS': 0,\n",
       "  'col': 'stalk_shape_TAPERING',\n",
       "  'total': 2496},\n",
       " {'EDIBLE': 1344,\n",
       "  'POISONOUS': 0,\n",
       "  'col': 'spore_print_color_BROWN',\n",
       "  'total': 1344},\n",
       " {'EDIBLE': 1296,\n",
       "  'POISONOUS': 0,\n",
       "  'col': 'spore_print_color_BLACK',\n",
       "  'total': 1296},\n",
       " {'EDIBLE': 1032, 'POISONOUS': 0, 'col': 'cap_color_GRAY', 'total': 1032},\n",
       " {'EDIBLE': 968, 'POISONOUS': 0, 'col': 'population_SOLITARY', 'total': 968},\n",
       " {'EDIBLE': 864, 'POISONOUS': 0, 'col': 'stalk_root_EQUAL', 'total': 864},\n",
       " {'EDIBLE': 756, 'POISONOUS': 0, 'col': 'gill_color_PINK', 'total': 756},\n",
       " {'EDIBLE': 712, 'POISONOUS': 0, 'col': 'gill_color_BROWN', 'total': 712},\n",
       " {'EDIBLE': 624, 'POISONOUS': 0, 'col': 'cap_color_RED', 'total': 624},\n",
       " {'EDIBLE': 576,\n",
       "  'POISONOUS': 0,\n",
       "  'col': 'stalk_color_above_ring_GRAY',\n",
       "  'total': 576},\n",
       " {'EDIBLE': 576,\n",
       "  'POISONOUS': 0,\n",
       "  'col': 'stalk_color_below_ring_GRAY',\n",
       "  'total': 576},\n",
       " {'EDIBLE': 576,\n",
       "  'POISONOUS': 0,\n",
       "  'col': 'stalk_color_above_ring_PINK',\n",
       "  'total': 576},\n",
       " {'EDIBLE': 576,\n",
       "  'POISONOUS': 0,\n",
       "  'col': 'stalk_color_below_ring_PINK',\n",
       "  'total': 576},\n",
       " {'EDIBLE': 528, 'POISONOUS': 0, 'col': 'population_SCATTERED', 'total': 528},\n",
       " {'EDIBLE': 456,\n",
       "  'POISONOUS': 0,\n",
       "  'col': 'stalk_surface_below_ring_FIBROUS',\n",
       "  'total': 456},\n",
       " {'EDIBLE': 444, 'POISONOUS': 0, 'col': 'gill_color_PURPLE', 'total': 444},\n",
       " {'EDIBLE': 408,\n",
       "  'POISONOUS': 0,\n",
       "  'col': 'stalk_surface_above_ring_FIBROUS',\n",
       "  'total': 408},\n",
       " {'EDIBLE': 384, 'POISONOUS': 0, 'col': 'population_ABUNDANT', 'total': 384},\n",
       " {'EDIBLE': 216, 'POISONOUS': 0, 'col': 'gill_color_BLACK', 'total': 216},\n",
       " {'EDIBLE': 204, 'POISONOUS': 0, 'col': 'gill_color_CHOCOLATE', 'total': 204},\n",
       " {'EDIBLE': 192, 'POISONOUS': 0, 'col': 'habitat_WASTE', 'total': 192},\n",
       " {'EDIBLE': 192,\n",
       "  'POISONOUS': 0,\n",
       "  'col': 'gill_attachment_ATTACHED',\n",
       "  'total': 192},\n",
       " {'EDIBLE': 192,\n",
       "  'POISONOUS': 0,\n",
       "  'col': 'stalk_color_below_ring_ORANGE',\n",
       "  'total': 192},\n",
       " {'EDIBLE': 192,\n",
       "  'POISONOUS': 0,\n",
       "  'col': 'stalk_color_above_ring_ORANGE',\n",
       "  'total': 192},\n",
       " {'EDIBLE': 144, 'POISONOUS': 0, 'col': 'population_NUMEROUS', 'total': 144},\n",
       " {'EDIBLE': 144,\n",
       "  'POISONOUS': 0,\n",
       "  'col': 'stalk_surface_below_ring_SILKY',\n",
       "  'total': 144},\n",
       " {'EDIBLE': 96,\n",
       "  'POISONOUS': 0,\n",
       "  'col': 'stalk_color_below_ring_RED',\n",
       "  'total': 96},\n",
       " {'EDIBLE': 96, 'POISONOUS': 0, 'col': 'veil_color_BROWN', 'total': 96},\n",
       " {'EDIBLE': 96,\n",
       "  'POISONOUS': 0,\n",
       "  'col': 'stalk_color_above_ring_RED',\n",
       "  'total': 96},\n",
       " {'EDIBLE': 96, 'POISONOUS': 0, 'col': 'habitat_URBAN', 'total': 96},\n",
       " {'EDIBLE': 96, 'POISONOUS': 0, 'col': 'veil_color_ORANGE', 'total': 96},\n",
       " {'EDIBLE': 96, 'POISONOUS': 0, 'col': 'gill_color_RED', 'total': 96},\n",
       " {'EDIBLE': 0, 'POISONOUS': 72, 'col': 'spore_print_color_GREEN', 'total': 72},\n",
       " {'EDIBLE': 64, 'POISONOUS': 0, 'col': 'gill_color_ORANGE', 'total': 64},\n",
       " {'EDIBLE': 48,\n",
       "  'POISONOUS': 0,\n",
       "  'col': 'spore_print_color_YELLOW',\n",
       "  'total': 48},\n",
       " {'EDIBLE': 48,\n",
       "  'POISONOUS': 0,\n",
       "  'col': 'spore_print_color_ORANGE',\n",
       "  'total': 48},\n",
       " {'EDIBLE': 48, 'POISONOUS': 0, 'col': 'ring_type_FLARING', 'total': 48},\n",
       " {'EDIBLE': 48, 'POISONOUS': 0, 'col': 'spore_print_color_BUFF', 'total': 48},\n",
       " {'EDIBLE': 48,\n",
       "  'POISONOUS': 0,\n",
       "  'col': 'spore_print_color_CHOCOLATE',\n",
       "  'total': 48},\n",
       " {'EDIBLE': 40, 'POISONOUS': 0, 'col': 'habitat_PATHS', 'total': 40},\n",
       " {'EDIBLE': 0, 'POISONOUS': 36, 'col': 'habitat_MEADOWS', 'total': 36},\n",
       " {'EDIBLE': 32, 'POISONOUS': 0, 'col': 'cap_color_CINNAMON', 'total': 32},\n",
       " {'EDIBLE': 32, 'POISONOUS': 0, 'col': 'cap_shape_SUNKEN', 'total': 32},\n",
       " {'EDIBLE': 0, 'POISONOUS': 24, 'col': 'gill_color_GREEN', 'total': 24},\n",
       " {'EDIBLE': 0, 'POISONOUS': 24, 'col': 'cap_color_YELLOW', 'total': 24},\n",
       " {'EDIBLE': 0,\n",
       "  'POISONOUS': 24,\n",
       "  'col': 'stalk_color_below_ring_YELLOW',\n",
       "  'total': 24},\n",
       " {'EDIBLE': 16, 'POISONOUS': 0, 'col': 'cap_color_GREEN', 'total': 16},\n",
       " {'EDIBLE': 16, 'POISONOUS': 0, 'col': 'cap_color_PURPLE', 'total': 16},\n",
       " {'EDIBLE': 16,\n",
       "  'POISONOUS': 0,\n",
       "  'col': 'stalk_color_above_ring_BROWN',\n",
       "  'total': 16},\n",
       " {'EDIBLE': 0,\n",
       "  'POISONOUS': 8,\n",
       "  'col': 'stalk_color_above_ring_YELLOW',\n",
       "  'total': 8},\n",
       " {'EDIBLE': 0, 'POISONOUS': 8, 'col': 'stalk_root_CLUB', 'total': 8},\n",
       " {'EDIBLE': 0, 'POISONOUS': 8, 'col': 'veil_color_YELLOW', 'total': 8},\n",
       " {'EDIBLE': 0, 'POISONOUS': 4, 'col': 'cap_shape_CONICAL', 'total': 4},\n",
       " {'EDIBLE': 0, 'POISONOUS': 4, 'col': 'cap_surface_GROOVES', 'total': 4}]"
      ]
     },
     "execution_count": 195,
     "metadata": {},
     "output_type": "execute_result"
    }
   ],
   "source": [
    "interesting = []\n",
    "for t in counts:\n",
    "    if counts[t]['EDIBLE']==0 or counts[t]['POISONOUS']==0:\n",
    "        counts[t]['col']=t\n",
    "        counts[t]['total']=counts[t]['EDIBLE']+counts[t]['POISONOUS']\n",
    "        interesting.append(counts[t])\n",
    "#interesting=array(interesting)\n",
    "from operator import itemgetter\n",
    "sorted(interesting, key=itemgetter('total'),reverse=True)"
   ]
  },
  {
   "cell_type": "code",
   "execution_count": null,
   "metadata": {
    "collapsed": true
   },
   "outputs": [],
   "source": []
  }
 ],
 "metadata": {
  "kernelspec": {
   "display_name": "Python 3",
   "language": "python",
   "name": "python3"
  },
  "language_info": {
   "codemirror_mode": {
    "name": "ipython",
    "version": 3
   },
   "file_extension": ".py",
   "mimetype": "text/x-python",
   "name": "python",
   "nbconvert_exporter": "python",
   "pygments_lexer": "ipython3",
   "version": "3.5.2"
  }
 },
 "nbformat": 4,
 "nbformat_minor": 0
}
