{
 "cells": [
  {
   "cell_type": "code",
   "execution_count": 2,
   "metadata": {
    "collapsed": false
   },
   "outputs": [
    {
     "data": {
      "text/html": [
       "<style>body {\n",
       "    margin: 0;\n",
       "    font-family: Helvetica;\n",
       "}\n",
       "table.dataframe {\n",
       "    border-collapse: collapse;\n",
       "    border: none;\n",
       "}\n",
       "table.dataframe tr {\n",
       "    border: none;\n",
       "}\n",
       "table.dataframe td, table.dataframe th {\n",
       "    margin: 0;\n",
       "    border: 1px solid white;\n",
       "    padding-left: 0.25em;\n",
       "    padding-right: 0.25em;\n",
       "}\n",
       "table.dataframe th:not(:empty) {\n",
       "    background-color: #fec;\n",
       "    text-align: left;\n",
       "    font-weight: normal;\n",
       "}\n",
       "table.dataframe tr:nth-child(2) th:empty {\n",
       "    border-left: none;\n",
       "    border-right: 1px dashed #888;\n",
       "}\n",
       "table.dataframe td {\n",
       "    border: 2px solid #ccf;\n",
       "    background-color: #f4f4ff;\n",
       "}\n",
       "h3 {\n",
       "    color: white;\n",
       "    background-color: black;\n",
       "    padding: 0.5em;\n",
       "}\n",
       "</style>"
      ],
      "text/plain": [
       "<IPython.core.display.HTML object>"
      ]
     },
     "execution_count": 2,
     "metadata": {},
     "output_type": "execute_result"
    }
   ],
   "source": [
    "from IPython.core.display import HTML\n",
    "css = open('style-table.css').read() + open('style-notebook.css').read()\n",
    "HTML('<style>{}</style>'.format(css))"
   ]
  },
  {
   "cell_type": "code",
   "execution_count": 3,
   "metadata": {
    "collapsed": false
   },
   "outputs": [
    {
     "data": {
      "text/plain": [
       "8124"
      ]
     },
     "execution_count": 3,
     "metadata": {},
     "output_type": "execute_result"
    }
   ],
   "source": [
    "import pandas as pd\n",
    "mdata = pd.DataFrame.from_csv('mdata/expanded.csv',index_col=False).drop_duplicates()\n",
    "len(mdata.values)"
   ]
  },
  {
   "cell_type": "code",
   "execution_count": 4,
   "metadata": {
    "collapsed": false
   },
   "outputs": [
    {
     "data": {
      "text/plain": [
       "5644"
      ]
     },
     "execution_count": 4,
     "metadata": {},
     "output_type": "execute_result"
    }
   ],
   "source": [
    "#create dataset of complete rows\n",
    "complete=mdata[mdata.stalk_root!='?'].drop_duplicates()\n",
    "len(complete.values)"
   ]
  },
  {
   "cell_type": "code",
   "execution_count": 5,
   "metadata": {
    "collapsed": false
   },
   "outputs": [
    {
     "data": {
      "text/html": [
       "<div>\n",
       "<table border=\"1\" class=\"dataframe\">\n",
       "  <thead>\n",
       "    <tr style=\"text-align: right;\">\n",
       "      <th></th>\n",
       "      <th>class</th>\n",
       "      <th>cap_shape</th>\n",
       "      <th>cap_surface</th>\n",
       "      <th>cap_color</th>\n",
       "      <th>bruises</th>\n",
       "      <th>odor</th>\n",
       "      <th>gill_attachment</th>\n",
       "      <th>gill_spacing</th>\n",
       "      <th>gill_size</th>\n",
       "      <th>gill_color</th>\n",
       "      <th>...</th>\n",
       "      <th>stalk_surface_below_ring</th>\n",
       "      <th>stalk_color_above_ring</th>\n",
       "      <th>stalk_color_below_ring</th>\n",
       "      <th>veil_type</th>\n",
       "      <th>veil_color</th>\n",
       "      <th>ring_number</th>\n",
       "      <th>ring_type</th>\n",
       "      <th>spore_print_color</th>\n",
       "      <th>population</th>\n",
       "      <th>habitat</th>\n",
       "    </tr>\n",
       "  </thead>\n",
       "  <tbody>\n",
       "    <tr>\n",
       "      <th>0</th>\n",
       "      <td>EDIBLE</td>\n",
       "      <td>CONVEX</td>\n",
       "      <td>SMOOTH</td>\n",
       "      <td>WHITE</td>\n",
       "      <td>BRUISES</td>\n",
       "      <td>ALMOND</td>\n",
       "      <td>FREE</td>\n",
       "      <td>CROWDED</td>\n",
       "      <td>NARROW</td>\n",
       "      <td>WHITE</td>\n",
       "      <td>...</td>\n",
       "      <td>SMOOTH</td>\n",
       "      <td>WHITE</td>\n",
       "      <td>WHITE</td>\n",
       "      <td>PARTIAL</td>\n",
       "      <td>WHITE</td>\n",
       "      <td>ONE</td>\n",
       "      <td>PENDANT</td>\n",
       "      <td>PURPLE</td>\n",
       "      <td>SEVERAL</td>\n",
       "      <td>WOODS</td>\n",
       "    </tr>\n",
       "  </tbody>\n",
       "</table>\n",
       "<p>1 rows × 23 columns</p>\n",
       "</div>"
      ],
      "text/plain": [
       "    class cap_shape cap_surface cap_color  bruises    odor gill_attachment  \\\n",
       "0  EDIBLE    CONVEX      SMOOTH     WHITE  BRUISES  ALMOND            FREE   \n",
       "\n",
       "  gill_spacing gill_size gill_color   ...   stalk_surface_below_ring  \\\n",
       "0      CROWDED    NARROW      WHITE   ...                     SMOOTH   \n",
       "\n",
       "  stalk_color_above_ring stalk_color_below_ring veil_type veil_color  \\\n",
       "0                  WHITE                  WHITE   PARTIAL      WHITE   \n",
       "\n",
       "  ring_number ring_type spore_print_color population habitat  \n",
       "0         ONE   PENDANT            PURPLE    SEVERAL   WOODS  \n",
       "\n",
       "[1 rows x 23 columns]"
      ]
     },
     "execution_count": 5,
     "metadata": {},
     "output_type": "execute_result"
    }
   ],
   "source": [
    "mdata.head(1)"
   ]
  },
  {
   "cell_type": "code",
   "execution_count": 6,
   "metadata": {
    "collapsed": false
   },
   "outputs": [
    {
     "data": {
      "text/html": [
       "<div>\n",
       "<table border=\"1\" class=\"dataframe\">\n",
       "  <thead>\n",
       "    <tr style=\"text-align: right;\">\n",
       "      <th></th>\n",
       "      <th>class</th>\n",
       "      <th>cap_shape</th>\n",
       "      <th>cap_surface</th>\n",
       "      <th>cap_color</th>\n",
       "      <th>bruises</th>\n",
       "      <th>odor</th>\n",
       "      <th>gill_attachment</th>\n",
       "      <th>gill_spacing</th>\n",
       "      <th>gill_size</th>\n",
       "      <th>gill_color</th>\n",
       "      <th>...</th>\n",
       "      <th>stalk_surface_below_ring</th>\n",
       "      <th>stalk_color_above_ring</th>\n",
       "      <th>stalk_color_below_ring</th>\n",
       "      <th>veil_type</th>\n",
       "      <th>veil_color</th>\n",
       "      <th>ring_number</th>\n",
       "      <th>ring_type</th>\n",
       "      <th>spore_print_color</th>\n",
       "      <th>population</th>\n",
       "      <th>habitat</th>\n",
       "    </tr>\n",
       "  </thead>\n",
       "  <tbody>\n",
       "    <tr>\n",
       "      <th>0</th>\n",
       "      <td>EDIBLE</td>\n",
       "      <td>CONVEX</td>\n",
       "      <td>SMOOTH</td>\n",
       "      <td>WHITE</td>\n",
       "      <td>BRUISES</td>\n",
       "      <td>ALMOND</td>\n",
       "      <td>FREE</td>\n",
       "      <td>CROWDED</td>\n",
       "      <td>NARROW</td>\n",
       "      <td>WHITE</td>\n",
       "      <td>...</td>\n",
       "      <td>SMOOTH</td>\n",
       "      <td>WHITE</td>\n",
       "      <td>WHITE</td>\n",
       "      <td>PARTIAL</td>\n",
       "      <td>WHITE</td>\n",
       "      <td>ONE</td>\n",
       "      <td>PENDANT</td>\n",
       "      <td>PURPLE</td>\n",
       "      <td>SEVERAL</td>\n",
       "      <td>WOODS</td>\n",
       "    </tr>\n",
       "  </tbody>\n",
       "</table>\n",
       "<p>1 rows × 22 columns</p>\n",
       "</div>"
      ],
      "text/plain": [
       "    class cap_shape cap_surface cap_color  bruises    odor gill_attachment  \\\n",
       "0  EDIBLE    CONVEX      SMOOTH     WHITE  BRUISES  ALMOND            FREE   \n",
       "\n",
       "  gill_spacing gill_size gill_color   ...   stalk_surface_below_ring  \\\n",
       "0      CROWDED    NARROW      WHITE   ...                     SMOOTH   \n",
       "\n",
       "  stalk_color_above_ring stalk_color_below_ring veil_type veil_color  \\\n",
       "0                  WHITE                  WHITE   PARTIAL      WHITE   \n",
       "\n",
       "  ring_number ring_type spore_print_color population habitat  \n",
       "0         ONE   PENDANT            PURPLE    SEVERAL   WOODS  \n",
       "\n",
       "[1 rows x 22 columns]"
      ]
     },
     "execution_count": 6,
     "metadata": {},
     "output_type": "execute_result"
    }
   ],
   "source": [
    "#create dataset with column of missing values removed\n",
    "roots = mdata.stalk_root\n",
    "ignore_roots=mdata.drop('stalk_root',1)\n",
    "ignore_roots.head(1)"
   ]
  },
  {
   "cell_type": "code",
   "execution_count": 7,
   "metadata": {
    "collapsed": false
   },
   "outputs": [],
   "source": [
    "#split data and target\n",
    "target = ignore_roots['class']\n",
    "data = ignore_roots.drop('class',1)"
   ]
  },
  {
   "cell_type": "code",
   "execution_count": 8,
   "metadata": {
    "collapsed": true
   },
   "outputs": [],
   "source": [
    "from sklearn.feature_extraction import DictVectorizer\n",
    "v = DictVectorizer(sparse=False)\n"
   ]
  },
  {
   "cell_type": "code",
   "execution_count": 9,
   "metadata": {
    "collapsed": false
   },
   "outputs": [],
   "source": [
    "data_dict = data.to_dict('records')"
   ]
  },
  {
   "cell_type": "code",
   "execution_count": 10,
   "metadata": {
    "collapsed": false
   },
   "outputs": [
    {
     "data": {
      "text/plain": [
       "8124"
      ]
     },
     "execution_count": 10,
     "metadata": {},
     "output_type": "execute_result"
    }
   ],
   "source": [
    "#encode target class as 0 or 1\n",
    "target_list=[]\n",
    "for c in target.values:\n",
    "    if c=='EDIBLE': \n",
    "        target_list.append(0)\n",
    "    else :\n",
    "        target_list.append(1)\n",
    "len(target_list)\n",
    "\n",
    "#target_dict = target.to_dict('records')"
   ]
  },
  {
   "cell_type": "code",
   "execution_count": 11,
   "metadata": {
    "collapsed": false
   },
   "outputs": [
    {
     "data": {
      "text/plain": [
       "8124"
      ]
     },
     "execution_count": 11,
     "metadata": {},
     "output_type": "execute_result"
    }
   ],
   "source": [
    "#hot encode attributes\n",
    "enc_data = v.fit_transform(data_dict)\n",
    "len(enc_data)"
   ]
  },
  {
   "cell_type": "code",
   "execution_count": 12,
   "metadata": {
    "collapsed": false
   },
   "outputs": [
    {
     "data": {
      "text/plain": [
       "array([[ 1.,  0.,  0., ...,  1.,  0.,  1.],\n",
       "       [ 1.,  0.,  0., ...,  1.,  0.,  1.],\n",
       "       [ 1.,  0.,  0., ...,  1.,  0.,  1.],\n",
       "       ..., \n",
       "       [ 0.,  1.,  1., ...,  0.,  0.,  1.],\n",
       "       [ 0.,  1.,  1., ...,  0.,  0.,  1.],\n",
       "       [ 0.,  1.,  1., ...,  0.,  0.,  1.]])"
      ]
     },
     "execution_count": 12,
     "metadata": {},
     "output_type": "execute_result"
    }
   ],
   "source": [
    "enc_data"
   ]
  },
  {
   "cell_type": "code",
   "execution_count": 13,
   "metadata": {
    "collapsed": false
   },
   "outputs": [],
   "source": [
    "from numpy import array\n",
    "target_array = array(target_list)"
   ]
  },
  {
   "cell_type": "code",
   "execution_count": 14,
   "metadata": {
    "collapsed": false
   },
   "outputs": [
    {
     "name": "stdout",
     "output_type": "stream",
     "text": [
      "Number of mislabeled points out of a total 8124 points : 91\n"
     ]
    }
   ],
   "source": [
    "#show naive bayes fit on total data set\n",
    "from sklearn.naive_bayes import GaussianNB\n",
    "gnb = GaussianNB()\n",
    "y_pred = gnb.fit(enc_data, target_array).predict(enc_data)\n",
    "print(\"Number of mislabeled points out of a total %d points : %d\" % (enc_data.shape[0],(target_array != y_pred).sum()))\n"
   ]
  },
  {
   "cell_type": "code",
   "execution_count": 47,
   "metadata": {
    "collapsed": false
   },
   "outputs": [],
   "source": [
    "#generate random sample from data\n",
    "import random\n",
    "import math\n",
    "random.seed(31415)\n",
    "test_ids=random.sample(range(0, len(enc_data)), math.floor(len(enc_data)*.3))"
   ]
  },
  {
   "cell_type": "code",
   "execution_count": 48,
   "metadata": {
    "collapsed": false
   },
   "outputs": [],
   "source": [
    "#split data into training set and test set\n",
    "train_data=[]\n",
    "test_data=[]\n",
    "train_target=[]\n",
    "test_target=[]\n",
    "for i in range(len(enc_data)):\n",
    "    if i in test_ids:\n",
    "        test_data.append(enc_data[i])\n",
    "        test_target.append(target_array[i])\n",
    "    else:\n",
    "        train_data.append(enc_data[i])\n",
    "        train_target.append(target_array[i])\n",
    "        \n"
   ]
  },
  {
   "cell_type": "code",
   "execution_count": 49,
   "metadata": {
    "collapsed": false
   },
   "outputs": [],
   "source": [
    "len(train_data)\n",
    "train_data=array(train_data)"
   ]
  },
  {
   "cell_type": "code",
   "execution_count": 50,
   "metadata": {
    "collapsed": false
   },
   "outputs": [
    {
     "name": "stdout",
     "output_type": "stream",
     "text": [
      "Number of mislabeled points out of a total 2437 points : 24\n"
     ]
    }
   ],
   "source": [
    "#accuracy of naive bayes based on training set\n",
    "new_pred = gnb.fit(train_data, train_target).predict(test_data)\n",
    "print(\"Number of mislabeled points out of a total %d points : %d\" % (len(test_data),(test_target != new_pred).sum()))\n"
   ]
  },
  {
   "cell_type": "code",
   "execution_count": 55,
   "metadata": {
    "collapsed": true
   },
   "outputs": [],
   "source": [
    "#repeat with complete rows\n",
    "target = complete['class']\n",
    "data = complete.drop('class',1)"
   ]
  },
  {
   "cell_type": "code",
   "execution_count": 56,
   "metadata": {
    "collapsed": false
   },
   "outputs": [
    {
     "data": {
      "text/plain": [
       "5644"
      ]
     },
     "execution_count": 56,
     "metadata": {},
     "output_type": "execute_result"
    }
   ],
   "source": [
    "#encode target class as 0 or 1\n",
    "target_list=[]\n",
    "for c in target.values:\n",
    "    if c=='EDIBLE': \n",
    "        target_list.append(0)\n",
    "    else :\n",
    "        target_list.append(1)\n",
    "len(target_list)\n"
   ]
  },
  {
   "cell_type": "code",
   "execution_count": 59,
   "metadata": {
    "collapsed": true
   },
   "outputs": [],
   "source": [
    "target_array = array(target_list)"
   ]
  },
  {
   "cell_type": "code",
   "execution_count": 60,
   "metadata": {
    "collapsed": false
   },
   "outputs": [
    {
     "data": {
      "text/plain": [
       "5644"
      ]
     },
     "execution_count": 60,
     "metadata": {},
     "output_type": "execute_result"
    }
   ],
   "source": [
    "data_dict = data.to_dict('records')\n",
    "enc_data = v.fit_transform(data_dict)\n",
    "len(enc_data)"
   ]
  },
  {
   "cell_type": "code",
   "execution_count": 61,
   "metadata": {
    "collapsed": false
   },
   "outputs": [
    {
     "name": "stdout",
     "output_type": "stream",
     "text": [
      "Number of mislabeled points out of a total 5644 points : 8\n"
     ]
    }
   ],
   "source": [
    "y_pred = gnb.fit(enc_data, target_array).predict(enc_data)\n",
    "print(\"Number of mislabeled points out of a total %d points : %d\" % (enc_data.shape[0],(target_array != y_pred).sum()))\n"
   ]
  },
  {
   "cell_type": "code",
   "execution_count": 63,
   "metadata": {
    "collapsed": true
   },
   "outputs": [],
   "source": [
    "random.seed(31415)\n",
    "test_ids=random.sample(range(0, len(enc_data)), math.floor(len(enc_data)*.3))"
   ]
  },
  {
   "cell_type": "code",
   "execution_count": 64,
   "metadata": {
    "collapsed": true
   },
   "outputs": [],
   "source": [
    "#split data into training set and test set\n",
    "train_data=[]\n",
    "test_data=[]\n",
    "train_target=[]\n",
    "test_target=[]\n",
    "for i in range(len(enc_data)):\n",
    "    if i in test_ids:\n",
    "        test_data.append(enc_data[i])\n",
    "        test_target.append(target_array[i])\n",
    "    else:\n",
    "        train_data.append(enc_data[i])\n",
    "        train_target.append(target_array[i])"
   ]
  },
  {
   "cell_type": "code",
   "execution_count": 65,
   "metadata": {
    "collapsed": true
   },
   "outputs": [],
   "source": [
    "len(train_data)\n",
    "train_data=array(train_data)"
   ]
  },
  {
   "cell_type": "code",
   "execution_count": 66,
   "metadata": {
    "collapsed": false
   },
   "outputs": [
    {
     "name": "stdout",
     "output_type": "stream",
     "text": [
      "Number of mislabeled points out of a total 1693 points : 13\n"
     ]
    }
   ],
   "source": [
    "#accuracy of naive bayes based on training set\n",
    "new_pred = gnb.fit(train_data, train_target).predict(test_data)\n",
    "print(\"Number of mislabeled points out of a total %d points : %d\" % (len(test_data),(test_target != new_pred).sum()))\n"
   ]
  },
  {
   "cell_type": "code",
   "execution_count": null,
   "metadata": {
    "collapsed": true
   },
   "outputs": [],
   "source": []
  }
 ],
 "metadata": {
  "kernelspec": {
   "display_name": "Python 3",
   "language": "python",
   "name": "python3"
  },
  "language_info": {
   "codemirror_mode": {
    "name": "ipython",
    "version": 3
   },
   "file_extension": ".py",
   "mimetype": "text/x-python",
   "name": "python",
   "nbconvert_exporter": "python",
   "pygments_lexer": "ipython3",
   "version": "3.5.2"
  }
 },
 "nbformat": 4,
 "nbformat_minor": 0
}
